{
 "cells": [
  {
   "cell_type": "code",
   "execution_count": 1,
   "metadata": {},
   "outputs": [
    {
     "ename": "RuntimeError",
     "evalue": "module compiled against API version 0xb but this version of numpy is 0xa",
     "output_type": "error",
     "traceback": [
      "\u001b[0;31m---------------------------------------------------------------------------\u001b[0m",
      "\u001b[0;31mRuntimeError\u001b[0m                              Traceback (most recent call last)",
      "\u001b[0;31mRuntimeError\u001b[0m: module compiled against API version 0xb but this version of numpy is 0xa"
     ]
    },
    {
     "ename": "RuntimeError",
     "evalue": "module compiled against API version 0xb but this version of numpy is 0xa",
     "output_type": "error",
     "traceback": [
      "\u001b[0;31m---------------------------------------------------------------------------\u001b[0m",
      "\u001b[0;31mRuntimeError\u001b[0m                              Traceback (most recent call last)",
      "\u001b[0;31mRuntimeError\u001b[0m: module compiled against API version 0xb but this version of numpy is 0xa"
     ]
    }
   ],
   "source": [
    "import gpflow\n",
    "import numpy as np\n",
    "import pandas as pd\n",
    "import matplotlib.pyplot as plt\n",
    "%matplotlib inline\n",
    "import seaborn as sns\n",
    "sns.set_style(\"white\")\n",
    "sns.set_context(\"paper\", font_scale=1.4)\n",
    "import sys\n",
    "sys.path.append('../')\n",
    "from GPCollabPrefAct import real_occ_collab_gpmc"
   ]
  },
  {
   "cell_type": "code",
   "execution_count": 2,
   "metadata": {
    "collapsed": true
   },
   "outputs": [],
   "source": [
    "action_data_file = '../data/raw_data/main_actions_data.xlsx'"
   ]
  },
  {
   "cell_type": "code",
   "execution_count": 3,
   "metadata": {
    "collapsed": true
   },
   "outputs": [],
   "source": [
    "main_data = pd.read_excel(open(action_data_file, 'rb'), sheet_name = 0)"
   ]
  },
  {
   "cell_type": "code",
   "execution_count": 4,
   "metadata": {},
   "outputs": [],
   "source": [
    "pref_rel_actions = main_data[main_data['Want more view'] == 0]\n",
    "pref_rel_actions = pref_rel_actions[pref_rel_actions['Want more privacy'] == 0]"
   ]
  },
  {
   "cell_type": "code",
   "execution_count": 5,
   "metadata": {
    "collapsed": true
   },
   "outputs": [],
   "source": [
    "all_occ_wi_prev = pref_rel_actions['work plane illuminance before action']\n",
    "all_occ_wi_cur = pref_rel_actions['work plane illuminance after action']"
   ]
  },
  {
   "cell_type": "code",
   "execution_count": 6,
   "metadata": {
    "collapsed": true
   },
   "outputs": [],
   "source": [
    "concat_all_occ_wi = np.hstack([all_occ_wi_cur, all_occ_wi_prev])\n",
    "wi_mean = np.mean(concat_all_occ_wi) \n",
    "wi_std = np.std(concat_all_occ_wi)"
   ]
  },
  {
   "cell_type": "code",
   "execution_count": 7,
   "metadata": {},
   "outputs": [
    {
     "name": "stdout",
     "output_type": "stream",
     "text": [
      "mean WI:\n",
      "924.908411215\n",
      "std mean:\n",
      "570.281070006\n"
     ]
    }
   ],
   "source": [
    "print 'mean WI:'\n",
    "print wi_mean\n",
    "print 'std mean:'\n",
    "print wi_std"
   ]
  },
  {
   "cell_type": "code",
   "execution_count": 8,
   "metadata": {
    "collapsed": true
   },
   "outputs": [],
   "source": [
    "norm1 = (concat_all_occ_wi - 1200)/1200"
   ]
  },
  {
   "cell_type": "code",
   "execution_count": 9,
   "metadata": {
    "collapsed": true
   },
   "outputs": [],
   "source": [
    "occ_ids = np.unique(np.array(pref_rel_actions[['Occupant ID']]))"
   ]
  },
  {
   "cell_type": "code",
   "execution_count": 10,
   "metadata": {
    "collapsed": true
   },
   "outputs": [],
   "source": [
    "pref_rel_actions_data_list = []\n",
    "pref_rel_actions_data_norm_list = []\n",
    "for occ in occ_ids:\n",
    "    wi_prev = np.array(pref_rel_actions[pref_rel_actions.iloc[:,0] == occ][['work plane illuminance before action']])\n",
    "    wi_after = np.array(pref_rel_actions[pref_rel_actions.iloc[:,0] == occ][['work plane illuminance after action']])\n",
    "    pref_rel_actions_mat = np.hstack([wi_prev, wi_after])\n",
    "    pref_rel_actions_norm_mat = (pref_rel_actions_mat - wi_mean)/wi_std\n",
    "    \n",
    "    pref_rel_actions_data_list.append(pref_rel_actions_mat)\n",
    "    pref_rel_actions_data_norm_list.append(pref_rel_actions_norm_mat)"
   ]
  },
  {
   "cell_type": "code",
   "execution_count": 11,
   "metadata": {},
   "outputs": [
    {
     "data": {
      "text/plain": [
       "array([[-0.21902956, -0.78892398],\n",
       "       [ 1.37649947, -1.08386626],\n",
       "       [-1.27114234, -0.90535779],\n",
       "       [ 0.4031198 , -0.55973875],\n",
       "       [ 0.20847893, -0.94218174]])"
      ]
     },
     "execution_count": 11,
     "metadata": {},
     "output_type": "execute_result"
    }
   ],
   "source": [
    "pref_rel_actions_data_norm_list[2]"
   ]
  },
  {
   "cell_type": "code",
   "execution_count": 12,
   "metadata": {
    "collapsed": true
   },
   "outputs": [],
   "source": [
    "X_unique = np.unique(concat_all_occ_wi)\n",
    "X_grid = np.sort(X_unique)\n",
    "X_grid_norm = (X_grid - wi_mean)/wi_std"
   ]
  },
  {
   "cell_type": "code",
   "execution_count": 90,
   "metadata": {
    "collapsed": true
   },
   "outputs": [],
   "source": [
    "def occ_prev_cur_action_ind(action_data_matrix, X_grid):\n",
    "    \"\"\"\n",
    "    Inputs:\n",
    "    actions_data_matrix : action data matrix (X_prev, X_current)\n",
    "    Outputs:\n",
    "    Concatenation of [X_cur, X_prev]\n",
    "    Index of action data in X_grid\n",
    "    \"\"\"\n",
    "    prev = action_data_matrix[:,0][:,None]\n",
    "    cur = action_data_matrix[:,1][:,None]\n",
    "    \n",
    "    grid_sorted = np.argsort(X_grid)\n",
    "    \n",
    "    ypos_prev = np.searchsorted(X_grid[grid_sorted], prev)\n",
    "    prev_ind = grid_sorted[ypos_prev]\n",
    "    \n",
    "    ypos_cur = np.searchsorted(X_grid[grid_sorted], cur)\n",
    "    cur_ind = grid_sorted[ypos_cur]\n",
    "    \n",
    "    return prev_ind, cur_ind\n",
    "\n",
    "def all_occ_prev_cur_act_ind(action_data_matrix_list, X_grid):\n",
    "    \"\"\"\n",
    "    Inputs:\n",
    "    action_data_matrix_list : list of all actions' data matrix (num_list = number of occupants)\n",
    "    Outputs: \n",
    "    prev_ind_list : previous feature indices list\n",
    "    cur_ind_list : current feature indices list\n",
    "    \"\"\"\n",
    "    prev_ind_list = []\n",
    "    cur_ind_list = []\n",
    "    for i, mat in enumerate(action_data_matrix_list):\n",
    "        prev_ind, cur_ind =  occ_prev_cur_action_ind(mat, X_grid)\n",
    "        prev_ind_list.append(prev_ind[:,0])\n",
    "        cur_ind_list.append(cur_ind[:,0])\n",
    "    \n",
    "    return prev_ind_list, cur_ind_list\n",
    "\n",
    "\n",
    "def gather_concerned_utilities(utility_matrix, concerned_ind_mat):\n",
    "    \"\"\"\n",
    "    Gather concerned utility function values for each occupant\n",
    "    \"\"\"\n",
    "    \n",
    "    splits = tf.split(concerned_ind_mat, num_or_size_splits=concerned_ind_mat.shape[1],axis = 1)\n",
    "    res_list = []\n",
    "    for i,s in enumerate(splits):\n",
    "        #print i\n",
    "        idx = tf.stack([tf.reshape(tf.range(utility_matrix.shape[0]), (-1,1)), tf.to_int32(s)], axis=-1)\n",
    "        res = tf.gather_nd(utility_matrix, idx)\n",
    "        res_flatten = tf.reshape(res, [-1])\n",
    "        res_list.append(res_flatten)\n",
    "    concerned_mat = tf.transpose(tf.stack(res_list)) \n",
    "    return concerned_mat\n",
    "\n",
    "def select_specific_column_indices(ind_list):\n",
    "    \"\"\"\n",
    "    Select specific column indices corresponding to specific row indices \n",
    "    Inputs:\n",
    "    ind_list : list of features (previous or current) of all occupants\n",
    "    Outputs:\n",
    "    rel_tf_ind : relevant tensor for selecting specific columns from each rows.\n",
    "    \"\"\"\n",
    "    total_ind_list = []\n",
    "    for i in xrange(len(ind_list)):\n",
    "        col = ind_list[i]\n",
    "        row = np.repeat(i, col.shape[0])\n",
    "        c_tf = tf.constant(col)\n",
    "        r_tf = tf.constant(row)\n",
    "        full_ind = tf.stack([r_tf, c_tf], axis=1)\n",
    "        total_ind_list.append(full_ind)\n",
    "    total_ind_tf = tf.concat(total_ind_list, 0)\n",
    "    return total_ind_tf"
   ]
  },
  {
   "cell_type": "code",
   "execution_count": 91,
   "metadata": {},
   "outputs": [],
   "source": [
    "prev_ind_list, cur_ind_list = all_occ_prev_cur_act_ind(pref_rel_actions_data_norm_list, X_grid_norm)"
   ]
  },
  {
   "cell_type": "code",
   "execution_count": 92,
   "metadata": {
    "collapsed": true
   },
   "outputs": [],
   "source": [
    "c0 = prev_ind_list[0]\n",
    "r0 = np.repeat(0, c0.shape[0])"
   ]
  },
  {
   "cell_type": "code",
   "execution_count": 93,
   "metadata": {},
   "outputs": [],
   "source": [
    "c0_tf = tf.constant(c0)\n",
    "r0_tf = tf.constant(r0)\n",
    "\n",
    "# zip row indices with column indices\n",
    "full_indices = tf.stack([r0_tf, c0_tf], axis=1)"
   ]
  },
  {
   "cell_type": "code",
   "execution_count": null,
   "metadata": {},
   "outputs": [],
   "source": []
  },
  {
   "cell_type": "code",
   "execution_count": 94,
   "metadata": {},
   "outputs": [],
   "source": [
    "U_rand = np.random.rand(len(prev_ind_list), X_grid_norm.shape[0])\n",
    "U_rand_tf = tf.constant(U_rand)"
   ]
  },
  {
   "cell_type": "code",
   "execution_count": 95,
   "metadata": {
    "collapsed": true
   },
   "outputs": [],
   "source": [
    "# retrieve values by indices\n",
    "S = tf.gather_nd(U_rand_tf, full_indices)"
   ]
  },
  {
   "cell_type": "code",
   "execution_count": 100,
   "metadata": {},
   "outputs": [],
   "source": [
    "with tf.Session() as sess:\n",
    "    r = sess.run(full_indices) "
   ]
  },
  {
   "cell_type": "code",
   "execution_count": 101,
   "metadata": {},
   "outputs": [
    {
     "data": {
      "text/plain": [
       "(18, 203)"
      ]
     },
     "execution_count": 101,
     "metadata": {},
     "output_type": "execute_result"
    }
   ],
   "source": [
    "U_rand.shape"
   ]
  },
  {
   "cell_type": "code",
   "execution_count": 102,
   "metadata": {},
   "outputs": [
    {
     "data": {
      "text/plain": [
       "array([[  0, 124],\n",
       "       [  0, 112],\n",
       "       [  0, 182],\n",
       "       [  0, 181],\n",
       "       [  0, 161]])"
      ]
     },
     "execution_count": 102,
     "metadata": {},
     "output_type": "execute_result"
    }
   ],
   "source": [
    "r"
   ]
  },
  {
   "cell_type": "code",
   "execution_count": 99,
   "metadata": {},
   "outputs": [
    {
     "data": {
      "text/plain": [
       "array([[ 0.58854182,  0.4883495 ,  0.21037302, ...,  0.78137175,\n",
       "         0.60959749,  0.38598877],\n",
       "       [ 0.17491417,  0.8128926 ,  0.76049504, ...,  0.95131795,\n",
       "         0.74172892,  0.51153681],\n",
       "       [ 0.66726628,  0.32845021,  0.11003151, ...,  0.65608771,\n",
       "         0.51692825,  0.54678772],\n",
       "       ..., \n",
       "       [ 0.24604927,  0.37853385,  0.62248287, ...,  0.89509411,\n",
       "         0.92576436,  0.53124018],\n",
       "       [ 0.26549097,  0.3310179 ,  0.44513419, ...,  0.7662796 ,\n",
       "         0.91222416,  0.88875561],\n",
       "       [ 0.96999876,  0.36962128,  0.19786497, ...,  0.0432488 ,\n",
       "         0.91705136,  0.44370435]])"
      ]
     },
     "execution_count": 99,
     "metadata": {},
     "output_type": "execute_result"
    }
   ],
   "source": [
    "U_rand"
   ]
  },
  {
   "cell_type": "code",
   "execution_count": null,
   "metadata": {
    "collapsed": true
   },
   "outputs": [],
   "source": []
  }
 ],
 "metadata": {
  "kernelspec": {
   "display_name": "Python [default]",
   "language": "python",
   "name": "python2"
  },
  "language_info": {
   "codemirror_mode": {
    "name": "ipython",
    "version": 2
   },
   "file_extension": ".py",
   "mimetype": "text/x-python",
   "name": "python",
   "nbconvert_exporter": "python",
   "pygments_lexer": "ipython2",
   "version": "2.7.14"
  }
 },
 "nbformat": 4,
 "nbformat_minor": 2
}
