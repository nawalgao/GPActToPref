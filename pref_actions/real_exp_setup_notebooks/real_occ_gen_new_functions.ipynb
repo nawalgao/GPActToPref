{
 "cells": [
  {
   "cell_type": "code",
   "execution_count": 1,
   "metadata": {},
   "outputs": [
    {
     "ename": "RuntimeError",
     "evalue": "module compiled against API version 0xb but this version of numpy is 0xa",
     "output_type": "error",
     "traceback": [
      "\u001b[0;31m---------------------------------------------------------------------------\u001b[0m",
      "\u001b[0;31mRuntimeError\u001b[0m                              Traceback (most recent call last)",
      "\u001b[0;31mRuntimeError\u001b[0m: module compiled against API version 0xb but this version of numpy is 0xa"
     ]
    },
    {
     "ename": "RuntimeError",
     "evalue": "module compiled against API version 0xb but this version of numpy is 0xa",
     "output_type": "error",
     "traceback": [
      "\u001b[0;31m---------------------------------------------------------------------------\u001b[0m",
      "\u001b[0;31mRuntimeError\u001b[0m                              Traceback (most recent call last)",
      "\u001b[0;31mRuntimeError\u001b[0m: module compiled against API version 0xb but this version of numpy is 0xa"
     ]
    }
   ],
   "source": [
    "import gpflow\n",
    "import numpy as np\n",
    "import pandas as pd\n",
    "import matplotlib.pyplot as plt\n",
    "%matplotlib inline\n",
    "import seaborn as sns\n",
    "sns.set_style(\"white\")\n",
    "sns.set_context(\"paper\", font_scale=1.4)\n",
    "import sys\n",
    "sys.path.append('../')\n",
    "from GPCollabPrefAct import real_occ_collab_gpmc"
   ]
  },
  {
   "cell_type": "code",
   "execution_count": 2,
   "metadata": {
    "collapsed": true
   },
   "outputs": [],
   "source": [
    "action_data_file = '../data/raw_data/main_actions_data.xlsx'"
   ]
  },
  {
   "cell_type": "code",
   "execution_count": 3,
   "metadata": {
    "collapsed": true
   },
   "outputs": [],
   "source": [
    "main_data = pd.read_excel(open(action_data_file, 'rb'), sheet_name = 0)"
   ]
  },
  {
   "cell_type": "code",
   "execution_count": 4,
   "metadata": {},
   "outputs": [],
   "source": [
    "pref_rel_actions = main_data[main_data['Want more view'] == 0]\n",
    "pref_rel_actions = pref_rel_actions[pref_rel_actions['Want more privacy'] == 0]"
   ]
  },
  {
   "cell_type": "code",
   "execution_count": 5,
   "metadata": {
    "collapsed": true
   },
   "outputs": [],
   "source": [
    "all_occ_wi_prev = pref_rel_actions['work plane illuminance before action']\n",
    "all_occ_wi_cur = pref_rel_actions['work plane illuminance after action']"
   ]
  },
  {
   "cell_type": "code",
   "execution_count": 6,
   "metadata": {
    "collapsed": true
   },
   "outputs": [],
   "source": [
    "concat_all_occ_wi = np.hstack([all_occ_wi_cur, all_occ_wi_prev])\n",
    "wi_mean = np.mean(concat_all_occ_wi) \n",
    "wi_std = np.std(concat_all_occ_wi)"
   ]
  },
  {
   "cell_type": "code",
   "execution_count": 7,
   "metadata": {},
   "outputs": [
    {
     "name": "stdout",
     "output_type": "stream",
     "text": [
      "mean WI:\n",
      "924.908411215\n",
      "std mean:\n",
      "570.281070006\n"
     ]
    }
   ],
   "source": [
    "print 'mean WI:'\n",
    "print wi_mean\n",
    "print 'std mean:'\n",
    "print wi_std"
   ]
  },
  {
   "cell_type": "code",
   "execution_count": 8,
   "metadata": {
    "collapsed": true
   },
   "outputs": [],
   "source": [
    "norm1 = (concat_all_occ_wi - 1200)/1200"
   ]
  },
  {
   "cell_type": "code",
   "execution_count": 9,
   "metadata": {
    "collapsed": true
   },
   "outputs": [],
   "source": [
    "occ_ids = np.unique(np.array(pref_rel_actions[['Occupant ID']]))"
   ]
  },
  {
   "cell_type": "code",
   "execution_count": 10,
   "metadata": {
    "collapsed": true
   },
   "outputs": [],
   "source": [
    "pref_rel_actions_data_list = []\n",
    "pref_rel_actions_data_norm_list = []\n",
    "for occ in occ_ids:\n",
    "    wi_prev = np.array(pref_rel_actions[pref_rel_actions.iloc[:,0] == occ][['work plane illuminance before action']])\n",
    "    wi_after = np.array(pref_rel_actions[pref_rel_actions.iloc[:,0] == occ][['work plane illuminance after action']])\n",
    "    pref_rel_actions_mat = np.hstack([wi_prev, wi_after])\n",
    "    pref_rel_actions_norm_mat = (pref_rel_actions_mat - wi_mean)/wi_std\n",
    "    \n",
    "    pref_rel_actions_data_list.append(pref_rel_actions_mat)\n",
    "    pref_rel_actions_data_norm_list.append(pref_rel_actions_norm_mat)"
   ]
  },
  {
   "cell_type": "code",
   "execution_count": 11,
   "metadata": {},
   "outputs": [
    {
     "data": {
      "text/plain": [
       "array([[-0.21902956, -0.78892398],\n",
       "       [ 1.37649947, -1.08386626],\n",
       "       [-1.27114234, -0.90535779],\n",
       "       [ 0.4031198 , -0.55973875],\n",
       "       [ 0.20847893, -0.94218174]])"
      ]
     },
     "execution_count": 11,
     "metadata": {},
     "output_type": "execute_result"
    }
   ],
   "source": [
    "pref_rel_actions_data_norm_list[2]"
   ]
  },
  {
   "cell_type": "code",
   "execution_count": 12,
   "metadata": {
    "collapsed": true
   },
   "outputs": [],
   "source": [
    "X_unique = np.unique(concat_all_occ_wi)\n",
    "X_grid = np.sort(X_unique)\n",
    "X_grid_norm = (X_grid - wi_mean)/wi_std"
   ]
  },
  {
   "cell_type": "code",
   "execution_count": 115,
   "metadata": {
    "collapsed": true
   },
   "outputs": [],
   "source": [
    "def occ_prev_cur_action_ind(action_data_matrix, X_grid):\n",
    "    \"\"\"\n",
    "    Inputs:\n",
    "    actions_data_matrix : action data matrix (X_prev, X_current)\n",
    "    Outputs:\n",
    "    Concatenation of [X_cur, X_prev]\n",
    "    Index of action data in X_grid\n",
    "    \"\"\"\n",
    "    prev = action_data_matrix[:,0][:,None]\n",
    "    cur = action_data_matrix[:,1][:,None]\n",
    "    \n",
    "    grid_sorted = np.argsort(X_grid)\n",
    "    \n",
    "    ypos_prev = np.searchsorted(X_grid[grid_sorted], prev)\n",
    "    prev_ind = grid_sorted[ypos_prev]\n",
    "    \n",
    "    ypos_cur = np.searchsorted(X_grid[grid_sorted], cur)\n",
    "    cur_ind = grid_sorted[ypos_cur]\n",
    "    \n",
    "    return prev_ind, cur_ind\n",
    "\n",
    "def all_occ_prev_cur_act_ind(action_data_matrix_list, X_grid):\n",
    "    \"\"\"\n",
    "    Inputs:\n",
    "    action_data_matrix_list : list of all actions' data matrix (num_list = number of occupants)\n",
    "    Outputs: \n",
    "    prev_ind_list : previous feature indices list\n",
    "    cur_ind_list : current feature indices list\n",
    "    \"\"\"\n",
    "    prev_ind_list = []\n",
    "    cur_ind_list = []\n",
    "    for i, mat in enumerate(action_data_matrix_list):\n",
    "        prev_ind, cur_ind =  occ_prev_cur_action_ind(mat, X_grid)\n",
    "        prev_ind_list.append(prev_ind[:,0])\n",
    "        cur_ind_list.append(cur_ind[:,0])\n",
    "    \n",
    "    return prev_ind_list, cur_ind_list\n",
    "\n",
    "\n",
    "def gather_concerned_utilities(utility_matrix, concerned_ind_mat):\n",
    "    \"\"\"\n",
    "    Gather concerned utility function values for each occupant\n",
    "    \"\"\"\n",
    "    \n",
    "    splits = tf.split(concerned_ind_mat, num_or_size_splits=concerned_ind_mat.shape[1],axis = 1)\n",
    "    res_list = []\n",
    "    for i,s in enumerate(splits):\n",
    "        #print i\n",
    "        idx = tf.stack([tf.reshape(tf.range(utility_matrix.shape[0]), (-1,1)), tf.to_int32(s)], axis=-1)\n",
    "        res = tf.gather_nd(utility_matrix, idx)\n",
    "        res_flatten = tf.reshape(res, [-1])\n",
    "        res_list.append(res_flatten)\n",
    "    concerned_mat = tf.transpose(tf.stack(res_list)) \n",
    "    return concerned_mat\n",
    "\n",
    "def select_specific_column_indices(ind_list):\n",
    "    \"\"\"\n",
    "    Select specific column indices corresponding to specific row indices \n",
    "    Inputs:\n",
    "    ind_list : list of features (previous or current) of all occupants\n",
    "    Outputs:\n",
    "    rel_tf_ind : relevant tensor for selecting specific columns from each rows.\n",
    "    \"\"\"\n",
    "    total_ind_list = []\n",
    "    for i in xrange(len(ind_list)):\n",
    "        col = ind_list[i]\n",
    "        row = np.repeat(i, col.shape[0])\n",
    "        c_tf = tf.constant(col)\n",
    "        r_tf = tf.constant(row)\n",
    "        full_ind = tf.stack([r_tf, c_tf], axis=1)\n",
    "        total_ind_list.append(full_ind)\n",
    "    total_ind_tf = tf.concat(total_ind_list, 0)\n",
    "    return total_ind_tf"
   ]
  },
  {
   "cell_type": "code",
   "execution_count": 116,
   "metadata": {},
   "outputs": [],
   "source": [
    "prev_ind_list, cur_ind_list = all_occ_prev_cur_act_ind(pref_rel_actions_data_norm_list, X_grid_norm)"
   ]
  },
  {
   "cell_type": "code",
   "execution_count": 117,
   "metadata": {
    "collapsed": true
   },
   "outputs": [],
   "source": [
    "total_ind_tf = select_specific_column_indices(prev_ind_list)"
   ]
  },
  {
   "cell_type": "code",
   "execution_count": null,
   "metadata": {
    "collapsed": true
   },
   "outputs": [],
   "source": []
  },
  {
   "cell_type": "code",
   "execution_count": null,
   "metadata": {
    "collapsed": true
   },
   "outputs": [],
   "source": []
  },
  {
   "cell_type": "code",
   "execution_count": 118,
   "metadata": {
    "collapsed": true
   },
   "outputs": [],
   "source": [
    "c0 = prev_ind_list[0]\n",
    "r0 = np.repeat(0, c0.shape[0])"
   ]
  },
  {
   "cell_type": "code",
   "execution_count": 119,
   "metadata": {},
   "outputs": [],
   "source": [
    "c0_tf = tf.constant(c0)\n",
    "r0_tf = tf.constant(r0)\n",
    "\n",
    "# zip row indices with column indices\n",
    "full_indices = tf.stack([r0_tf, c0_tf], axis=1)"
   ]
  },
  {
   "cell_type": "code",
   "execution_count": null,
   "metadata": {},
   "outputs": [],
   "source": []
  },
  {
   "cell_type": "code",
   "execution_count": 123,
   "metadata": {},
   "outputs": [],
   "source": [
    "U_rand = np.random.rand(len(prev_ind_list), X_grid_norm.shape[0])\n",
    "U_rand_tf = tf.constant(U_rand)"
   ]
  },
  {
   "cell_type": "code",
   "execution_count": 124,
   "metadata": {},
   "outputs": [
    {
     "data": {
      "text/plain": [
       "array([[ 0.38907599,  0.68418262,  0.85668479, ...,  0.65658868,\n",
       "         0.04912722,  0.60110684],\n",
       "       [ 0.27874058,  0.59975418,  0.0592662 , ...,  0.03501984,\n",
       "         0.79282468,  0.42954314],\n",
       "       [ 0.96580832,  0.03792772,  0.77610254, ...,  0.80188553,\n",
       "         0.91143246,  0.01465425],\n",
       "       ..., \n",
       "       [ 0.50941792,  0.13879544,  0.96517008, ...,  0.63241482,\n",
       "         0.45946257,  0.46279086],\n",
       "       [ 0.36254175,  0.65387704,  0.23587533, ...,  0.81532205,\n",
       "         0.05498111,  0.12997859],\n",
       "       [ 0.28755531,  0.64951261,  0.75335861, ...,  0.73757334,\n",
       "         0.2616199 ,  0.48783031]])"
      ]
     },
     "execution_count": 124,
     "metadata": {},
     "output_type": "execute_result"
    }
   ],
   "source": [
    "U_rand"
   ]
  },
  {
   "cell_type": "code",
   "execution_count": 125,
   "metadata": {},
   "outputs": [],
   "source": [
    "# retrieve values by indices\n",
    "S = tf.gather_nd(U_rand_tf, total_ind_tf)"
   ]
  },
  {
   "cell_type": "code",
   "execution_count": 126,
   "metadata": {},
   "outputs": [],
   "source": [
    "with tf.Session() as sess:\n",
    "    r = sess.run(S) "
   ]
  },
  {
   "cell_type": "code",
   "execution_count": 127,
   "metadata": {},
   "outputs": [
    {
     "data": {
      "text/plain": [
       "(18, 203)"
      ]
     },
     "execution_count": 127,
     "metadata": {},
     "output_type": "execute_result"
    }
   ],
   "source": [
    "U_rand.shape"
   ]
  },
  {
   "cell_type": "code",
   "execution_count": 128,
   "metadata": {},
   "outputs": [
    {
     "data": {
      "text/plain": [
       "array([ 0.54192124,  0.82588405,  0.37432812,  0.4688539 ,  0.01673489,\n",
       "        0.59764332,  0.69964865,  0.78689964,  0.24521743,  0.2502817 ,\n",
       "        0.12121512,  0.84551317,  0.38570559,  0.34080544,  0.87221192,\n",
       "        0.77610254,  0.06628387,  0.84006555,  0.50786459,  0.43677314,\n",
       "        0.14447968,  0.80628028,  0.61558954,  0.38874921,  0.41171989,\n",
       "        0.50882723,  0.36021586,  0.47147692,  0.16582305,  0.16153601,\n",
       "        0.81431759,  0.38198041,  0.97304127,  0.35772618,  0.01051996,\n",
       "        0.59041571,  0.23416839,  0.35772618,  0.92209844,  0.85900222,\n",
       "        0.21670567,  0.22666694,  0.63846318,  0.97129116,  0.70427658,\n",
       "        0.57249561,  0.72988686,  0.82558274,  0.61609535,  0.23266343,\n",
       "        0.0357339 ,  0.18575667,  0.44267996,  0.70042197,  0.98075855,\n",
       "        0.24885151,  0.04373139,  0.12954231,  0.48407535,  0.23391507,\n",
       "        0.11117438,  0.25928916,  0.84881959,  0.30528219,  0.16813117,\n",
       "        0.67978986,  0.88241171,  0.6770997 ,  0.65878871,  0.69552235,\n",
       "        0.67703053,  0.7934126 ,  0.39753719,  0.40694346,  0.82137814,\n",
       "        0.18448571,  0.44470331,  0.18631838,  0.60596243,  0.00234182,\n",
       "        0.63139998,  0.32401074,  0.70996019,  0.33710794,  0.51177844,\n",
       "        0.54402876,  0.32544531,  0.52171401,  0.38238561,  0.390115  ,\n",
       "        0.12202067,  0.74905729,  0.1839168 ,  0.69699069,  0.97259879,\n",
       "        0.38288615,  0.22580768,  0.19835744,  0.3472837 ,  0.22834939,\n",
       "        0.92533432,  0.08257073,  0.57956377,  0.8031575 ,  0.25963732,\n",
       "        0.93749347,  0.8190645 ])"
      ]
     },
     "execution_count": 128,
     "metadata": {},
     "output_type": "execute_result"
    }
   ],
   "source": [
    "r"
   ]
  },
  {
   "cell_type": "code",
   "execution_count": 129,
   "metadata": {},
   "outputs": [
    {
     "data": {
      "text/plain": [
       "array([[ 0.38907599,  0.68418262,  0.85668479, ...,  0.65658868,\n",
       "         0.04912722,  0.60110684],\n",
       "       [ 0.27874058,  0.59975418,  0.0592662 , ...,  0.03501984,\n",
       "         0.79282468,  0.42954314],\n",
       "       [ 0.96580832,  0.03792772,  0.77610254, ...,  0.80188553,\n",
       "         0.91143246,  0.01465425],\n",
       "       ..., \n",
       "       [ 0.50941792,  0.13879544,  0.96517008, ...,  0.63241482,\n",
       "         0.45946257,  0.46279086],\n",
       "       [ 0.36254175,  0.65387704,  0.23587533, ...,  0.81532205,\n",
       "         0.05498111,  0.12997859],\n",
       "       [ 0.28755531,  0.64951261,  0.75335861, ...,  0.73757334,\n",
       "         0.2616199 ,  0.48783031]])"
      ]
     },
     "execution_count": 129,
     "metadata": {},
     "output_type": "execute_result"
    }
   ],
   "source": [
    "U_rand"
   ]
  },
  {
   "cell_type": "code",
   "execution_count": null,
   "metadata": {
    "collapsed": true
   },
   "outputs": [],
   "source": []
  },
  {
   "cell_type": "code",
   "execution_count": null,
   "metadata": {
    "collapsed": true
   },
   "outputs": [],
   "source": []
  }
 ],
 "metadata": {
  "kernelspec": {
   "display_name": "Python [default]",
   "language": "python",
   "name": "python2"
  },
  "language_info": {
   "codemirror_mode": {
    "name": "ipython",
    "version": 2
   },
   "file_extension": ".py",
   "mimetype": "text/x-python",
   "name": "python",
   "nbconvert_exporter": "python",
   "pygments_lexer": "ipython2",
   "version": "2.7.14"
  }
 },
 "nbformat": 4,
 "nbformat_minor": 2
}
