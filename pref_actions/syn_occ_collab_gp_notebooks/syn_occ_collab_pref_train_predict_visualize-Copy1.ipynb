{
 "cells": [
  {
   "cell_type": "code",
   "execution_count": 1,
   "metadata": {},
   "outputs": [
    {
     "ename": "RuntimeError",
     "evalue": "module compiled against API version 0xb but this version of numpy is 0xa",
     "output_type": "error",
     "traceback": [
      "\u001b[0;31m---------------------------------------------------------------------------\u001b[0m",
      "\u001b[0;31mRuntimeError\u001b[0m                              Traceback (most recent call last)",
      "\u001b[0;31mRuntimeError\u001b[0m: module compiled against API version 0xb but this version of numpy is 0xa"
     ]
    },
    {
     "ename": "RuntimeError",
     "evalue": "module compiled against API version 0xb but this version of numpy is 0xa",
     "output_type": "error",
     "traceback": [
      "\u001b[0;31m---------------------------------------------------------------------------\u001b[0m",
      "\u001b[0;31mRuntimeError\u001b[0m                              Traceback (most recent call last)",
      "\u001b[0;31mRuntimeError\u001b[0m: module compiled against API version 0xb but this version of numpy is 0xa"
     ]
    }
   ],
   "source": [
    "import json\n",
    "import gpflow\n",
    "import numpy as np\n",
    "import matplotlib.pyplot as plt\n",
    "import math\n",
    "%matplotlib inline\n",
    "import seaborn as sns\n",
    "sns.set_style(\"white\")\n",
    "sns.set_context(\"talk\", font_scale=1.4)\n",
    "import sys\n",
    "sys.path.append('../')\n",
    "from Misc import syn_data_gen, save_load_files\n",
    "from GPCollabPrefAct import collab_gpmc"
   ]
  },
  {
   "cell_type": "code",
   "execution_count": 2,
   "metadata": {
    "collapsed": true
   },
   "outputs": [],
   "source": [
    "num_latent_gps = 5"
   ]
  },
  {
   "cell_type": "code",
   "execution_count": 3,
   "metadata": {},
   "outputs": [
    {
     "name": "stdout",
     "output_type": "stream",
     "text": [
      "Occupant number:\n",
      "1\n",
      "Occupant number:\n",
      "2\n",
      "Occupant number:\n",
      "3\n",
      "Occupant number:\n",
      "4\n",
      "Occupant number:\n",
      "5\n",
      "Occupant number:\n",
      "6\n",
      "Occupant number:\n",
      "7\n",
      "Occupant number:\n",
      "8\n",
      "Occupant number:\n",
      "9\n",
      "Occupant number:\n",
      "10\n",
      "Occupant number:\n",
      "11\n",
      "Occupant number:\n",
      "12\n",
      "Occupant number:\n",
      "13\n",
      "Occupant number:\n",
      "14\n",
      "Occupant number:\n",
      "15\n",
      "Occupant number:\n",
      "16\n",
      "Occupant number:\n",
      "17\n",
      "Occupant number:\n",
      "18\n",
      "Occupant number:\n",
      "19\n",
      "Occupant number:\n",
      "20\n",
      "Occupant number:\n",
      "21\n"
     ]
    }
   ],
   "source": [
    "num_data = 5\n",
    "# Specific occupants 6, 7, 8 actions\n",
    "specific_occ_actions_data_list = []\n",
    "specific_occ_actions_data_norm_list = []\n",
    "for i in xrange(21):\n",
    "    occ_num = i + 1\n",
    "    print \"Occupant number:\"\n",
    "    print occ_num\n",
    "    config_file = '../data/config_files/syn/diff_utilities_config/syn_occupants.json'\n",
    "    with open(config_file, 'r') as fd:\n",
    "        config = json.loads(fd.read())\n",
    "\n",
    "    a = config['O' + str(occ_num)]['a']\n",
    "    b = config['O' + str(occ_num)]['b']\n",
    "    \n",
    "    # Load actions data\n",
    "    actions_data = np.loadtxt('../data/syn_data/syn_occ/actions_data/train/' +\n",
    "                         'O_a' + str(a) + '_b' + str(b) + '_' + str(num_data) + '_.csv', delimiter = ',')\n",
    "    \n",
    "    actions_data_norm = (actions_data - 0.5)/0.5\n",
    "    \n",
    "    specific_occ_actions_data_list.append(actions_data)\n",
    "    specific_occ_actions_data_norm_list.append(actions_data_norm) \n",
    "\n",
    "all_x_grid = np.linspace(0,1,50)"
   ]
  },
  {
   "cell_type": "code",
   "execution_count": 4,
   "metadata": {},
   "outputs": [
    {
     "data": {
      "text/plain": [
       "(5, 2)"
      ]
     },
     "execution_count": 4,
     "metadata": {},
     "output_type": "execute_result"
    }
   ],
   "source": [
    "specific_occ_actions_data_list[0].shape"
   ]
  },
  {
   "cell_type": "code",
   "execution_count": 5,
   "metadata": {
    "collapsed": true
   },
   "outputs": [],
   "source": [
    "all_x_grid = np.linspace(0,1,50)\n",
    "all_x_grid_norm = (all_x_grid - 0.5)/0.5"
   ]
  },
  {
   "cell_type": "markdown",
   "metadata": {},
   "source": [
    "# Collaborative Preference Learning Model Setup"
   ]
  },
  {
   "cell_type": "code",
   "execution_count": 6,
   "metadata": {
    "collapsed": true
   },
   "outputs": [],
   "source": [
    "latent_gps_kerns_list = [gpflow.kernels.RBF(1)]*num_latent_gps"
   ]
  },
  {
   "cell_type": "code",
   "execution_count": 7,
   "metadata": {
    "collapsed": true
   },
   "outputs": [],
   "source": [
    "#def __init__(self, actions_list, kerns_list, X_grid)\n",
    "m = collab_gpmc.GPCollabPrefLearnGPMC(specific_occ_actions_data_norm_list, latent_gps_kerns_list, all_x_grid_norm)"
   ]
  },
  {
   "cell_type": "code",
   "execution_count": 10,
   "metadata": {},
   "outputs": [
    {
     "data": {
      "text/plain": [
       "(21, 10)"
      ]
     },
     "execution_count": 10,
     "metadata": {},
     "output_type": "execute_result"
    }
   ],
   "source": [
    "m.concat_cur_prev_feat_mat.shape"
   ]
  },
  {
   "cell_type": "code",
   "execution_count": 8,
   "metadata": {
    "collapsed": true
   },
   "outputs": [],
   "source": [
    "for i in xrange(len(latent_gps_kerns_list)):\n",
    "    m.kerns_list[i].lengthscales.prior = gpflow.priors.Gamma(1., 1.)\n",
    "    m.kerns_list[i].variance.prior = gpflow.priors.Gamma(1., 1.)"
   ]
  },
  {
   "cell_type": "code",
   "execution_count": 9,
   "metadata": {
    "collapsed": true
   },
   "outputs": [],
   "source": [
    "m.W.prior = gpflow.priors.Gaussian(0,1)"
   ]
  },
  {
   "cell_type": "code",
   "execution_count": 10,
   "metadata": {},
   "outputs": [
    {
     "data": {
      "text/plain": [
       "      fun: array([ 371.51373979])\n",
       " hess_inv: <365x365 LbfgsInvHessProduct with dtype=float64>\n",
       "      jac: array([ -6.13328064e-05,  -1.70586314e-04,  -8.48642984e-05,\n",
       "        -7.68112247e-05,   8.94081994e-06,   2.76427578e-05,\n",
       "        -3.44167296e-05,  -8.75657608e-05,  -7.05111156e-05,\n",
       "        -7.58384971e-06,   3.17371132e-05,   2.26463736e-05,\n",
       "        -6.34080026e-06,  -2.27418989e-05,   1.27819767e-05,\n",
       "         5.80014748e-05,   9.10724273e-05,   9.05964554e-05,\n",
       "         6.63535570e-05,   4.33219060e-05,   3.81918443e-05,\n",
       "         4.58649848e-05,   3.73756800e-05,   2.37814310e-05,\n",
       "         6.25238593e-06,  -2.72695557e-06,  -1.45902264e-05,\n",
       "        -1.29097702e-05,  -1.44975813e-05,  -1.31542941e-05,\n",
       "        -1.17787787e-05,  -4.85763897e-06,  -1.85682413e-06,\n",
       "        -1.88480926e-08,   1.04005203e-05,   1.60268692e-05,\n",
       "         2.11059969e-05,   2.12718697e-05,   2.26478149e-05,\n",
       "         1.91700280e-05,   2.14411155e-05,   1.52906369e-05,\n",
       "         1.30340235e-05,   1.02743346e-05,   1.09698502e-05,\n",
       "         1.00856439e-05,   9.55206771e-06,   7.70867623e-06,\n",
       "         5.25268128e-06,   3.04125999e-06,  -1.38435118e-06,\n",
       "        -1.93070716e-04,  -1.95243561e-05,   4.25395992e-05,\n",
       "         3.64594604e-05,   3.51326770e-05,   4.26350974e-05,\n",
       "         4.20111691e-05,   2.83258784e-05,   1.49153326e-05,\n",
       "         4.36587748e-06,   8.03733328e-06,   1.22418072e-05,\n",
       "         1.46794427e-05,   3.07053106e-05,   2.98936762e-05,\n",
       "         3.38788177e-05,   2.76831524e-05,   1.47545312e-05,\n",
       "        -3.64954739e-06,  -2.16011004e-05,  -4.07684832e-05,\n",
       "        -6.25334684e-05,  -8.60884199e-05,  -1.10205295e-04,\n",
       "        -1.23382518e-04,  -1.40080701e-04,  -1.44106098e-04,\n",
       "        -1.43404531e-04,  -1.36531739e-04,  -1.29953619e-04,\n",
       "        -1.04148075e-04,  -8.60848884e-05,  -5.26330807e-05,\n",
       "        -1.34214884e-05,   1.85164085e-05,   5.51222394e-05,\n",
       "         8.04642459e-05,   1.06727413e-04,   1.26254750e-04,\n",
       "         1.29863143e-04,   1.25994690e-04,   1.13188114e-04,\n",
       "         9.82162759e-05,   8.01875892e-05,   5.97580414e-05,\n",
       "         4.06418736e-05,   2.55994838e-05,   1.48171948e-05,\n",
       "         7.32195868e-06,  -3.71150414e-05,   7.07165467e-06,\n",
       "         9.83447890e-06,   5.96876898e-05,   3.19705139e-05,\n",
       "         2.60695013e-06,  -1.25411041e-05,  -1.64272225e-05,\n",
       "        -2.32861512e-05,  -2.70119920e-05,  -3.16974363e-05,\n",
       "        -2.64818534e-05,  -1.91866743e-05,  -1.50849522e-05,\n",
       "         3.00380167e-06,   1.98216287e-05,   3.80597370e-05,\n",
       "         4.68238830e-05,   4.28267728e-05,   4.01044649e-05,\n",
       "         3.37599379e-05,   2.61747077e-05,   1.07405657e-05,\n",
       "        -1.03071156e-05,  -3.68240986e-05,  -6.09472502e-05,\n",
       "        -8.11300072e-05,  -9.70469510e-05,  -1.08434917e-04,\n",
       "        -1.13097281e-04,  -1.11581518e-04,  -9.65406048e-05,\n",
       "        -8.19142079e-05,  -5.45861887e-05,  -2.36042864e-05,\n",
       "         7.90468953e-06,   3.92370331e-05,   6.58290352e-05,\n",
       "         8.61345338e-05,   9.85167902e-05,   1.04406936e-04,\n",
       "         9.96318315e-05,   8.85439380e-05,   7.11722639e-05,\n",
       "         6.40773014e-05,   3.71522964e-05,   2.41092202e-05,\n",
       "         1.43342489e-05,   7.95244564e-06,   1.76179447e-06,\n",
       "        -5.14173005e-05,   3.41062783e-05,  -4.05365040e-05,\n",
       "        -1.28807401e-04,  -6.97679862e-05,  -4.77924093e-05,\n",
       "        -7.91817825e-05,  -1.11955909e-04,  -9.36728967e-05,\n",
       "        -5.20199286e-05,  -1.04307569e-05,   5.79152891e-06,\n",
       "         7.14570814e-06,   1.24440133e-05,   2.91930340e-05,\n",
       "         5.73056754e-05,   7.20560739e-05,   6.69994735e-05,\n",
       "         5.66949094e-05,   3.81417243e-05,   2.71480137e-05,\n",
       "         2.60271678e-05,   2.24159350e-05,   1.05625222e-05,\n",
       "         6.36515619e-06,   1.63534885e-05,   2.16837183e-05,\n",
       "         4.06497599e-05,   5.95001564e-05,   7.97982668e-05,\n",
       "         9.85706572e-05,   1.01393868e-04,   1.09997351e-04,\n",
       "         9.99528861e-05,   8.89694703e-05,   7.05881365e-05,\n",
       "         4.35058135e-05,   1.93743183e-05,  -1.03422203e-05,\n",
       "        -2.98856661e-05,  -3.97322083e-05,  -4.78385340e-05,\n",
       "        -5.29359374e-05,  -5.36504987e-05,  -4.98387660e-05,\n",
       "        -3.68484785e-05,  -2.56846277e-05,  -1.72929847e-05,\n",
       "        -1.10196359e-05,  -2.87880294e-06,   1.46405168e-04,\n",
       "        -2.98829156e-04,  -6.13880207e-05,  -6.47609104e-05,\n",
       "        -2.83285486e-05,  -9.73885524e-06,  -3.38820697e-05,\n",
       "        -6.43534387e-05,  -9.91066370e-05,  -1.21863678e-04,\n",
       "        -1.28725789e-04,  -1.20210769e-04,  -1.19285876e-04,\n",
       "        -8.82681667e-05,  -4.64052740e-05,  -2.35906627e-05,\n",
       "         1.21076516e-05,   3.20501713e-05,   5.36500179e-05,\n",
       "         5.06387027e-05,   5.41664814e-05,   5.32673715e-05,\n",
       "         4.73762614e-05,   3.36126323e-05,   3.12989785e-05,\n",
       "         3.74409600e-05,   2.40795093e-05,   3.25277638e-05,\n",
       "         3.00082706e-05,   3.34367210e-05,   1.58934258e-05,\n",
       "         1.37986861e-05,  -1.57528244e-05,  -2.50009763e-05,\n",
       "        -2.68440491e-05,  -4.29468693e-05,  -3.95595373e-05,\n",
       "        -4.33943274e-05,  -2.08643776e-05,   1.16043091e-05,\n",
       "         1.18563083e-05,   2.65113734e-05,   3.14099269e-05,\n",
       "         4.17060971e-05,   2.72716431e-05,   4.08784681e-05,\n",
       "         2.97428639e-05,   2.10423970e-05,   1.14773312e-05,\n",
       "         8.36036436e-06,   1.69925394e-04,  -2.15229818e-04,\n",
       "        -1.23433472e-04,   4.36416594e-04,   1.32176663e-04,\n",
       "         1.07698911e-04,   1.68398457e-04,   1.94248071e-04,\n",
       "        -4.75139468e-05,  -3.17314965e-05,  -1.20248360e-04,\n",
       "         1.54600388e-04,   1.23515393e-04,  -6.19013653e-05,\n",
       "        -1.07682908e-04,   9.15245452e-06,   1.62807033e-04,\n",
       "         9.84305465e-05,   5.35187127e-05,   4.54947749e-04,\n",
       "         2.82870775e-05,   4.57284061e-05,   6.45848314e-05,\n",
       "        -2.07254714e-04,  -8.30100680e-05,   2.02308201e-05,\n",
       "        -3.19997384e-04,  -1.85514034e-04,   2.14662713e-04,\n",
       "        -8.79953605e-05,   8.44431711e-05,  -1.34793284e-04,\n",
       "        -8.27022523e-05,   1.65686236e-04,  -2.09047200e-05,\n",
       "         1.24890893e-04,   1.64101179e-04,   4.73030493e-05,\n",
       "         1.36694571e-04,   1.51894925e-04,  -1.61113686e-04,\n",
       "         8.16746956e-05,  -1.10783402e-04,  -7.20784976e-05,\n",
       "         7.26352645e-05,   2.25382680e-04,  -5.14279764e-05,\n",
       "         1.75323465e-04,   6.72274663e-05,   4.83501907e-06,\n",
       "         1.21372198e-05,  -1.62820220e-05,  -2.26337526e-04,\n",
       "         3.26832137e-04,   4.80255748e-04,  -6.21664754e-05,\n",
       "        -1.85731926e-05,   1.63570629e-04,  -1.77048104e-04,\n",
       "        -2.33078491e-04,  -1.62289334e-04,  -3.24819181e-05,\n",
       "        -5.14340642e-05,  -7.68045009e-06,  -8.27552231e-05,\n",
       "        -1.40262193e-04,   2.36283094e-05,  -6.54453476e-05,\n",
       "        -8.34350388e-05,  -4.02960752e-05,   1.24758880e-04,\n",
       "         1.87398332e-05,   4.94523338e-06,   9.97332792e-05,\n",
       "        -6.41903752e-05,  -2.22607672e-05,   1.45923097e-04,\n",
       "        -1.04971540e-05,   9.18510085e-05,   2.37586767e-04,\n",
       "         8.50885201e-05,   1.39363177e-04,   1.38053857e-04,\n",
       "        -1.19767418e-04,  -2.42017526e-04,   1.56502732e-04,\n",
       "        -5.04833243e-05,   1.22148957e-05,   2.01485570e-04,\n",
       "         1.95634233e-04,   3.37059873e-04,  -1.11016118e-06,\n",
       "         1.51876071e-05,   8.03126014e-05,   1.44814284e-04,\n",
       "        -6.78154530e-06,  -2.80483791e-04,  -1.51369966e-04,\n",
       "         6.49022646e-05,   1.05215776e-04,   9.92747769e-05,\n",
       "         1.95437238e-04,   3.41179970e-04,  -4.07856568e-04,\n",
       "        -1.17207667e-04,   0.00000000e+00,   0.00000000e+00,\n",
       "         0.00000000e+00,   0.00000000e+00,   0.00000000e+00,\n",
       "         0.00000000e+00,   0.00000000e+00,   0.00000000e+00,\n",
       "        -4.53350932e-04,   3.94972530e-05])\n",
       "  message: 'CONVERGENCE: REL_REDUCTION_OF_F_<=_FACTR*EPSMCH'\n",
       "     nfev: 70\n",
       "      nit: 62\n",
       "   status: 0\n",
       "  success: True\n",
       "        x: array([  1.28503804e+00,   4.51065131e-01,  -5.38450911e-03,\n",
       "        -9.04804591e-02,  -1.64305793e-01,  -2.66539987e-01,\n",
       "        -3.28667739e-01,  -3.54338652e-01,  -3.86372013e-01,\n",
       "        -4.30509891e-01,  -4.69700744e-01,  -4.82539859e-01,\n",
       "        -4.90262854e-01,  -5.17090405e-01,  -5.19997955e-01,\n",
       "        -5.32485918e-01,  -5.34945254e-01,  -5.32636989e-01,\n",
       "        -5.19014343e-01,  -4.95943749e-01,  -4.62756858e-01,\n",
       "        -4.10093528e-01,  -3.48104828e-01,  -2.84335344e-01,\n",
       "        -2.20796959e-01,  -1.42689755e-01,  -6.86329464e-02,\n",
       "         2.73541687e-03,   7.09563025e-02,   1.21263133e-01,\n",
       "         1.67116542e-01,   1.97300911e-01,   2.19404725e-01,\n",
       "         2.40129918e-01,   2.42340843e-01,   2.44752767e-01,\n",
       "         2.33345731e-01,   2.28298541e-01,   2.06598158e-01,\n",
       "         1.97384659e-01,   1.69079656e-01,   1.44600418e-01,\n",
       "         1.23810972e-01,   1.03945225e-01,   8.25103400e-02,\n",
       "         6.01333950e-02,   4.05604515e-02,   2.61650798e-02,\n",
       "         1.79528903e-02,   6.12257125e-03,  -2.82136451e-01,\n",
       "         5.29131618e-01,   5.04140847e-01,   4.13922556e-01,\n",
       "         3.04978581e-01,   2.82624331e-01,   2.37590588e-01,\n",
       "         1.67418896e-01,   1.03592363e-01,   4.44730737e-02,\n",
       "         2.13093097e-03,  -3.68861576e-02,  -7.01518379e-02,\n",
       "        -9.58044852e-02,  -1.06505421e-01,  -1.14270372e-01,\n",
       "        -1.11956896e-01,  -1.07445007e-01,  -9.76698514e-02,\n",
       "        -9.42007337e-02,  -8.42260746e-02,  -7.64854642e-02,\n",
       "        -5.98644015e-02,  -5.80101701e-02,  -5.64145186e-02,\n",
       "        -5.15028531e-02,  -4.23016271e-02,  -3.72292005e-02,\n",
       "        -3.09704560e-02,  -2.53293540e-02,  -2.23195141e-02,\n",
       "        -2.36996805e-02,  -2.18364268e-02,  -2.46135339e-02,\n",
       "        -2.80448777e-02,  -3.14398013e-02,  -3.86727913e-02,\n",
       "        -3.65791989e-02,  -4.28871322e-02,  -3.89554417e-02,\n",
       "        -3.49333086e-02,  -2.89887872e-02,  -2.12901971e-02,\n",
       "        -1.32452833e-02,  -1.46341521e-02,  -3.86569808e-03,\n",
       "        -2.12848076e-03,  -7.17545905e-04,   1.87520319e-04,\n",
       "        -3.92177107e-04,   3.47446178e-01,   6.60449746e-01,\n",
       "         4.98985192e-01,   3.98657363e-01,   2.86855450e-01,\n",
       "         2.61791597e-01,   2.17548518e-01,   1.49140633e-01,\n",
       "         8.45775213e-02,   2.66270298e-02,  -2.04953392e-02,\n",
       "        -6.46401558e-02,  -1.03114068e-01,  -1.40553843e-01,\n",
       "        -1.56897942e-01,  -1.73463659e-01,  -1.78321024e-01,\n",
       "        -1.81039616e-01,  -1.75470890e-01,  -1.76792549e-01,\n",
       "        -1.65495413e-01,  -1.56401433e-01,  -1.39623619e-01,\n",
       "        -1.36505807e-01,  -1.36674550e-01,  -1.33060466e-01,\n",
       "        -1.26639387e-01,  -1.26966172e-01,  -1.25719333e-01,\n",
       "        -1.28419486e-01,  -1.33350402e-01,  -1.38779813e-01,\n",
       "        -1.43514285e-01,  -1.47759435e-01,  -1.49915946e-01,\n",
       "        -1.50503717e-01,  -1.50360863e-01,  -1.41333819e-01,\n",
       "        -1.35087463e-01,  -1.20312815e-01,  -1.05113004e-01,\n",
       "        -8.77076462e-02,  -6.68141333e-02,  -4.89544833e-02,\n",
       "        -3.87046102e-02,  -2.06761570e-02,  -1.31091490e-02,\n",
       "        -6.71721375e-03,  -2.87040811e-03,  -1.04617089e-03,\n",
       "         4.26981927e-01,  -4.78369721e-01,  -5.75131606e-01,\n",
       "        -5.10738405e-01,  -4.25721805e-01,  -4.56386036e-01,\n",
       "        -4.41466046e-01,  -3.77696913e-01,  -3.22317090e-01,\n",
       "        -2.81234554e-01,  -2.50471045e-01,  -2.07949087e-01,\n",
       "        -1.68981467e-01,  -1.43104144e-01,  -1.26781141e-01,\n",
       "        -1.16154310e-01,  -1.12948221e-01,  -1.09476427e-01,\n",
       "        -1.08583042e-01,  -9.44472702e-02,  -8.81307881e-02,\n",
       "        -6.80533922e-02,  -5.15630460e-02,  -1.82692265e-02,\n",
       "         1.82627933e-02,   5.89516721e-02,   9.39018948e-02,\n",
       "         1.34710025e-01,   1.71972961e-01,   2.03001388e-01,\n",
       "         2.34085477e-01,   2.57227546e-01,   2.74590088e-01,\n",
       "         2.91278137e-01,   2.95263780e-01,   2.97762545e-01,\n",
       "         2.92046835e-01,   2.79760409e-01,   2.61772924e-01,\n",
       "         2.40990852e-01,   2.08749137e-01,   1.76206333e-01,\n",
       "         1.42014884e-01,   1.11374834e-01,   8.88015182e-02,\n",
       "         5.61767469e-02,   3.69780757e-02,   2.20030338e-02,\n",
       "         1.32438799e-02,   4.64475025e-03,  -1.03630334e+00,\n",
       "        -1.65986960e-02,   1.14530255e-01,   8.42141183e-02,\n",
       "         3.72675147e-02,  -4.14845878e-03,  -4.17381345e-02,\n",
       "        -7.14036254e-02,  -9.64170129e-02,  -1.30188290e-01,\n",
       "        -1.43980519e-01,  -1.45057719e-01,  -1.42560462e-01,\n",
       "        -1.30586770e-01,  -1.20282839e-01,  -1.05726415e-01,\n",
       "        -8.87646297e-02,  -6.91576920e-02,  -5.09797709e-02,\n",
       "        -2.87114297e-02,  -1.56361331e-02,   5.08128534e-03,\n",
       "         3.44507366e-02,   5.87690078e-02,   9.02290313e-02,\n",
       "         1.27316970e-01,   1.67145326e-01,   2.11249172e-01,\n",
       "         2.53287955e-01,   2.95668434e-01,   3.34642503e-01,\n",
       "         3.56652577e-01,   3.82076374e-01,   3.93596707e-01,\n",
       "         3.90529367e-01,   3.83905501e-01,   3.59643197e-01,\n",
       "         3.41125597e-01,   3.00285197e-01,   2.71039425e-01,\n",
       "         2.32950804e-01,   1.96249389e-01,   1.57286896e-01,\n",
       "         1.26946066e-01,   8.96037063e-02,   6.49366144e-02,\n",
       "         4.30289491e-02,   2.52778489e-02,   1.49330864e-02,\n",
       "         4.05180672e-03,   1.38773260e-01,   4.50655751e-01,\n",
       "         1.90344689e-01,  -1.72245720e-01,   7.81819284e-01,\n",
       "        -1.07443472e-01,   2.61293266e-01,   4.10085586e-01,\n",
       "        -5.11558163e-01,  -3.51218544e-01,   6.14438449e-01,\n",
       "         3.16709018e-01,   5.41042364e-01,  -2.35062498e-01,\n",
       "        -2.18099465e-01,   2.29033824e-01,  -2.16490991e-01,\n",
       "         1.63983053e-01,  -4.70367665e-03,  -8.66250078e-01,\n",
       "         2.33340424e-01,  -1.37465551e-01,  -2.40279705e-01,\n",
       "         3.95752943e-01,   3.19018282e-01,  -5.87789800e-01,\n",
       "        -9.50842354e-02,   1.46454809e-02,  -3.41498639e-01,\n",
       "        -5.30973792e-01,  -5.11643672e-01,   1.61412230e-01,\n",
       "         9.90413986e-02,  -4.16737461e-01,  -3.18823152e-02,\n",
       "        -3.30830011e-01,   1.34404574e-01,   2.56063110e-01,\n",
       "        -4.67473079e-01,  -4.06586614e-01,  -5.28441607e-01,\n",
       "         2.32929926e-01,  -3.21908221e-02,  -3.03280477e-01,\n",
       "         4.64622031e-01,  -8.45668039e-01,  -1.61755910e-01,\n",
       "        -3.80506304e-01,  -8.09500049e-02,   1.39136039e-01,\n",
       "        -5.82569895e-01,   2.20731756e-02,   4.01494645e-02,\n",
       "        -3.79316430e-01,  -2.85361812e-01,  -5.54396508e-01,\n",
       "         2.25094277e-01,   1.08585558e-01,  -4.59490755e-01,\n",
       "         9.39650113e-02,  -2.67492711e-01,  -1.48798970e-01,\n",
       "        -4.18809130e-01,   2.89346353e-01,   5.08506235e-01,\n",
       "        -5.47708568e-01,  -3.13715176e-01,  -5.06621895e-01,\n",
       "         2.38570327e-01,   1.69327912e-01,  -7.27870432e-01,\n",
       "         2.45407109e-01,   1.19533833e-01,  -5.73235043e-01,\n",
       "         4.61640215e-02,  -9.30877954e-01,  -7.33650260e-02,\n",
       "        -1.10183870e-01,  -4.15282158e-01,  -3.20046937e-01,\n",
       "        -6.23865439e-01,   9.13169463e-02,   2.76222221e-02,\n",
       "        -3.99872430e-01,  -9.20067480e-02,  -8.38790108e-01,\n",
       "        -2.21962473e-01,  -4.48976009e-01,   1.70157621e-04,\n",
       "         1.49249303e-01,  -4.37353096e-02,   4.52385340e-01,\n",
       "         4.44933157e-01,  -5.35981311e-01,   9.34173901e-02,\n",
       "        -3.56140450e-01,   3.21202593e-01,   3.89681537e-01,\n",
       "        -6.43155509e-01,  -2.47146571e-01,  -7.16316259e-01,\n",
       "         8.52570553e-02,  -2.61025491e-02,  -3.98098140e-01,\n",
       "        -1.52584448e-02,   5.41323273e-01,   5.41323273e-01,\n",
       "         5.41323273e-01,   5.41323273e-01,   5.41323273e-01,\n",
       "         5.41323273e-01,   5.41323273e-01,   5.41323273e-01,\n",
       "        -9.01886189e-01,   1.71414574e+00])"
      ]
     },
     "execution_count": 10,
     "metadata": {},
     "output_type": "execute_result"
    }
   ],
   "source": [
    "m.optimize(maxiter=5000) # start near MAP"
   ]
  },
  {
   "cell_type": "code",
   "execution_count": 10,
   "metadata": {},
   "outputs": [
    {
     "data": {
      "text/html": [
       "<table id='params' width=100%><tr><td>Name</td><td>values</td><td>prior</td><td>constraint</td></tr><tr><td>collaborative_pref_gps.V_h</td><td>[[  1.16839654e+00   5.89695667e-01   3.87892411e-01   2.13962714e-01</br>    1.51294317e-01   1.14365432e-01   7.42387901e-02   4.44553253e-02</br>    3.31355094e-02   2.47190502e-02   2.16075319e-02   1.02739907e-02</br>    7.60038892e-03   6.36683567e-03   9.81402356e-03   1.87059741e-02</br>    9.77860153e-03  -9.13003056e-03  -3.53392023e-02  -7.60012750e-02</br>   -1.28015155e-01  -1.88200724e-01  -2.47565966e-01  -3.00306295e-01</br>   -3.52029715e-01  -3.79134019e-01  -3.92547201e-01  -3.91545602e-01</br>   -3.78770668e-01  -3.60535703e-01  -3.30295879e-01  -3.18958226e-01</br>   -3.06294350e-01  -2.98577621e-01  -3.02150343e-01  -3.02579053e-01</br>   -2.93292615e-01  -2.82047941e-01  -2.62825256e-01  -2.29148903e-01</br>   -1.85675729e-01  -1.37624925e-01  -9.02219217e-02  -5.01802076e-02</br>   -2.24529991e-02  -1.89305564e-03   3.17425935e-03   7.28066709e-03</br>    6.68027608e-03   1.06087745e-04]</br> [  2.59781191e-01  -1.43637789e-01  -4.53120157e-01  -4.05164321e-01</br>   -5.12975016e-01  -5.65972685e-01  -5.13003235e-01  -4.78916422e-01</br>   -4.40896169e-01  -3.60452880e-01  -2.66824566e-01  -1.73248400e-01</br>   -8.97454154e-02  -1.85485229e-02   3.76202552e-02   6.95004706e-02</br>    8.57225638e-02   8.52178507e-02   6.68311088e-02   4.78462264e-02</br>    2.24265489e-02   8.61085652e-03  -3.54568262e-03  -1.65986400e-03</br>    1.48831316e-02   3.41149564e-02   5.52046703e-02   8.33545627e-02</br>    1.08611470e-01   1.32683030e-01   1.62036324e-01   1.92447625e-01</br>    2.22484251e-01   2.50572596e-01   2.77565265e-01   2.96767941e-01</br>    3.03459098e-01   2.93077367e-01   2.69953021e-01   2.36120140e-01</br>    1.90281077e-01   1.42589837e-01   9.90034385e-02   5.85239618e-02</br>    3.46202187e-02   7.72776517e-03   2.76337935e-03  -2.42033574e-03</br>   -1.73985307e-03   1.89118200e-03]</br> [ -2.73899993e-01   4.54655429e-01   3.09889510e-01   2.32073326e-01</br>    2.78833753e-01   2.87508282e-01   2.42771479e-01   1.95172718e-01</br>    1.34446954e-01   5.40282073e-02  -2.70881531e-02  -1.06178753e-01</br>   -1.66537359e-01  -2.11824348e-01  -2.25933117e-01  -2.23873300e-01</br>   -2.02149026e-01  -1.57424157e-01  -9.50130927e-02  -2.31229800e-02</br>    5.59821285e-02   1.31403643e-01   2.11183696e-01   2.73752977e-01</br>    3.26650593e-01   3.61626554e-01   3.84730636e-01   3.79047458e-01</br>    3.55802980e-01   3.13436607e-01   2.42215702e-01   1.60477827e-01</br>    6.45123291e-02  -3.13285525e-02  -1.32964401e-01  -2.18277220e-01</br>   -2.88259217e-01  -3.29922390e-01  -3.47758638e-01  -3.43183042e-01</br>   -3.17456637e-01  -2.75668031e-01  -2.28038892e-01  -1.74009861e-01</br>   -1.29981880e-01  -8.13309807e-02  -5.12106908e-02  -2.81355650e-02</br>   -1.03946236e-02  -5.37534555e-03]</br> [ -8.76686839e-01  -3.90178126e-01  -1.48378194e-01  -5.33465940e-02</br>    4.63717048e-03   3.89087463e-02   5.55705245e-02   7.64447589e-02</br>    1.05330374e-01   1.33692240e-01   1.75668751e-01   2.25619362e-01</br>    2.95197045e-01   3.47667019e-01   3.97164135e-01   4.65775942e-01</br>    5.11259668e-01   5.40402744e-01   5.61224746e-01   5.77319989e-01</br>    5.86680845e-01   5.80863535e-01   5.65525886e-01   5.20516564e-01</br>    4.66722555e-01   3.88989437e-01   2.95701774e-01   1.80706973e-01</br>    6.30950741e-02  -4.90784696e-02  -1.68449733e-01  -2.57113403e-01</br>   -3.27841903e-01  -3.79380580e-01  -3.96767375e-01  -3.94635751e-01</br>   -3.73643700e-01  -3.43222141e-01  -2.94894012e-01  -2.55052029e-01</br>   -2.01256641e-01  -1.64289898e-01  -1.38739738e-01  -1.07676449e-01</br>   -7.45676194e-02  -5.67980840e-02  -3.91256278e-02  -2.78269328e-02</br>   -1.64413646e-02  -1.74195965e-03]</br> [ -4.54800404e-01  -3.80907481e-01   1.16131542e-01   1.81094253e-01</br>    2.79937578e-01   3.41111899e-01   3.32070644e-01   3.41406496e-01</br>    3.50089762e-01   3.27980965e-01   2.90719594e-01   2.54718298e-01</br>    2.12354200e-01   1.71380202e-01   1.21529122e-01   8.31726712e-02</br>    5.27995534e-02   2.63852650e-02   8.10833736e-03  -1.16766840e-02</br>   -2.62236870e-02  -4.73437272e-02  -7.36401931e-02  -1.03906107e-01</br>   -1.42640269e-01  -1.79007166e-01  -2.13007878e-01  -2.37772200e-01</br>   -2.50437642e-01  -2.49581074e-01  -2.36869276e-01  -2.11368005e-01</br>   -1.75517438e-01  -1.36195614e-01  -8.79072597e-02  -4.47392315e-02</br>   -3.21212894e-03   3.45094170e-02   6.51217975e-02   8.55757870e-02</br>    9.95485463e-02   1.02162744e-01   9.64559675e-02   8.51782144e-02</br>    6.80731815e-02   5.31814965e-02   3.42477269e-02   2.11329832e-02</br>    7.39676852e-03   1.97617764e-03]]</td><td>N([ 0.],[ 1.])</td><td>(none)</td></tr><tr><td>collaborative_pref_gps.W</td><td>[[ 0.36874297  0.06560367  0.67099675 -0.384753   -0.68615554]</br> [ 0.90654124 -0.06328865 -0.27055595 -0.0261718  -0.03735761]</br> [ 0.66428844 -0.59028589  0.2225385  -0.00123046  0.23060984]</br> [ 0.33940801 -0.48231563  0.02124937 -0.24188886  0.37707873]</br> [-0.45078476  0.5001011  -0.51745209 -0.21940978  0.01222035]</br> [-0.44370415  0.40924078 -0.16178635  0.45456631 -0.16342778]</br> [ 0.01654311 -0.60429737  0.06962654  0.17949975  0.57416914]</br> [ 0.19314616 -0.08968372  0.20653219  0.66212234 -0.12855461]</br> [-0.47972662  0.19054822  0.41036789 -0.13399031 -0.34115456]</br> [-0.22968305 -0.13124276  0.72461937  0.44180425 -0.3249537 ]</br> [ 0.11938344 -0.26767837  0.24330142  0.97249003  0.05299625]</br> [-0.06882316 -0.41129658  0.14535006  0.54964399  0.34209642]</br> [-1.02166012  0.07100279  0.34605162  0.0480435   0.0120687 ]</br> [-0.19174497  0.1871927   0.12277589  0.75198102 -0.22801742]</br> [-0.31055365 -0.14163566  0.32978911  0.69942803  0.00327006]</br> [-0.0858029  -0.15082841 -0.17140606  0.98108546  0.3061962 ]</br> [-0.08373366 -0.276817   -0.09156657  0.64560214  0.38072467]</br> [-0.67526738  0.13630434  0.0415454   0.70921946  0.0477974 ]</br> [ 0.06438158 -0.687204    0.48761436  0.00235985  0.33698766]</br> [ 0.06417522 -0.59589652  0.66383815  0.15404669  0.10982957]</br> [-0.18110886 -0.27322916  0.29453947  0.6643563   0.12402243]]</td><td>N([ 0.],[ 1.])</td><td>(none)</td></tr><tr><td>collaborative_pref_gps.kerns_list.item0.lengthscales</td><td>[ 0.26938104]</td><td>Ga([ 1.],[ 1.])</td><td>+ve</td></tr><tr><td>collaborative_pref_gps.kerns_list.item0.variance</td><td>[ 2.01480758]</td><td>Ga([ 1.],[ 1.])</td><td>+ve</td></tr><tr><td>collaborative_pref_gps.kerns_list.item0.lengthscales</td><td>[ 0.26938104]</td><td>Ga([ 1.],[ 1.])</td><td>+ve</td></tr><tr><td>collaborative_pref_gps.kerns_list.item0.variance</td><td>[ 2.01480758]</td><td>Ga([ 1.],[ 1.])</td><td>+ve</td></tr><tr><td>collaborative_pref_gps.kerns_list.item0.lengthscales</td><td>[ 0.26938104]</td><td>Ga([ 1.],[ 1.])</td><td>+ve</td></tr><tr><td>collaborative_pref_gps.kerns_list.item0.variance</td><td>[ 2.01480758]</td><td>Ga([ 1.],[ 1.])</td><td>+ve</td></tr><tr><td>collaborative_pref_gps.kerns_list.item0.lengthscales</td><td>[ 0.26938104]</td><td>Ga([ 1.],[ 1.])</td><td>+ve</td></tr><tr><td>collaborative_pref_gps.kerns_list.item0.variance</td><td>[ 2.01480758]</td><td>Ga([ 1.],[ 1.])</td><td>+ve</td></tr><tr><td>collaborative_pref_gps.kerns_list.item0.lengthscales</td><td>[ 0.26938104]</td><td>Ga([ 1.],[ 1.])</td><td>+ve</td></tr><tr><td>collaborative_pref_gps.kerns_list.item0.variance</td><td>[ 2.01480758]</td><td>Ga([ 1.],[ 1.])</td><td>+ve</td></tr></table>"
      ],
      "text/plain": [
       "<GPCollabPrefAct.collab_gpmc.GPCollabPrefLearnGPMC at 0x1a1d9859d0>"
      ]
     },
     "execution_count": 10,
     "metadata": {},
     "output_type": "execute_result"
    }
   ],
   "source": [
    "m"
   ]
  },
  {
   "cell_type": "code",
   "execution_count": 11,
   "metadata": {},
   "outputs": [
    {
     "name": "stdout",
     "output_type": "stream",
     "text": [
      "burn-in sampling started\n",
      "Iteration:  100 \t Acc Rate:  97.0 %\n",
      "Iteration:  200 \t Acc Rate:  99.0 %\n",
      "Iteration:  300 \t Acc Rate:  99.0 %\n",
      "Iteration:  400 \t Acc Rate:  99.0 %\n",
      "Iteration:  500 \t Acc Rate:  100.0 %\n",
      "burn-in sampling ended\n",
      "Iteration:  100 \t Acc Rate:  97.0 %\n",
      "Iteration:  200 \t Acc Rate:  100.0 %\n",
      "Iteration:  300 \t Acc Rate:  100.0 %\n",
      "Iteration:  400 \t Acc Rate:  99.0 %\n",
      "Iteration:  500 \t Acc Rate:  99.0 %\n",
      "Iteration:  600 \t Acc Rate:  98.0 %\n",
      "Iteration:  700 \t Acc Rate:  99.0 %\n",
      "Iteration:  800 \t Acc Rate:  100.0 %\n",
      "Iteration:  900 \t Acc Rate:  99.0 %\n",
      "Iteration:  1000 \t Acc Rate:  100.0 %\n",
      "Iteration:  1100 \t Acc Rate:  100.0 %\n",
      "Iteration:  1200 \t Acc Rate:  100.0 %\n",
      "Iteration:  1300 \t Acc Rate:  99.0 %\n",
      "Iteration:  1400 \t Acc Rate:  100.0 %\n",
      "Iteration:  1500 \t Acc Rate:  100.0 %\n",
      "Iteration:  1600 \t Acc Rate:  97.0 %\n",
      "Iteration:  1700 \t Acc Rate:  100.0 %\n",
      "Iteration:  1800 \t Acc Rate:  99.0 %\n",
      "Iteration:  1900 \t Acc Rate:  100.0 %\n",
      "Iteration:  2000 \t Acc Rate:  98.0 %\n"
     ]
    }
   ],
   "source": [
    "samples = m.sample(1000, verbose=True, epsilon=0.02, thin = 2, burn = 500, Lmax = 40)"
   ]
  },
  {
   "cell_type": "markdown",
   "metadata": {},
   "source": [
    "# Predict latent GPs Hs and Ws - Fully Bayesian"
   ]
  },
  {
   "cell_type": "code",
   "execution_count": 12,
   "metadata": {
    "collapsed": true
   },
   "outputs": [],
   "source": [
    "min_grid = 0.\n",
    "max_grid = 1.\n",
    "num_grid = 20\n",
    "\n",
    "Xt = np.linspace(min_grid, max_grid, 2*num_grid)\n",
    "Xt_norm = (Xt - 0.5)/0.5\n",
    "Xt1 = np.linspace(min_grid, max_grid, num_grid)\n",
    "Xt2 = np.linspace(min_grid, max_grid, num_grid)\n",
    "\n",
    "Xtt1, Xtt2 = np.meshgrid(Xt1, Xt2)\n",
    "X_grid = np.zeros(shape =(np.ravel(Xtt1).shape[0],2))\n",
    "X_grid[:,0] = np.ravel(Xtt1) \n",
    "X_grid[:,1] = np.ravel(Xtt2)\n",
    "\n",
    "X_grid_norm = (X_grid - 0.5)/0.5\n",
    "num_feat = X_grid_norm.shape[1]/2"
   ]
  },
  {
   "cell_type": "code",
   "execution_count": 13,
   "metadata": {
    "collapsed": true
   },
   "outputs": [],
   "source": [
    "# Finding the posterior preference probabilities at the grid points\n",
    "X_grid_norm_concat = np.vstack([X_grid_norm[:,:num_feat], X_grid_norm[:,num_feat:]])"
   ]
  },
  {
   "cell_type": "code",
   "execution_count": 14,
   "metadata": {
    "collapsed": true
   },
   "outputs": [],
   "source": [
    "def multi_normal_samples(mu, std, num_samples):\n",
    "    \"\"\"\n",
    "    Sampling from a normal distribution with multiple mean and std\n",
    "    \"\"\"\n",
    "    samples = np.array([])\n",
    "    for i in xrange(mu.shape[0]):\n",
    "        sample = np.random.normal(mu[i], std[i], num_samples)\n",
    "        samples = np.append(samples, sample)\n",
    "    return samples\n",
    "\n",
    "def h_all_samples(mu_list, var_list):\n",
    "    \"\"\"\n",
    "    Utility samples for all concerned occupants\n",
    "    Inputs:\n",
    "    mu_list : list of mean utility values for all occupants len(mu_list) = num of occupants\n",
    "    var_list : list of variance associated with utility values for all occupants\n",
    "    \"\"\"\n",
    "    h_samples_mat = np.zeros((len(mu_list), mu_list[0].shape[0]))\n",
    "    for i in xrange(len(mu_list)):\n",
    "        mu = mu_list[i]\n",
    "        #print mu.shape\n",
    "        var = var_list[i]\n",
    "        #print var.shape\n",
    "        std = np.sqrt(var)\n",
    "        h_sample = multi_normal_samples(mu, std, 1)\n",
    "        #print u_sample\n",
    "        h_samples_mat[i] = h_sample\n",
    "    return h_samples_mat"
   ]
  },
  {
   "cell_type": "code",
   "execution_count": 15,
   "metadata": {
    "collapsed": true
   },
   "outputs": [],
   "source": [
    "def utility_samples_all_occupants(mu_list, var_list):\n",
    "    \"\"\"\n",
    "    Utility samples for all concerned occupants\n",
    "    Inputs:\n",
    "    mu_list : list of mean utility values for all occupants len(mu_list) = num of occupants\n",
    "    var_list : list of variance associated with utility values for all occupants\n",
    "    \"\"\"\n",
    "    u_samples_mat = np.zeros((len(mu_list), mu_list[0].shape[0]))\n",
    "    for i in xrange(len(mu_list)):\n",
    "        mu = mu_list[i]\n",
    "        #print mu.shape\n",
    "        var = var_list[i]\n",
    "        #print var.shape\n",
    "        std = np.sqrt(var)\n",
    "        u_sample = multi_normal_samples(mu, std, 1)\n",
    "        #print u_sample\n",
    "        u_samples_mat[i] = u_sample\n",
    "    return u_samples_mat"
   ]
  },
  {
   "cell_type": "code",
   "execution_count": 16,
   "metadata": {
    "collapsed": true
   },
   "outputs": [],
   "source": [
    "from scipy.stats import norm\n",
    "\n",
    "u_list = []\n",
    "h_list = []\n",
    "w_list = []\n",
    "p_list = []\n",
    "for s in samples:\n",
    "    m.set_state(s)\n",
    "    mu_list, var_list = m.predict_h(X_grid_norm_concat)\n",
    "    h_all_occ = utility_samples_all_occupants(mu_list, var_list)\n",
    "    W = m.W.value \n",
    "    u = np.dot(W, h_all_occ)\n",
    "    num_datapoints = u.shape[1]\n",
    "    u1 = u[:,:num_datapoints/2]\n",
    "    u2 = u[:,num_datapoints/2:]\n",
    "    u_diff = u2 - u1\n",
    "    p = norm.cdf(u_diff)\n",
    "    \n",
    "    h_list.append(h_all_occ)\n",
    "    w_list.append(W)\n",
    "    u_list.append(u)\n",
    "    p_list.append(p)"
   ]
  },
  {
   "cell_type": "code",
   "execution_count": 17,
   "metadata": {
    "collapsed": true
   },
   "outputs": [],
   "source": [
    "h_all_mat = np.asarray(h_list)\n",
    "w_all_mat = np.asarray(w_list)\n",
    "u_all_mat = np.asarray(u_list)\n",
    "p_all_mat = np.asarray(p_list)"
   ]
  },
  {
   "cell_type": "code",
   "execution_count": 18,
   "metadata": {
    "collapsed": true
   },
   "outputs": [],
   "source": [
    "p_all_mean_mat = np.mean(p_all_mat, axis = 0)\n",
    "p_all_std_mat = np.std(p_all_mat, axis = 0)"
   ]
  },
  {
   "cell_type": "code",
   "execution_count": null,
   "metadata": {
    "collapsed": true
   },
   "outputs": [],
   "source": []
  },
  {
   "cell_type": "code",
   "execution_count": null,
   "metadata": {
    "collapsed": true
   },
   "outputs": [],
   "source": []
  },
  {
   "cell_type": "markdown",
   "metadata": {},
   "source": [
    "# Plot and save pref probabilities for all occupants"
   ]
  },
  {
   "cell_type": "code",
   "execution_count": 19,
   "metadata": {
    "collapsed": true,
    "scrolled": false
   },
   "outputs": [],
   "source": [
    "mean_levels = np.linspace(0,1.)\n",
    "std_levels = np.linspace(0,.4)\n",
    "\n",
    "for i in xrange(21):\n",
    "    occ_num = i + 1\n",
    "    a = config['O' + str(occ_num)]['a']\n",
    "    b = config['O' + str(occ_num)]['b']\n",
    "    # Load actions data\n",
    "    actions_data = np.loadtxt('../data/syn_data/syn_occ/actions_data/train/' +\n",
    "                         'O_a' + str(a) + '_b' + str(b) + '_' + str(num_data) + '_.csv', delimiter = ',')\n",
    "    X_current = actions_data[:,1]\n",
    "    X_previous = actions_data[:,0]\n",
    "    \n",
    "    plt.figure(figsize=(12,10))\n",
    "    mean_reshape = p_all_mean_mat[i,:].reshape((num_grid, num_grid), order='F')\n",
    "    c = plt.contourf(Xt1,Xt1,mean_reshape.T,\n",
    "                     mean_levels, cmap=plt.cm.Blues)\n",
    "    plt.scatter(X_previous,X_current, marker = '.', c = 'r', s = 200, alpha = 1)\n",
    "    plt.colorbar(c)\n",
    "    plt.xlabel('Before Action')\n",
    "    plt.ylabel('After Action')\n",
    "    plt.title('Mean Predicted Preference Probability ; Occupant:' + str(i))\n",
    "    # + 'O_a' + str(a) + '_b' + str(b) + '_' + str(num_data)\n",
    "    plt.savefig(('../data/syn_data/results/collab/CM'\n",
    "                 + 'O_a' + str(a) + '_b' + str(b) +\n",
    "                 '_n_' + str(num_data) + '_h_' + str(num_latent_gps) + '_.png'), dpi = 300)\n",
    "    plt.close()\n",
    "    plt.figure(figsize=(12,10))\n",
    "    std_reshape = p_all_std_mat[i,:].reshape((num_grid, num_grid), order='F')\n",
    "    \n",
    "    c_v = plt.contourf(Xt1,Xt1,std_reshape.T,\n",
    "                 std_levels, cmap=plt.cm.Blues)\n",
    "    \n",
    "    plt.scatter(X_previous,X_current, marker = '.', c = 'r', s = 200, alpha = 1)\n",
    "    plt.colorbar(c_v)\n",
    "    plt.xlabel('Before Action')\n",
    "    plt.ylabel('After Action')\n",
    "    plt.title('Std Predicted Preference Probability ; Occupant:' + str(i))\n",
    "    plt.savefig(('../data/syn_data/results/collab/CV'\n",
    "                 + 'O_a' + str(a) + '_b' + str(b) +\n",
    "                 '_n_' + str(num_data) + '_h_' + str(num_latent_gps) + '_.png'), dpi = 300)\n",
    "    plt.close()\n",
    "    "
   ]
  },
  {
   "cell_type": "markdown",
   "metadata": {},
   "source": [
    "# Evaluating Performance Metrics on Occupant 10"
   ]
  },
  {
   "cell_type": "code",
   "execution_count": 92,
   "metadata": {
    "collapsed": true
   },
   "outputs": [],
   "source": [
    "num_test_duels = 200\n",
    "a_7 = 5\n",
    "b_7 = 10\n",
    "\n",
    "dest_name = 'O_a'+ str(a_7) + '_b' + str(b_7)\n",
    "\n",
    "test_data = np.load('../data/syn_data/syn_occ/occupant_duels/test/' + dest_name + '_' + str(num_test_duels) + '_.npz')"
   ]
  },
  {
   "cell_type": "code",
   "execution_count": 93,
   "metadata": {
    "collapsed": true
   },
   "outputs": [],
   "source": [
    "x1 = test_data['x1']\n",
    "x2 = test_data['x2']\n",
    "y = test_data['y']"
   ]
  },
  {
   "cell_type": "markdown",
   "metadata": {},
   "source": [
    "# Predictions"
   ]
  },
  {
   "cell_type": "code",
   "execution_count": 94,
   "metadata": {
    "collapsed": true
   },
   "outputs": [],
   "source": [
    "X_test_concat = np.hstack([x1,x2])"
   ]
  },
  {
   "cell_type": "code",
   "execution_count": 95,
   "metadata": {
    "collapsed": true
   },
   "outputs": [],
   "source": [
    "X_test_concat_norm = (X_test_concat - 0.5)/0.5"
   ]
  },
  {
   "cell_type": "code",
   "execution_count": 96,
   "metadata": {
    "collapsed": true
   },
   "outputs": [],
   "source": [
    "from scipy.stats import norm\n",
    "\n",
    "u_list = []\n",
    "h_list = []\n",
    "w_list = []\n",
    "p_list = []\n",
    "for s in samples:\n",
    "    m.set_state(s)\n",
    "    mu_list, var_list = m.predict_h(X_test_concat_norm[:,None])\n",
    "    h_all_occ = utility_samples_all_occupants(mu_list, var_list)\n",
    "    W = m.W.value \n",
    "    u = np.dot(W, h_all_occ)\n",
    "    num_datapoints = u.shape[1]\n",
    "    u1 = u[:,:num_datapoints/2]\n",
    "    u2 = u[:,num_datapoints/2:]\n",
    "    u_diff = u2 - u1\n",
    "    p = norm.cdf(u_diff)\n",
    "    \n",
    "    h_list.append(h_all_occ)\n",
    "    w_list.append(W)\n",
    "    u_list.append(u)\n",
    "    p_list.append(p)"
   ]
  },
  {
   "cell_type": "code",
   "execution_count": 97,
   "metadata": {
    "collapsed": true
   },
   "outputs": [],
   "source": [
    "h_all_mat = np.asarray(h_list)\n",
    "w_all_mat = np.asarray(w_list)\n",
    "u_all_mat = np.asarray(u_list)\n",
    "p_all_mat = np.asarray(p_list)\n",
    "p_all_mean_mat = np.mean(p_all_mat, axis = 0)\n",
    "p_all_std_mat = np.std(p_all_mat, axis = 0)"
   ]
  },
  {
   "cell_type": "code",
   "execution_count": 98,
   "metadata": {},
   "outputs": [
    {
     "data": {
      "text/plain": [
       "(21, 200)"
      ]
     },
     "execution_count": 98,
     "metadata": {},
     "output_type": "execute_result"
    }
   ],
   "source": [
    "p_all_mean_mat.shape"
   ]
  },
  {
   "cell_type": "code",
   "execution_count": 99,
   "metadata": {
    "collapsed": true
   },
   "outputs": [],
   "source": [
    "p_7 = p_all_mat[:,18,:]\n",
    "p_7_mean = p_all_mean_mat[18,:]\n",
    "p_7_std = p_all_std_mat[18,:]"
   ]
  },
  {
   "cell_type": "code",
   "execution_count": 100,
   "metadata": {},
   "outputs": [
    {
     "name": "stdout",
     "output_type": "stream",
     "text": [
      "boxplot\n"
     ]
    },
    {
     "data": {
      "image/png": "[encoded data removed]",
      "text/plain": [
       "<matplotlib.figure.Figure at 0x1a4bdf4710>"
      ]
     },
     "metadata": {},
     "output_type": "display_data"
    }
   ],
   "source": [
    "from Misc import performance_metrics, visualize\n",
    "i = 40\n",
    "num_visualize = 20\n",
    "visualize.prob_pred_boxplot(p_7[:,i:i+10], y[i:i+10])"
   ]
  },
  {
   "cell_type": "code",
   "execution_count": 101,
   "metadata": {
    "collapsed": true
   },
   "outputs": [],
   "source": [
    "hit_rate = performance_metrics.hit_rate(p_7_mean, y)"
   ]
  },
  {
   "cell_type": "code",
   "execution_count": 102,
   "metadata": {},
   "outputs": [
    {
     "name": "stdout",
     "output_type": "stream",
     "text": [
      "hit rate:\n",
      "0.94\n"
     ]
    }
   ],
   "source": [
    "print 'hit rate:'\n",
    "print hit_rate"
   ]
  },
  {
   "cell_type": "code",
   "execution_count": 103,
   "metadata": {},
   "outputs": [
    {
     "name": "stdout",
     "output_type": "stream",
     "text": [
      "out of sample dev:\n",
      "233.181222475\n"
     ]
    }
   ],
   "source": [
    "out_of_sample_dev = performance_metrics.out_of_sample_deviance(p_7, y)\n",
    "print 'out of sample dev:'\n",
    "print out_of_sample_dev"
   ]
  },
  {
   "cell_type": "markdown",
   "metadata": {},
   "source": [
    "# Occupant "
   ]
  },
  {
   "cell_type": "code",
   "execution_count": null,
   "metadata": {
    "collapsed": true
   },
   "outputs": [],
   "source": []
  },
  {
   "cell_type": "code",
   "execution_count": null,
   "metadata": {
    "collapsed": true
   },
   "outputs": [],
   "source": [
    "ii = 3\n",
    "\n",
    "mean_levels = np.linspace(0,1.)\n",
    "\n",
    "plt.figure(figsize=(12,10))\n",
    "mean_reshape = p_all_mean_mat[ii,:].reshape((num_grid, num_grid), order='F')\n",
    "c = plt.contourf(Xt1,Xt1,mean_reshape.T,\n",
    "                 mean_levels, cmap=plt.cm.Blues)\n",
    "plt.colorbar(c)\n",
    "plt.xlabel('Previous')\n",
    "plt.ylabel('Current')\n",
    "plt.title('Mean Predicted Preference Probability Contour Plot')\n",
    "\n",
    "levels = np.linspace(0,.4)\n",
    "plt.figure(figsize=(12,10))\n",
    "mean_reshape = p_all_std_mat[ii,:].reshape((num_grid, num_grid), order='F')\n",
    "c = plt.contourf(Xt1,Xt1,mean_reshape.T,\n",
    "                 levels, cmap=plt.cm.Blues)\n",
    "plt.colorbar(c)\n",
    "plt.xlabel('Previous')\n",
    "plt.ylabel('Current')\n",
    "plt.title('Std Predicted Preference Probability Contour Plot')"
   ]
  },
  {
   "cell_type": "code",
   "execution_count": null,
   "metadata": {
    "collapsed": true
   },
   "outputs": [],
   "source": []
  },
  {
   "cell_type": "markdown",
   "metadata": {},
   "source": [
    "# Occupant 2"
   ]
  },
  {
   "cell_type": "code",
   "execution_count": null,
   "metadata": {
    "collapsed": true
   },
   "outputs": [],
   "source": [
    "mean_levels = np.linspace(0,1.)\n",
    "plt.figure(figsize=(12,10))\n",
    "mean_reshape = p_all_mean_mat[1,:].reshape((num_grid, num_grid), order='F')\n",
    "c = plt.contourf(Xt1,Xt1,mean_reshape.T,\n",
    "                 mean_levels, cmap=plt.cm.Blues)\n",
    "plt.colorbar(c)\n",
    "plt.xlabel('Previous')\n",
    "plt.ylabel('Current')\n",
    "plt.title('Mean Predicted Preference Probability Contour Plot')"
   ]
  },
  {
   "cell_type": "code",
   "execution_count": null,
   "metadata": {
    "collapsed": true
   },
   "outputs": [],
   "source": [
    "levels = np.linspace(0,.4)\n",
    "plt.figure(figsize=(12,10))\n",
    "mean_reshape = p_all_std_mat[1,:].reshape((num_grid, num_grid), order='F')\n",
    "c = plt.contourf(Xt1,Xt1,mean_reshape.T,\n",
    "                 levels, cmap=plt.cm.Blues)\n",
    "plt.colorbar(c)\n",
    "plt.xlabel('Previous')\n",
    "plt.ylabel('Current')\n",
    "plt.title('Std Predicted Preference Probability Contour Plot')"
   ]
  },
  {
   "cell_type": "markdown",
   "metadata": {},
   "source": [
    "# Occupant 3"
   ]
  },
  {
   "cell_type": "code",
   "execution_count": null,
   "metadata": {
    "collapsed": true
   },
   "outputs": [],
   "source": [
    "mean_levels = np.linspace(0,1.)\n",
    "plt.figure(figsize=(12,10))\n",
    "mean_reshape = p_all_mean_mat[2,:].reshape((num_grid, num_grid), order='F')\n",
    "c = plt.contourf(Xt1,Xt1,mean_reshape.T,\n",
    "                 mean_levels, cmap=plt.cm.Blues)\n",
    "plt.colorbar(c)\n",
    "plt.xlabel('Previous')\n",
    "plt.ylabel('Current')\n",
    "plt.title('Mean Predicted Preference Probability Contour Plot')"
   ]
  },
  {
   "cell_type": "code",
   "execution_count": null,
   "metadata": {
    "collapsed": true
   },
   "outputs": [],
   "source": [
    "levels = np.linspace(0,.4)\n",
    "plt.figure(figsize=(12,10))\n",
    "mean_reshape = p_all_std_mat[2,:].reshape((num_grid, num_grid), order='F')\n",
    "c = plt.contourf(Xt1,Xt1,mean_reshape.T,\n",
    "                 levels, cmap=plt.cm.Blues)\n",
    "plt.colorbar(c)\n",
    "plt.xlabel('Previous')\n",
    "plt.ylabel('Current')\n",
    "plt.title('Std Predicted Preference Probability Contour Plot')"
   ]
  },
  {
   "cell_type": "code",
   "execution_count": null,
   "metadata": {
    "collapsed": true
   },
   "outputs": [],
   "source": []
  }
 ],
 "metadata": {
  "kernelspec": {
   "display_name": "Python [default]",
   "language": "python",
   "name": "python2"
  },
  "language_info": {
   "codemirror_mode": {
    "name": "ipython",
    "version": 2
   },
   "file_extension": ".py",
   "mimetype": "text/x-python",
   "name": "python",
   "nbconvert_exporter": "python",
   "pygments_lexer": "ipython2",
   "version": "2.7.14"
  }
 },
 "nbformat": 4,
 "nbformat_minor": 2
}
