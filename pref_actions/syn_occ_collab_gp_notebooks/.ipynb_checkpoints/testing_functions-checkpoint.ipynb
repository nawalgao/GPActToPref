{
 "cells": [
  {
   "cell_type": "code",
   "execution_count": 1,
   "metadata": {},
   "outputs": [
    {
     "ename": "RuntimeError",
     "evalue": "module compiled against API version 0xb but this version of numpy is 0xa",
     "output_type": "error",
     "traceback": [
      "\u001b[0;31m---------------------------------------------------------------------------\u001b[0m",
      "\u001b[0;31mRuntimeError\u001b[0m                              Traceback (most recent call last)",
      "\u001b[0;31mRuntimeError\u001b[0m: module compiled against API version 0xb but this version of numpy is 0xa"
     ]
    },
    {
     "ename": "RuntimeError",
     "evalue": "module compiled against API version 0xb but this version of numpy is 0xa",
     "output_type": "error",
     "traceback": [
      "\u001b[0;31m---------------------------------------------------------------------------\u001b[0m",
      "\u001b[0;31mRuntimeError\u001b[0m                              Traceback (most recent call last)",
      "\u001b[0;31mRuntimeError\u001b[0m: module compiled against API version 0xb but this version of numpy is 0xa"
     ]
    }
   ],
   "source": [
    "import json\n",
    "import gpflow\n",
    "import numpy as np\n",
    "import matplotlib.pyplot as plt\n",
    "import math\n",
    "%matplotlib inline\n",
    "import seaborn as sns\n",
    "sns.set_style(\"white\")\n",
    "sns.set_context(\"paper\")\n",
    "import sys\n",
    "sys.path.append('../')\n",
    "from Misc import syn_data_gen, save_load_files"
   ]
  },
  {
   "cell_type": "markdown",
   "metadata": {},
   "source": [
    "# Load Actions Data of all occupants"
   ]
  },
  {
   "cell_type": "code",
   "execution_count": 2,
   "metadata": {
    "collapsed": true
   },
   "outputs": [],
   "source": [
    "num_data = 20"
   ]
  },
  {
   "cell_type": "code",
   "execution_count": 3,
   "metadata": {},
   "outputs": [
    {
     "name": "stdout",
     "output_type": "stream",
     "text": [
      "Occupant number:\n",
      "1\n",
      "Occupant number:\n",
      "2\n",
      "Occupant number:\n",
      "3\n",
      "Occupant number:\n",
      "4\n",
      "Occupant number:\n",
      "5\n",
      "Occupant number:\n",
      "6\n",
      "Occupant number:\n",
      "7\n",
      "Occupant number:\n",
      "8\n",
      "Occupant number:\n",
      "9\n",
      "Occupant number:\n",
      "10\n",
      "Occupant number:\n",
      "11\n",
      "Occupant number:\n",
      "12\n",
      "Occupant number:\n",
      "13\n",
      "Occupant number:\n",
      "14\n",
      "Occupant number:\n",
      "15\n",
      "Occupant number:\n",
      "16\n",
      "Occupant number:\n",
      "17\n",
      "Occupant number:\n",
      "18\n",
      "Occupant number:\n",
      "19\n",
      "Occupant number:\n",
      "20\n",
      "Occupant number:\n",
      "21\n"
     ]
    }
   ],
   "source": [
    "all_actions_data_list = []\n",
    "for i in xrange(21):\n",
    "    occ_num = i + 1\n",
    "    print \"Occupant number:\"\n",
    "    print occ_num\n",
    "    config_file = '../data/config_files/syn/diff_utilities_config/syn_occupants.json'\n",
    "    with open(config_file, 'r') as fd:\n",
    "        config = json.loads(fd.read())\n",
    "\n",
    "    a = config['O' + str(occ_num)]['a']\n",
    "    b = config['O' + str(occ_num)]['b']\n",
    "    \n",
    "    # Load actions data\n",
    "    actions_data = np.loadtxt('../data/syn_data/syn_occ/actions_data/train/' +\n",
    "                         'O_a' + str(a) + '_b' + str(b) + '_' + str(num_data) + '_.csv', delimiter = ',')\n",
    "    \n",
    "    all_actions_data_list.append(actions_data)"
   ]
  },
  {
   "cell_type": "code",
   "execution_count": 4,
   "metadata": {},
   "outputs": [
    {
     "data": {
      "text/plain": [
       "array([[ 0.67346939,  0.7755102 ],\n",
       "       [ 0.04081633,  0.42857143],\n",
       "       [ 0.89795918,  0.93877551],\n",
       "       [ 0.18367347,  0.97959184],\n",
       "       [ 0.24489796,  0.48979592],\n",
       "       [ 0.18367347,  0.81632653],\n",
       "       [ 0.32653061,  0.3877551 ],\n",
       "       [ 0.10204082,  0.97959184],\n",
       "       [ 0.59183673,  0.87755102],\n",
       "       [ 0.81632653,  0.87755102],\n",
       "       [ 0.34693878,  0.44897959],\n",
       "       [ 0.28571429,  0.51020408],\n",
       "       [ 0.7755102 ,  0.97959184],\n",
       "       [ 0.04081633,  0.75510204],\n",
       "       [ 0.42857143,  0.79591837],\n",
       "       [ 0.53061224,  0.79591837],\n",
       "       [ 0.16326531,  0.46938776],\n",
       "       [ 0.        ,  0.79591837],\n",
       "       [ 0.04081633,  0.14285714],\n",
       "       [ 0.18367347,  0.73469388]])"
      ]
     },
     "execution_count": 4,
     "metadata": {},
     "output_type": "execute_result"
    }
   ],
   "source": [
    "all_actions_data_list[8]"
   ]
  },
  {
   "cell_type": "code",
   "execution_count": 6,
   "metadata": {},
   "outputs": [
    {
     "data": {
      "text/plain": [
       "[1, 1, 1, 1, 1, 1, 1, 1, 1, 1]"
      ]
     },
     "execution_count": 6,
     "metadata": {},
     "output_type": "execute_result"
    }
   ],
   "source": [
    "[1]*10"
   ]
  },
  {
   "cell_type": "code",
   "execution_count": 22,
   "metadata": {},
   "outputs": [],
   "source": [
    "import tensorflow as tf\n",
    "\n",
    "X = tf.random_uniform([256, 32]);\n",
    "Y = tf.split(X,2,0)\n",
    "Y_shape = tf.shape(Y[1])\n",
    "\n",
    "sess = tf.Session()\n",
    "X_v,Y_v,Y_shape_v = sess.run([X,Y,Y_shape]) "
   ]
  },
  {
   "cell_type": "code",
   "execution_count": 23,
   "metadata": {},
   "outputs": [
    {
     "name": "stdout",
     "output_type": "stream",
     "text": [
      "(256, 32)\n"
     ]
    }
   ],
   "source": [
    "print X.shape"
   ]
  },
  {
   "cell_type": "code",
   "execution_count": 24,
   "metadata": {},
   "outputs": [
    {
     "name": "stdout",
     "output_type": "stream",
     "text": [
      "(128, 32)\n"
     ]
    }
   ],
   "source": [
    "print Y[1].shape"
   ]
  },
  {
   "cell_type": "code",
   "execution_count": 20,
   "metadata": {
    "collapsed": true
   },
   "outputs": [],
   "source": [
    "?tf.concat"
   ]
  },
  {
   "cell_type": "code",
   "execution_count": 33,
   "metadata": {
    "collapsed": true
   },
   "outputs": [],
   "source": [
    "a = [[1,2,3], [4,5,6]]"
   ]
  },
  {
   "cell_type": "code",
   "execution_count": 34,
   "metadata": {},
   "outputs": [
    {
     "data": {
      "text/plain": [
       "[[1, 2, 3], [4, 5, 6]]"
      ]
     },
     "execution_count": 34,
     "metadata": {},
     "output_type": "execute_result"
    }
   ],
   "source": [
    "a"
   ]
  },
  {
   "cell_type": "code",
   "execution_count": 35,
   "metadata": {
    "collapsed": true
   },
   "outputs": [],
   "source": [
    "b = tf.convert_to_tensor(a)"
   ]
  },
  {
   "cell_type": "code",
   "execution_count": 36,
   "metadata": {
    "collapsed": true
   },
   "outputs": [],
   "source": [
    "b_v = sess.run(b)"
   ]
  },
  {
   "cell_type": "code",
   "execution_count": 37,
   "metadata": {},
   "outputs": [
    {
     "data": {
      "text/plain": [
       "(2, 3)"
      ]
     },
     "execution_count": 37,
     "metadata": {},
     "output_type": "execute_result"
    }
   ],
   "source": [
    "b_v.shape"
   ]
  },
  {
   "cell_type": "code",
   "execution_count": 55,
   "metadata": {
    "collapsed": true
   },
   "outputs": [],
   "source": [
    "u_all_occupants = np.array([[1,2,3,4, 13, 14],[5,8,7,6, 15, 16], [12,10,11,9, 17, 18]])"
   ]
  },
  {
   "cell_type": "code",
   "execution_count": 56,
   "metadata": {},
   "outputs": [
    {
     "data": {
      "text/plain": [
       "array([[ 1,  2,  3,  4, 13, 14],\n",
       "       [ 5,  8,  7,  6, 15, 16],\n",
       "       [12, 10, 11,  9, 17, 18]])"
      ]
     },
     "execution_count": 56,
     "metadata": {},
     "output_type": "execute_result"
    }
   ],
   "source": [
    "u_all_occupants"
   ]
  },
  {
   "cell_type": "code",
   "execution_count": 61,
   "metadata": {
    "collapsed": true
   },
   "outputs": [],
   "source": [
    "concerned_ind = np.array([[0,2,2,3],[0,2,3,1],[1,3,0,2]])"
   ]
  },
  {
   "cell_type": "code",
   "execution_count": 62,
   "metadata": {},
   "outputs": [
    {
     "data": {
      "text/plain": [
       "array([[ 1,  3,  3,  4],\n",
       "       [ 5,  7,  6,  8],\n",
       "       [10,  9, 12, 11]])"
      ]
     },
     "execution_count": 62,
     "metadata": {},
     "output_type": "execute_result"
    }
   ],
   "source": [
    "u_all_occupants[np.arange(u_all_occupants.shape[0])[:,None],concerned_ind]"
   ]
  },
  {
   "cell_type": "code",
   "execution_count": 86,
   "metadata": {},
   "outputs": [
    {
     "data": {
      "text/plain": [
       "(3, 6)"
      ]
     },
     "execution_count": 86,
     "metadata": {},
     "output_type": "execute_result"
    }
   ],
   "source": [
    "u_all_occupants.shape"
   ]
  },
  {
   "cell_type": "code",
   "execution_count": 116,
   "metadata": {},
   "outputs": [
    {
     "data": {
      "text/plain": [
       "array([[0],\n",
       "       [1],\n",
       "       [2]])"
      ]
     },
     "execution_count": 116,
     "metadata": {},
     "output_type": "execute_result"
    }
   ],
   "source": [
    "np.arange(u_all_occupants.shape[0])[:,None]"
   ]
  },
  {
   "cell_type": "code",
   "execution_count": 97,
   "metadata": {},
   "outputs": [
    {
     "data": {
      "text/plain": [
       "array([[[ 1,  2,  3,  4, 13, 14]],\n",
       "\n",
       "       [[ 5,  8,  7,  6, 15, 16]],\n",
       "\n",
       "       [[12, 10, 11,  9, 17, 18]]])"
      ]
     },
     "execution_count": 97,
     "metadata": {},
     "output_type": "execute_result"
    }
   ],
   "source": [
    "u_all_occupants[np.arange(u_all_occupants.shape[0])[:,None]]"
   ]
  },
  {
   "cell_type": "code",
   "execution_count": 54,
   "metadata": {
    "collapsed": true
   },
   "outputs": [],
   "source": [
    "# now let's say we have observed following actions (2 actions for each occupant)\n",
    "# for occ 1 : we see from ind 0 --> ind 2 and ind 2 to ind 3\n",
    "# for occ 2 : we see from ind 0 --> ind 3 and ind 2 to ind 1\n",
    "# for occ 3 : we see from ind 1 --> ind 0 and ind 3 to ind 2"
   ]
  },
  {
   "cell_type": "code",
   "execution_count": 58,
   "metadata": {
    "collapsed": true
   },
   "outputs": [],
   "source": [
    "# concerned matrix indices should work as follows\n",
    "# for occ 1 [0,2,2,3]\n",
    "# for occ 2 [0,2,3,1]\n",
    "# for occ 3 [1,3,0,2]\n",
    "# concerned matrix is then given as follow;\n",
    "# [1, 3, 3, 4]\n",
    "# [5, 7, 6, 8]\n",
    "# [10, 9, 12, 11]"
   ]
  },
  {
   "cell_type": "code",
   "execution_count": null,
   "metadata": {
    "collapsed": true
   },
   "outputs": [],
   "source": [
    "#A[np.arange(A.shape[0])[:,None],B]"
   ]
  },
  {
   "cell_type": "code",
   "execution_count": 118,
   "metadata": {
    "scrolled": true
   },
   "outputs": [
    {
     "data": {
      "text/plain": [
       "array([[  4, 100,   5],\n",
       "       [ 10, 500,  20]])"
      ]
     },
     "execution_count": 118,
     "metadata": {},
     "output_type": "execute_result"
    }
   ],
   "source": [
    "import numpy as np\n",
    "values = np.array([\n",
    "    [5,4,100],\n",
    "    [10,20,500]\n",
    "])\n",
    "reorder_rows = np.array([\n",
    "    [1,2,0],\n",
    "    [0,2,1]\n",
    "])\n",
    "\n",
    "import tensorflow as tf\n",
    "\n",
    "values = tf.constant(values)\n",
    "reorder_rows = tf.constant(reorder_rows, dtype=tf.int32)\n",
    "x = tf.tile(tf.range(tf.shape(values)[0])[:,tf.newaxis], [1,tf.shape(values)[1]])\n",
    "res = tf.gather_nd(values, tf.stack([x, reorder_rows], axis=-1))\n",
    "sess = tf.InteractiveSession()\n",
    "res.eval()\n"
   ]
  },
  {
   "cell_type": "code",
   "execution_count": 90,
   "metadata": {},
   "outputs": [
    {
     "data": {
      "text/plain": [
       "<tf.Tensor 'Tile_8:0' shape=(?, ?) dtype=int32>"
      ]
     },
     "execution_count": 90,
     "metadata": {},
     "output_type": "execute_result"
    }
   ],
   "source": [
    "x"
   ]
  },
  {
   "cell_type": "code",
   "execution_count": 70,
   "metadata": {},
   "outputs": [
    {
     "name": "stdout",
     "output_type": "stream",
     "text": [
      "(10, 1, 10, 10)\n"
     ]
    }
   ],
   "source": [
    "x = tf.ones((10,10,10))\n",
    "y = x[:, tf.newaxis] # or y = x [:, None]\n",
    "print(y.shape)"
   ]
  },
  {
   "cell_type": "code",
   "execution_count": 104,
   "metadata": {
    "collapsed": true
   },
   "outputs": [],
   "source": [
    "import numpy as np\n",
    "values = np.array([[1,2,3,4, 13, 14],[5,8,7,6, 15, 16], [12,10,11,9, 17, 18]])\n",
    "values = tf.constant(values)"
   ]
  },
  {
   "cell_type": "code",
   "execution_count": 105,
   "metadata": {},
   "outputs": [],
   "source": [
    "concerned_ind = np.array([[0,2,2,3],[0,2,3,1],[1,3,0,2]])\n",
    "concerned_ind = tf.constant(concerned_ind)"
   ]
  },
  {
   "cell_type": "code",
   "execution_count": 119,
   "metadata": {},
   "outputs": [
    {
     "data": {
      "text/plain": [
       "array([[0, 2, 2, 3],\n",
       "       [0, 2, 3, 1],\n",
       "       [1, 3, 0, 2]])"
      ]
     },
     "execution_count": 119,
     "metadata": {},
     "output_type": "execute_result"
    }
   ],
   "source": [
    "concerned_ind.eval()"
   ]
  },
  {
   "cell_type": "code",
   "execution_count": 125,
   "metadata": {},
   "outputs": [],
   "source": [
    "rows = tf.constant(np.arange(10*3).reshape(10,3), dtype=tf.float64)\n",
    "selector = tf.constant([[0], [1], [0], [2], [1], [0], [0], [2], [2], [1]])\n",
    "\n",
    "idx = tf.stack([tf.reshape(tf.range(rows.shape[0]), (-1,1)), selector], axis=-1)\n",
    "\n",
    "res = tf.gather_nd(rows, idx)"
   ]
  },
  {
   "cell_type": "code",
   "execution_count": 126,
   "metadata": {},
   "outputs": [
    {
     "data": {
      "text/plain": [
       "array([[  0.],\n",
       "       [  4.],\n",
       "       [  6.],\n",
       "       [ 11.],\n",
       "       [ 13.],\n",
       "       [ 15.],\n",
       "       [ 18.],\n",
       "       [ 23.],\n",
       "       [ 26.],\n",
       "       [ 28.]])"
      ]
     },
     "execution_count": 126,
     "metadata": {},
     "output_type": "execute_result"
    }
   ],
   "source": [
    "res.eval()"
   ]
  },
  {
   "cell_type": "code",
   "execution_count": 127,
   "metadata": {},
   "outputs": [
    {
     "data": {
      "text/plain": [
       "array([[  0.,   1.,   2.],\n",
       "       [  3.,   4.,   5.],\n",
       "       [  6.,   7.,   8.],\n",
       "       [  9.,  10.,  11.],\n",
       "       [ 12.,  13.,  14.],\n",
       "       [ 15.,  16.,  17.],\n",
       "       [ 18.,  19.,  20.],\n",
       "       [ 21.,  22.,  23.],\n",
       "       [ 24.,  25.,  26.],\n",
       "       [ 27.,  28.,  29.]])"
      ]
     },
     "execution_count": 127,
     "metadata": {},
     "output_type": "execute_result"
    }
   ],
   "source": [
    "rows.eval()"
   ]
  },
  {
   "cell_type": "code",
   "execution_count": 128,
   "metadata": {},
   "outputs": [
    {
     "data": {
      "text/plain": [
       "array([[[0, 0]],\n",
       "\n",
       "       [[1, 1]],\n",
       "\n",
       "       [[2, 0]],\n",
       "\n",
       "       [[3, 2]],\n",
       "\n",
       "       [[4, 1]],\n",
       "\n",
       "       [[5, 0]],\n",
       "\n",
       "       [[6, 0]],\n",
       "\n",
       "       [[7, 2]],\n",
       "\n",
       "       [[8, 2]],\n",
       "\n",
       "       [[9, 1]]], dtype=int32)"
      ]
     },
     "execution_count": 128,
     "metadata": {},
     "output_type": "execute_result"
    }
   ],
   "source": [
    "idx.eval()"
   ]
  },
  {
   "cell_type": "code",
   "execution_count": 129,
   "metadata": {},
   "outputs": [
    {
     "data": {
      "text/plain": [
       "array([[0],\n",
       "       [1],\n",
       "       [0],\n",
       "       [2],\n",
       "       [1],\n",
       "       [0],\n",
       "       [0],\n",
       "       [2],\n",
       "       [2],\n",
       "       [1]], dtype=int32)"
      ]
     },
     "execution_count": 129,
     "metadata": {},
     "output_type": "execute_result"
    }
   ],
   "source": [
    "selector.eval()"
   ]
  },
  {
   "cell_type": "code",
   "execution_count": 133,
   "metadata": {
    "collapsed": true
   },
   "outputs": [],
   "source": [
    "def get_element(a, indices):\n",
    "    \"\"\"\n",
    "    Outputs (ith element of indices) from (ith row of a)\n",
    "    \"\"\"\n",
    "    return tf.map_fn(lambda x: tf.gather_nd(x[0], x[1]), \n",
    "                                  (a, indices),\n",
    "                                  dtype = tf.float32)"
   ]
  },
  {
   "cell_type": "code",
   "execution_count": 136,
   "metadata": {},
   "outputs": [
    {
     "name": "stdout",
     "output_type": "stream",
     "text": [
      "[ 3.  5.  7.]\n"
     ]
    }
   ],
   "source": [
    "A = tf.constant(np.array([[1,2,3],\n",
    "                          [4,5,6],\n",
    "                          [7,8,9]], dtype = np.float32))\n",
    "\n",
    "idx = tf.constant(np.array([[2],[1],[0]]))\n",
    "elems = get_element(A, idx)\n",
    "\n",
    "with tf.Session() as sess:\n",
    "    e = sess.run(elems)\n",
    "\n",
    "print(e)"
   ]
  },
  {
   "cell_type": "code",
   "execution_count": null,
   "metadata": {
    "collapsed": true
   },
   "outputs": [],
   "source": []
  },
  {
   "cell_type": "code",
   "execution_count": null,
   "metadata": {
    "collapsed": true
   },
   "outputs": [],
   "source": []
  },
  {
   "cell_type": "code",
   "execution_count": null,
   "metadata": {
    "collapsed": true
   },
   "outputs": [],
   "source": []
  },
  {
   "cell_type": "code",
   "execution_count": null,
   "metadata": {
    "collapsed": true
   },
   "outputs": [],
   "source": []
  },
  {
   "cell_type": "code",
   "execution_count": null,
   "metadata": {
    "collapsed": true
   },
   "outputs": [],
   "source": []
  },
  {
   "cell_type": "code",
   "execution_count": 141,
   "metadata": {
    "collapsed": true
   },
   "outputs": [],
   "source": [
    "rows = tf.constant(np.arange(10*3).reshape(10,3), dtype=tf.float64)\n",
    "selector1 = tf.constant([[0], [1], [0], [2], [1], [0], [0], [2], [2], [1]])\n",
    "selector2 = tf.constant([[1], [1], [0], [2], [1], [0], [0], [2], [2], [1]])\n",
    "\n",
    "idx1 = tf.stack([tf.reshape(tf.range(rows.shape[0]), (-1,1)), selector1], axis=-1)\n",
    "idx2 = tf.stack([tf.reshape(tf.range(rows.shape[0]), (-1,1)), selector2], axis=-1)\n",
    "\n",
    "res1 = tf.gather_nd(rows, idx1)\n",
    "res2 = tf.gather_nd(rows, idx2)"
   ]
  },
  {
   "cell_type": "code",
   "execution_count": 142,
   "metadata": {},
   "outputs": [
    {
     "data": {
      "text/plain": [
       "array([[  0.],\n",
       "       [  4.],\n",
       "       [  6.],\n",
       "       [ 11.],\n",
       "       [ 13.],\n",
       "       [ 15.],\n",
       "       [ 18.],\n",
       "       [ 23.],\n",
       "       [ 26.],\n",
       "       [ 28.]])"
      ]
     },
     "execution_count": 142,
     "metadata": {},
     "output_type": "execute_result"
    }
   ],
   "source": [
    "res1.eval()"
   ]
  },
  {
   "cell_type": "code",
   "execution_count": 143,
   "metadata": {},
   "outputs": [
    {
     "data": {
      "text/plain": [
       "array([[  1.],\n",
       "       [  4.],\n",
       "       [  6.],\n",
       "       [ 11.],\n",
       "       [ 13.],\n",
       "       [ 15.],\n",
       "       [ 18.],\n",
       "       [ 23.],\n",
       "       [ 26.],\n",
       "       [ 28.]])"
      ]
     },
     "execution_count": 143,
     "metadata": {},
     "output_type": "execute_result"
    }
   ],
   "source": [
    "res2.eval()"
   ]
  },
  {
   "cell_type": "code",
   "execution_count": null,
   "metadata": {
    "collapsed": true
   },
   "outputs": [],
   "source": []
  },
  {
   "cell_type": "code",
   "execution_count": null,
   "metadata": {
    "collapsed": true
   },
   "outputs": [],
   "source": []
  },
  {
   "cell_type": "code",
   "execution_count": 145,
   "metadata": {
    "collapsed": true
   },
   "outputs": [],
   "source": [
    "import numpy as np\n",
    "values = np.array([[1,2,3,4, 13, 14],[5,8,7,6, 15, 16], [12,10,11,9, 17, 18]])\n",
    "values = tf.constant(values)\n",
    "concerned_ind_numpy = np.array([[0,2,2,3],[0,2,3,1],[1,3,0,2]])\n",
    "concerned_ind = tf.constant(concerned_ind)"
   ]
  },
  {
   "cell_type": "code",
   "execution_count": 148,
   "metadata": {},
   "outputs": [
    {
     "ename": "TypeError",
     "evalue": "Tensor objects are not iterable when eager execution is not enabled. To iterate over this tensor use tf.map_fn.",
     "output_type": "error",
     "traceback": [
      "\u001b[0;31m---------------------------------------------------------------------------\u001b[0m",
      "\u001b[0;31mTypeError\u001b[0m                                 Traceback (most recent call last)",
      "\u001b[0;32m<ipython-input-148-e7767d7a0383>\u001b[0m in \u001b[0;36m<module>\u001b[0;34m()\u001b[0m\n\u001b[0;32m----> 1\u001b[0;31m \u001b[0;32mfor\u001b[0m \u001b[0mi\u001b[0m \u001b[0;32min\u001b[0m \u001b[0mconcerned_ind\u001b[0m\u001b[0;34m:\u001b[0m\u001b[0;34m\u001b[0m\u001b[0m\n\u001b[0m\u001b[1;32m      2\u001b[0m     \u001b[0mi\u001b[0m\u001b[0;34m.\u001b[0m\u001b[0meval\u001b[0m\u001b[0;34m(\u001b[0m\u001b[0;34m)\u001b[0m\u001b[0;34m\u001b[0m\u001b[0m\n",
      "\u001b[0;32m/Users/nimishawalgaonkar/anaconda2/lib/python2.7/site-packages/tensorflow/python/framework/ops.pyc\u001b[0m in \u001b[0;36m__iter__\u001b[0;34m(self)\u001b[0m\n\u001b[1;32m    398\u001b[0m     \u001b[0;32mif\u001b[0m \u001b[0;32mnot\u001b[0m \u001b[0mcontext\u001b[0m\u001b[0;34m.\u001b[0m\u001b[0mexecuting_eagerly\u001b[0m\u001b[0;34m(\u001b[0m\u001b[0;34m)\u001b[0m\u001b[0;34m:\u001b[0m\u001b[0;34m\u001b[0m\u001b[0m\n\u001b[1;32m    399\u001b[0m       raise TypeError(\n\u001b[0;32m--> 400\u001b[0;31m           \u001b[0;34m\"Tensor objects are not iterable when eager execution is not \"\u001b[0m\u001b[0;34m\u001b[0m\u001b[0m\n\u001b[0m\u001b[1;32m    401\u001b[0m           \"enabled. To iterate over this tensor use tf.map_fn.\")\n\u001b[1;32m    402\u001b[0m     \u001b[0mshape\u001b[0m \u001b[0;34m=\u001b[0m \u001b[0mself\u001b[0m\u001b[0;34m.\u001b[0m\u001b[0m_shape_tuple\u001b[0m\u001b[0;34m(\u001b[0m\u001b[0;34m)\u001b[0m\u001b[0;34m\u001b[0m\u001b[0m\n",
      "\u001b[0;31mTypeError\u001b[0m: Tensor objects are not iterable when eager execution is not enabled. To iterate over this tensor use tf.map_fn."
     ]
    }
   ],
   "source": [
    "for i in concerned_ind"
   ]
  },
  {
   "cell_type": "code",
   "execution_count": null,
   "metadata": {
    "collapsed": true
   },
   "outputs": [],
   "source": []
  }
 ],
 "metadata": {
  "kernelspec": {
   "display_name": "Python [default]",
   "language": "python",
   "name": "python2"
  },
  "language_info": {
   "codemirror_mode": {
    "name": "ipython",
    "version": 2
   },
   "file_extension": ".py",
   "mimetype": "text/x-python",
   "name": "python",
   "nbconvert_exporter": "python",
   "pygments_lexer": "ipython2",
   "version": "2.7.14"
  }
 },
 "nbformat": 4,
 "nbformat_minor": 2
}
