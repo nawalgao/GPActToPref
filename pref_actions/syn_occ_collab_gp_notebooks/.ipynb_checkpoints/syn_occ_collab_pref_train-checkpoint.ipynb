{
 "cells": [
  {
   "cell_type": "code",
   "execution_count": 1,
   "metadata": {},
   "outputs": [
    {
     "ename": "RuntimeError",
     "evalue": "module compiled against API version 0xb but this version of numpy is 0xa",
     "output_type": "error",
     "traceback": [
      "\u001b[0;31m---------------------------------------------------------------------------\u001b[0m",
      "\u001b[0;31mRuntimeError\u001b[0m                              Traceback (most recent call last)",
      "\u001b[0;31mRuntimeError\u001b[0m: module compiled against API version 0xb but this version of numpy is 0xa"
     ]
    },
    {
     "ename": "RuntimeError",
     "evalue": "module compiled against API version 0xb but this version of numpy is 0xa",
     "output_type": "error",
     "traceback": [
      "\u001b[0;31m---------------------------------------------------------------------------\u001b[0m",
      "\u001b[0;31mRuntimeError\u001b[0m                              Traceback (most recent call last)",
      "\u001b[0;31mRuntimeError\u001b[0m: module compiled against API version 0xb but this version of numpy is 0xa"
     ]
    }
   ],
   "source": [
    "import json\n",
    "import gpflow\n",
    "import numpy as np\n",
    "import matplotlib.pyplot as plt\n",
    "import math\n",
    "%matplotlib inline\n",
    "import seaborn as sns\n",
    "sns.set_style(\"white\")\n",
    "sns.set_context(\"paper\")\n",
    "import sys\n",
    "sys.path.append('../')\n",
    "from Misc import syn_data_gen, save_load_files\n",
    "from GPCollabPrefAct import collab_gpmc"
   ]
  },
  {
   "cell_type": "code",
   "execution_count": 2,
   "metadata": {},
   "outputs": [
    {
     "name": "stdout",
     "output_type": "stream",
     "text": [
      "Occupant number:\n",
      "6\n",
      "Occupant number:\n",
      "7\n",
      "Occupant number:\n",
      "8\n"
     ]
    }
   ],
   "source": [
    "num_data = 20\n",
    "# Specific occupants 6, 7, 8 actions\n",
    "specific_occ_actions_data_list = []\n",
    "specific_occ_actions_data_norm_list = []\n",
    "for i in xrange(5,8):\n",
    "    occ_num = i + 1\n",
    "    print \"Occupant number:\"\n",
    "    print occ_num\n",
    "    config_file = '../data/config_files/syn/diff_utilities_config/syn_occupants.json'\n",
    "    with open(config_file, 'r') as fd:\n",
    "        config = json.loads(fd.read())\n",
    "\n",
    "    a = config['O' + str(occ_num)]['a']\n",
    "    b = config['O' + str(occ_num)]['b']\n",
    "    \n",
    "    # Load actions data\n",
    "    actions_data = np.loadtxt('../data/syn_data/syn_occ/actions_data/train/' +\n",
    "                         'O_a' + str(a) + '_b' + str(b) + '_' + str(num_data) + '_.csv', delimiter = ',')\n",
    "    \n",
    "    actions_data_norm = (actions_data - 0.5)/0.5\n",
    "    \n",
    "    specific_occ_actions_data_list.append(actions_data)\n",
    "    specific_occ_actions_data_norm_list.append(actions_data_norm) \n",
    "\n",
    "all_x_grid = np.linspace(0,1,50)"
   ]
  },
  {
   "cell_type": "code",
   "execution_count": 3,
   "metadata": {
    "collapsed": true
   },
   "outputs": [],
   "source": [
    "all_x_grid = np.linspace(0,1,50)\n",
    "all_x_grid_norm = (all_x_grid - 0.5)/0.5"
   ]
  },
  {
   "cell_type": "markdown",
   "metadata": {},
   "source": [
    "# Collaborative Preference Learning Model Setup"
   ]
  },
  {
   "cell_type": "code",
   "execution_count": 4,
   "metadata": {
    "collapsed": true
   },
   "outputs": [],
   "source": [
    "latent_gps_kerns_list = [gpflow.kernels.RBF(1), gpflow.kernels.RBF(1), gpflow.kernels.RBF(1)]"
   ]
  },
  {
   "cell_type": "code",
   "execution_count": 5,
   "metadata": {},
   "outputs": [],
   "source": [
    "#def __init__(self, actions_list, kerns_list, X_grid)\n",
    "m = collab_gpmc.GPCollabPrefLearnGPMC(specific_occ_actions_data_norm_list, latent_gps_kerns_list, all_x_grid_norm)"
   ]
  },
  {
   "cell_type": "code",
   "execution_count": 6,
   "metadata": {
    "collapsed": true
   },
   "outputs": [],
   "source": [
    "for i in xrange(len(latent_gps_kerns_list)):\n",
    "    m.kerns_list[i].lengthscales.prior = gpflow.priors.Gamma(1., 1.)\n",
    "    m.kerns_list[i].variance.prior = gpflow.priors.Gamma(1., 1.)"
   ]
  },
  {
   "cell_type": "code",
   "execution_count": 7,
   "metadata": {},
   "outputs": [
    {
     "data": {
      "text/plain": [
       "(50, 1)"
      ]
     },
     "execution_count": 7,
     "metadata": {},
     "output_type": "execute_result"
    }
   ],
   "source": [
    "m.X_grid.value.shape"
   ]
  },
  {
   "cell_type": "code",
   "execution_count": 8,
   "metadata": {},
   "outputs": [
    {
     "data": {
      "text/plain": [
       "(3, 40)"
      ]
     },
     "execution_count": 8,
     "metadata": {},
     "output_type": "execute_result"
    }
   ],
   "source": [
    "m.concat_ind_cur_prev_mat.shape"
   ]
  },
  {
   "cell_type": "code",
   "execution_count": 9,
   "metadata": {
    "scrolled": false
   },
   "outputs": [
    {
     "name": "stdout",
     "output_type": "stream",
     "text": [
      "U shape:\n",
      "Tensor(\"collaborative_pref_gps.build_likelihood/MatMul_3:0\", shape=(3, ?), dtype=float64)\n",
      "concerned_mat shape:\n",
      "Tensor(\"collaborative_pref_gps.build_likelihood/transpose_4:0\", shape=(3, 40), dtype=float64)\n",
      "U_diff\n",
      "Tensor(\"collaborative_pref_gps.build_likelihood/Sub:0\", shape=(3, 20), dtype=float64)\n",
      "flatten_U_diff\n",
      "Tensor(\"collaborative_pref_gps.build_likelihood/Reshape_80:0\", shape=(60, 1), dtype=float64)\n",
      "y\n",
      "Tensor(\"Y:0\", shape=(?, ?), dtype=float64)\n"
     ]
    },
    {
     "data": {
      "text/plain": [
       "      fun: array([ 163.8572213])\n",
       " hess_inv: <156x156 LbfgsInvHessProduct with dtype=float64>\n",
       "      jac: array([  1.92070890e-04,   1.68367749e-04,  -1.37360864e-04,\n",
       "         2.07200132e-05,  -2.03146988e-05,  -1.76598132e-04,\n",
       "        -2.30070258e-04,  -2.08996156e-04,  -1.84592112e-04,\n",
       "        -1.88996473e-04,  -1.47850742e-04,  -5.95076031e-05,\n",
       "        -3.01951304e-05,  -8.03073125e-05,  -9.44412472e-05,\n",
       "        -1.52397215e-05,   4.47456471e-05,   1.59655555e-05,\n",
       "        -2.47356243e-05,  -2.15800884e-05,  -3.59657138e-06,\n",
       "        -8.96364528e-06,  -7.93949320e-06,   1.02441926e-05,\n",
       "         2.82730588e-05,   3.37495758e-05,   3.23639344e-05,\n",
       "         2.98365142e-05,   2.71779273e-05,   3.12013622e-05,\n",
       "         3.57699016e-05,   4.02561314e-05,   3.89730486e-05,\n",
       "         4.63248252e-05,   5.08820024e-05,   5.34456919e-05,\n",
       "         5.08848843e-05,   4.45078371e-05,   3.31411204e-05,\n",
       "         1.88535424e-05,   6.70804692e-06,  -3.04646327e-06,\n",
       "        -8.26497472e-06,  -6.67561416e-06,  -3.72920986e-06,\n",
       "        -1.10985808e-06,   4.04497648e-07,   1.07567458e-06,\n",
       "         0.00000000e+00,   0.00000000e+00,  -4.15144404e-05,\n",
       "         1.32125799e-04,   3.35211138e-05,   8.87120217e-05,\n",
       "         1.71527407e-04,   7.40383615e-05,  -4.79766686e-05,\n",
       "         9.77769652e-06,   8.43046264e-05,   4.76422574e-05,\n",
       "        -3.07263584e-05,  -5.60166463e-05,  -3.58812824e-05,\n",
       "        -1.39031502e-05,  -2.62641439e-06,   3.82055472e-06,\n",
       "         3.96727971e-06,  -3.04612376e-06,  -4.04686413e-06,\n",
       "        -3.03072338e-06,  -4.28351587e-06,  -1.10188354e-05,\n",
       "        -1.61080850e-05,  -8.79887644e-06,   4.57561926e-06,\n",
       "         2.11707951e-05,   3.58774308e-05,   4.98788876e-05,\n",
       "         5.72178604e-05,   6.08535707e-05,   5.57698414e-05,\n",
       "         4.25482062e-05,   2.32323174e-05,   8.48929904e-07,\n",
       "        -2.36057963e-05,  -4.76268895e-05,  -6.71186453e-05,\n",
       "        -7.89009678e-05,  -8.41386240e-05,  -8.19144350e-05,\n",
       "        -7.40837047e-05,  -6.27166551e-05,  -4.62229068e-05,\n",
       "        -3.24901106e-05,  -1.76521648e-05,  -8.61600976e-06,\n",
       "         0.00000000e+00,   0.00000000e+00,   0.00000000e+00,\n",
       "         0.00000000e+00,  -8.02494295e-05,  -3.18140995e-04,\n",
       "        -1.09454805e-04,  -6.16949131e-05,   2.54638396e-05,\n",
       "         7.54784273e-05,   1.03571425e-04,   1.18000119e-04,\n",
       "         1.04802552e-04,   8.39395650e-05,   6.61774484e-05,\n",
       "         5.36709084e-05,   3.93380623e-05,   2.34784038e-05,\n",
       "        -8.80136704e-06,  -4.96085005e-05,  -9.17249237e-05,\n",
       "        -1.24325499e-04,  -1.44998702e-04,  -1.51257725e-04,\n",
       "        -1.47401360e-04,  -1.41925326e-04,  -1.41255697e-04,\n",
       "        -1.42102901e-04,  -1.33800471e-04,  -1.15825247e-04,\n",
       "        -7.49262980e-05,  -2.95913454e-05,   7.74970896e-06,\n",
       "         3.15926997e-05,   4.78024701e-05,   5.82563312e-05,\n",
       "         7.70449821e-05,   9.74439192e-05,   1.12703804e-04,\n",
       "         1.17666419e-04,   1.14087950e-04,   1.05204135e-04,\n",
       "         9.42896398e-05,   8.05728405e-05,   6.85201409e-05,\n",
       "         5.56828640e-05,   4.31208414e-05,   3.15695820e-05,\n",
       "         1.98827886e-05,   1.19212120e-05,   7.37735834e-06,\n",
       "         2.46021140e-06,   1.45486369e-06,   9.18888430e-07,\n",
       "         9.58483304e-04,   4.66992841e-04,  -1.10697320e-05,\n",
       "         8.91568463e-05,  -5.19242801e-04,   1.43601630e-04])\n",
       "  message: 'CONVERGENCE: REL_REDUCTION_OF_F_<=_FACTR*EPSMCH'\n",
       "     nfev: 51\n",
       "      nit: 44\n",
       "   status: 0\n",
       "  success: True\n",
       "        x: array([ -9.82520991e-01,  -2.39943092e-01,  -3.51982565e-02,\n",
       "         2.17108709e-02,   6.25529331e-02,   8.31582264e-02,\n",
       "         1.05251220e-01,   1.22052387e-01,   1.17980886e-01,\n",
       "         1.15513366e-01,   1.15381603e-01,   1.31640319e-01,\n",
       "         1.73179706e-01,   2.29734842e-01,   3.09611089e-01,\n",
       "         3.71340898e-01,   4.45167478e-01,   4.97359701e-01,\n",
       "         5.30360054e-01,   5.23174917e-01,   4.87988802e-01,\n",
       "         4.22811851e-01,   3.39649605e-01,   2.47902584e-01,\n",
       "         1.40178369e-01,   3.18360790e-02,  -5.64813160e-02,\n",
       "        -1.28719406e-01,  -1.90455472e-01,  -2.27854403e-01,\n",
       "        -2.46484351e-01,  -2.44271324e-01,  -2.32364112e-01,\n",
       "        -1.96888141e-01,  -1.57156714e-01,  -1.12695311e-01,\n",
       "        -7.23664383e-02,  -3.06268301e-02,   1.14212738e-03,\n",
       "         2.63275590e-02,   4.24630669e-02,   4.82541180e-02,\n",
       "         4.42311168e-02,   3.90059610e-02,   2.43924342e-02,\n",
       "         1.27257240e-02,   5.87667363e-03,  -9.81174399e-04,\n",
       "         0.00000000e+00,   0.00000000e+00,  -1.93886214e-01,\n",
       "         1.84800023e-01,   4.48916107e-01,   4.09706293e-01,\n",
       "         4.67458312e-01,   5.51865672e-01,   5.26934473e-01,\n",
       "         4.74312464e-01,   4.41913651e-01,   4.04350673e-01,\n",
       "         3.29039878e-01,   2.53651617e-01,   1.85943577e-01,\n",
       "         1.28942603e-01,   7.55846392e-02,   3.00419924e-02,\n",
       "        -2.76739689e-03,  -4.62153275e-02,  -5.90073389e-02,\n",
       "        -7.36825063e-02,  -7.35156152e-02,  -8.52448913e-02,\n",
       "        -8.53810471e-02,  -7.67036354e-02,  -7.80280821e-02,\n",
       "        -7.23503210e-02,  -8.00697678e-02,  -9.48316258e-02,\n",
       "        -1.14205802e-01,  -1.53234968e-01,  -1.96654014e-01,\n",
       "        -2.37472546e-01,  -2.78057563e-01,  -3.10464444e-01,\n",
       "        -3.32135208e-01,  -3.41116242e-01,  -3.36420118e-01,\n",
       "        -3.15883028e-01,  -2.93526463e-01,  -2.53420859e-01,\n",
       "        -2.00188667e-01,  -1.60139519e-01,  -1.17029713e-01,\n",
       "        -8.66266039e-02,  -4.93892606e-02,  -2.76860793e-02,\n",
       "         0.00000000e+00,   0.00000000e+00,   0.00000000e+00,\n",
       "         0.00000000e+00,   5.44137570e-01,   8.52821062e-01,\n",
       "         3.55200315e-01,   3.30089669e-01,   2.16529333e-01,\n",
       "         1.56963187e-01,   1.35772860e-01,   1.11445170e-01,\n",
       "         9.20158655e-02,   7.49986681e-02,   6.47953354e-02,\n",
       "         5.89940098e-02,   5.53689952e-02,   4.67838766e-02,\n",
       "         2.97683238e-02,   1.81653344e-02,   1.29840275e-02,\n",
       "        -1.08448136e-02,  -3.78693478e-02,  -6.74118655e-02,\n",
       "        -9.82805426e-02,  -1.35774271e-01,  -1.70656815e-01,\n",
       "        -2.06180386e-01,  -2.42387977e-01,  -2.68892339e-01,\n",
       "        -2.96989532e-01,  -3.19262399e-01,  -3.35708722e-01,\n",
       "        -3.46764993e-01,  -3.42902273e-01,  -3.47996534e-01,\n",
       "        -3.32170514e-01,  -3.11979236e-01,  -2.88394852e-01,\n",
       "        -2.61730346e-01,  -2.36614833e-01,  -1.98979538e-01,\n",
       "        -1.75655847e-01,  -1.47513696e-01,  -1.12741581e-01,\n",
       "        -8.95939837e-02,  -6.46271422e-02,  -5.42570372e-02,\n",
       "        -3.89008059e-02,  -1.46787853e-02,  -1.08681810e-02,\n",
       "        -1.78318601e-03,  -1.11743355e-03,  -8.35305525e-04,\n",
       "        -1.26744207e+00,   1.87992129e+00,  -1.04862545e+00,\n",
       "         1.72489950e+00,  -6.38679785e-01,   1.58940245e+00])"
      ]
     },
     "execution_count": 9,
     "metadata": {},
     "output_type": "execute_result"
    }
   ],
   "source": [
    "m.optimize(maxiter=5000) # start near MAP"
   ]
  },
  {
   "cell_type": "code",
   "execution_count": 10,
   "metadata": {},
   "outputs": [
    {
     "data": {
      "text/html": [
       "<table id='params' width=100%><tr><td>Name</td><td>values</td><td>prior</td><td>constraint</td></tr><tr><td>collaborative_pref_gps.V_h</td><td>[[ -9.82520991e-01  -2.39943092e-01  -3.51982565e-02   2.17108709e-02</br>    6.25529331e-02   8.31582264e-02   1.05251220e-01   1.22052387e-01</br>    1.17980886e-01   1.15513366e-01   1.15381603e-01   1.31640319e-01</br>    1.73179706e-01   2.29734842e-01   3.09611089e-01   3.71340898e-01</br>    4.45167478e-01   4.97359701e-01   5.30360054e-01   5.23174917e-01</br>    4.87988802e-01   4.22811851e-01   3.39649605e-01   2.47902584e-01</br>    1.40178369e-01   3.18360790e-02  -5.64813160e-02  -1.28719406e-01</br>   -1.90455472e-01  -2.27854403e-01  -2.46484351e-01  -2.44271324e-01</br>   -2.32364112e-01  -1.96888141e-01  -1.57156714e-01  -1.12695311e-01</br>   -7.23664383e-02  -3.06268301e-02   1.14212738e-03   2.63275590e-02</br>    4.24630669e-02   4.82541180e-02   4.42311168e-02   3.90059610e-02</br>    2.43924342e-02   1.27257240e-02   5.87667363e-03  -9.81174399e-04</br>    0.00000000e+00   0.00000000e+00]</br> [ -1.93886214e-01   1.84800023e-01   4.48916107e-01   4.09706293e-01</br>    4.67458312e-01   5.51865672e-01   5.26934473e-01   4.74312464e-01</br>    4.41913651e-01   4.04350673e-01   3.29039878e-01   2.53651617e-01</br>    1.85943577e-01   1.28942603e-01   7.55846392e-02   3.00419924e-02</br>   -2.76739689e-03  -4.62153275e-02  -5.90073389e-02  -7.36825063e-02</br>   -7.35156152e-02  -8.52448913e-02  -8.53810471e-02  -7.67036354e-02</br>   -7.80280821e-02  -7.23503210e-02  -8.00697678e-02  -9.48316258e-02</br>   -1.14205802e-01  -1.53234968e-01  -1.96654014e-01  -2.37472546e-01</br>   -2.78057563e-01  -3.10464444e-01  -3.32135208e-01  -3.41116242e-01</br>   -3.36420118e-01  -3.15883028e-01  -2.93526463e-01  -2.53420859e-01</br>   -2.00188667e-01  -1.60139519e-01  -1.17029713e-01  -8.66266039e-02</br>   -4.93892606e-02  -2.76860793e-02   0.00000000e+00   0.00000000e+00</br>    0.00000000e+00   0.00000000e+00]</br> [  5.44137570e-01   8.52821062e-01   3.55200315e-01   3.30089669e-01</br>    2.16529333e-01   1.56963187e-01   1.35772860e-01   1.11445170e-01</br>    9.20158655e-02   7.49986681e-02   6.47953354e-02   5.89940098e-02</br>    5.53689952e-02   4.67838766e-02   2.97683238e-02   1.81653344e-02</br>    1.29840275e-02  -1.08448136e-02  -3.78693478e-02  -6.74118655e-02</br>   -9.82805426e-02  -1.35774271e-01  -1.70656815e-01  -2.06180386e-01</br>   -2.42387977e-01  -2.68892339e-01  -2.96989532e-01  -3.19262399e-01</br>   -3.35708722e-01  -3.46764993e-01  -3.42902273e-01  -3.47996534e-01</br>   -3.32170514e-01  -3.11979236e-01  -2.88394852e-01  -2.61730346e-01</br>   -2.36614833e-01  -1.98979538e-01  -1.75655847e-01  -1.47513696e-01</br>   -1.12741581e-01  -8.95939837e-02  -6.46271422e-02  -5.42570372e-02</br>   -3.89008059e-02  -1.46787853e-02  -1.08681810e-02  -1.78318601e-03</br>   -1.11743355e-03  -8.35305525e-04]]</td><td>N([ 0.],[ 1.])</td><td>(none)</td></tr><tr><td>collaborative_pref_gps.kerns_list.item0.lengthscales</td><td>[ 0.24807198]</td><td>Ga([ 1.],[ 1.])</td><td>+ve</td></tr><tr><td>collaborative_pref_gps.kerns_list.item0.variance</td><td>[ 2.02194438]</td><td>Ga([ 1.],[ 1.])</td><td>+ve</td></tr><tr><td>collaborative_pref_gps.kerns_list.item1.lengthscales</td><td>[ 0.30041598]</td><td>Ga([ 1.],[ 1.])</td><td>+ve</td></tr><tr><td>collaborative_pref_gps.kerns_list.item1.variance</td><td>[ 1.88888067]</td><td>Ga([ 1.],[ 1.])</td><td>+ve</td></tr><tr><td>collaborative_pref_gps.kerns_list.item2.lengthscales</td><td>[ 0.42395351]</td><td>Ga([ 1.],[ 1.])</td><td>+ve</td></tr><tr><td>collaborative_pref_gps.kerns_list.item2.variance</td><td>[ 1.77509225]</td><td>Ga([ 1.],[ 1.])</td><td>+ve</td></tr></table>"
      ],
      "text/plain": [
       "<GPCollabPrefAct.collab_gpmc.GPCollabPrefLearnGPMC at 0x110e83450>"
      ]
     },
     "execution_count": 10,
     "metadata": {},
     "output_type": "execute_result"
    }
   ],
   "source": [
    "m"
   ]
  },
  {
   "cell_type": "code",
   "execution_count": 11,
   "metadata": {},
   "outputs": [
    {
     "name": "stdout",
     "output_type": "stream",
     "text": [
      "burn-in sampling started\n",
      "Iteration:  100 \t Acc Rate:  97.0 %\n",
      "Iteration:  200 \t Acc Rate:  99.0 %\n",
      "Iteration:  300 \t Acc Rate:  98.0 %\n",
      "Iteration:  400 \t Acc Rate:  99.0 %\n",
      "Iteration:  500 \t Acc Rate:  97.0 %\n",
      "burn-in sampling ended\n",
      "Iteration:  100 \t Acc Rate:  98.0 %\n",
      "Iteration:  200 \t Acc Rate:  99.0 %\n",
      "Iteration:  300 \t Acc Rate:  100.0 %\n",
      "Iteration:  400 \t Acc Rate:  99.0 %\n",
      "Iteration:  500 \t Acc Rate:  100.0 %\n",
      "Iteration:  600 \t Acc Rate:  99.0 %\n",
      "Iteration:  700 \t Acc Rate:  97.0 %\n",
      "Iteration:  800 \t Acc Rate:  99.0 %\n",
      "Iteration:  900 \t Acc Rate:  99.0 %\n",
      "Iteration:  1000 \t Acc Rate:  99.0 %\n"
     ]
    }
   ],
   "source": [
    "samples = m.sample(500, verbose=True, epsilon=0.05, thin = 2, burn = 500, Lmax = 20)"
   ]
  },
  {
   "cell_type": "code",
   "execution_count": 12,
   "metadata": {},
   "outputs": [
    {
     "data": {
      "text/html": [
       "<table id='params' width=100%><tr><td>Name</td><td>values</td><td>prior</td><td>constraint</td></tr><tr><td>collaborative_pref_gps.V_h</td><td>[[ -9.82520991e-01  -2.39943092e-01  -3.51982565e-02   2.17108709e-02</br>    6.25529331e-02   8.31582264e-02   1.05251220e-01   1.22052387e-01</br>    1.17980886e-01   1.15513366e-01   1.15381603e-01   1.31640319e-01</br>    1.73179706e-01   2.29734842e-01   3.09611089e-01   3.71340898e-01</br>    4.45167478e-01   4.97359701e-01   5.30360054e-01   5.23174917e-01</br>    4.87988802e-01   4.22811851e-01   3.39649605e-01   2.47902584e-01</br>    1.40178369e-01   3.18360790e-02  -5.64813160e-02  -1.28719406e-01</br>   -1.90455472e-01  -2.27854403e-01  -2.46484351e-01  -2.44271324e-01</br>   -2.32364112e-01  -1.96888141e-01  -1.57156714e-01  -1.12695311e-01</br>   -7.23664383e-02  -3.06268301e-02   1.14212738e-03   2.63275590e-02</br>    4.24630669e-02   4.82541180e-02   4.42311168e-02   3.90059610e-02</br>    2.43924342e-02   1.27257240e-02   5.87667363e-03  -9.81174399e-04</br>    0.00000000e+00   0.00000000e+00]</br> [ -1.93886214e-01   1.84800023e-01   4.48916107e-01   4.09706293e-01</br>    4.67458312e-01   5.51865672e-01   5.26934473e-01   4.74312464e-01</br>    4.41913651e-01   4.04350673e-01   3.29039878e-01   2.53651617e-01</br>    1.85943577e-01   1.28942603e-01   7.55846392e-02   3.00419924e-02</br>   -2.76739689e-03  -4.62153275e-02  -5.90073389e-02  -7.36825063e-02</br>   -7.35156152e-02  -8.52448913e-02  -8.53810471e-02  -7.67036354e-02</br>   -7.80280821e-02  -7.23503210e-02  -8.00697678e-02  -9.48316258e-02</br>   -1.14205802e-01  -1.53234968e-01  -1.96654014e-01  -2.37472546e-01</br>   -2.78057563e-01  -3.10464444e-01  -3.32135208e-01  -3.41116242e-01</br>   -3.36420118e-01  -3.15883028e-01  -2.93526463e-01  -2.53420859e-01</br>   -2.00188667e-01  -1.60139519e-01  -1.17029713e-01  -8.66266039e-02</br>   -4.93892606e-02  -2.76860793e-02   0.00000000e+00   0.00000000e+00</br>    0.00000000e+00   0.00000000e+00]</br> [  5.44137570e-01   8.52821062e-01   3.55200315e-01   3.30089669e-01</br>    2.16529333e-01   1.56963187e-01   1.35772860e-01   1.11445170e-01</br>    9.20158655e-02   7.49986681e-02   6.47953354e-02   5.89940098e-02</br>    5.53689952e-02   4.67838766e-02   2.97683238e-02   1.81653344e-02</br>    1.29840275e-02  -1.08448136e-02  -3.78693478e-02  -6.74118655e-02</br>   -9.82805426e-02  -1.35774271e-01  -1.70656815e-01  -2.06180386e-01</br>   -2.42387977e-01  -2.68892339e-01  -2.96989532e-01  -3.19262399e-01</br>   -3.35708722e-01  -3.46764993e-01  -3.42902273e-01  -3.47996534e-01</br>   -3.32170514e-01  -3.11979236e-01  -2.88394852e-01  -2.61730346e-01</br>   -2.36614833e-01  -1.98979538e-01  -1.75655847e-01  -1.47513696e-01</br>   -1.12741581e-01  -8.95939837e-02  -6.46271422e-02  -5.42570372e-02</br>   -3.89008059e-02  -1.46787853e-02  -1.08681810e-02  -1.78318601e-03</br>   -1.11743355e-03  -8.35305525e-04]]</td><td>N([ 0.],[ 1.])</td><td>(none)</td></tr><tr><td>collaborative_pref_gps.kerns_list.item0.lengthscales</td><td>[ 0.24807198]</td><td>Ga([ 1.],[ 1.])</td><td>+ve</td></tr><tr><td>collaborative_pref_gps.kerns_list.item0.variance</td><td>[ 2.02194438]</td><td>Ga([ 1.],[ 1.])</td><td>+ve</td></tr><tr><td>collaborative_pref_gps.kerns_list.item1.lengthscales</td><td>[ 0.30041598]</td><td>Ga([ 1.],[ 1.])</td><td>+ve</td></tr><tr><td>collaborative_pref_gps.kerns_list.item1.variance</td><td>[ 1.88888067]</td><td>Ga([ 1.],[ 1.])</td><td>+ve</td></tr><tr><td>collaborative_pref_gps.kerns_list.item2.lengthscales</td><td>[ 0.42395351]</td><td>Ga([ 1.],[ 1.])</td><td>+ve</td></tr><tr><td>collaborative_pref_gps.kerns_list.item2.variance</td><td>[ 1.77509225]</td><td>Ga([ 1.],[ 1.])</td><td>+ve</td></tr></table>"
      ],
      "text/plain": [
       "<GPCollabPrefAct.collab_gpmc.GPCollabPrefLearnGPMC at 0x110e83450>"
      ]
     },
     "execution_count": 12,
     "metadata": {},
     "output_type": "execute_result"
    }
   ],
   "source": [
    "m"
   ]
  },
  {
   "cell_type": "markdown",
   "metadata": {},
   "source": [
    "# Predict latent GPs H"
   ]
  },
  {
   "cell_type": "code",
   "execution_count": 13,
   "metadata": {
    "collapsed": true
   },
   "outputs": [],
   "source": [
    "min_grid = 0.\n",
    "max_grid = 1.\n",
    "num_grid = 20\n",
    "\n",
    "Xt = np.linspace(min_grid, max_grid, 2*num_grid)\n",
    "Xt_norm = (Xt - 0.5)/0.5\n",
    "Xt1 = np.linspace(min_grid, max_grid, num_grid)\n",
    "Xt2 = np.linspace(min_grid, max_grid, num_grid)\n",
    "\n",
    "Xtt1, Xtt2 = np.meshgrid(Xt1, Xt2)\n",
    "X_grid = np.zeros(shape =(np.ravel(Xtt1).shape[0],2))\n",
    "X_grid[:,0] = np.ravel(Xtt1) \n",
    "X_grid[:,1] = np.ravel(Xtt2)\n",
    "\n",
    "X_grid_norm = (X_grid - 0.5)/0.5\n",
    "num_feat = X_grid_norm.shape[1]/2"
   ]
  },
  {
   "cell_type": "code",
   "execution_count": 14,
   "metadata": {
    "collapsed": true
   },
   "outputs": [],
   "source": [
    "# Finding the posterior preference probabilities at the grid points\n",
    "X_grid_norm_concat = np.vstack([X_grid_norm[:,:num_feat], X_grid_norm[:,num_feat:]])"
   ]
  },
  {
   "cell_type": "code",
   "execution_count": 19,
   "metadata": {
    "scrolled": true
   },
   "outputs": [],
   "source": [
    "mu_list, var_list = m.predict_h(X_grid_norm_concat)"
   ]
  },
  {
   "cell_type": "code",
   "execution_count": 45,
   "metadata": {
    "collapsed": true
   },
   "outputs": [],
   "source": [
    "def multi_normal_samples(mu, std, num_samples):\n",
    "    \"\"\"\n",
    "    Sampling from a normal distribution with multiple mean and std\n",
    "    \"\"\"\n",
    "    samples = np.array([])\n",
    "    for i in xrange(mu.shape[0]):\n",
    "        sample = np.random.normal(mu[i], std[i], num_samples)\n",
    "        samples = np.append(samples, sample)\n",
    "    return samples"
   ]
  },
  {
   "cell_type": "code",
   "execution_count": 48,
   "metadata": {},
   "outputs": [],
   "source": [
    "def utility_samples_all_occupants(mu_list, var_list):\n",
    "    \"\"\"\n",
    "    Utility samples for all concerned occupants\n",
    "    Inputs:\n",
    "    mu_list : list of mean utility values for all occupants len(mu_list) = num of occupants\n",
    "    var_list : list of variance associated with utility values for all occupants\n",
    "    \"\"\"\n",
    "    u_samples_mat = np.zeros((len(mu_list), mu_list[0].shape[0]))\n",
    "    for i in xrange(len(mu_list)):\n",
    "        mu = mu_list[i]\n",
    "        #print mu.shape\n",
    "        var = var_list[i]\n",
    "        #print var.shape\n",
    "        std = np.sqrt(var)\n",
    "        u_sample = multi_normal_samples(mu, std, 1)\n",
    "        #print u_sample\n",
    "        u_samples_mat[i] = u_sample\n",
    "    return u_samples_mat"
   ]
  },
  {
   "cell_type": "code",
   "execution_count": 55,
   "metadata": {},
   "outputs": [],
   "source": [
    "from scipy.stats import norm\n",
    "def pref_prob_all_occupants(mu_list, var_list):\n",
    "    \"\"\"\n",
    "    preference probability for all occupants\n",
    "    \"\"\"\n",
    "    u_samples_mat = utility_samples_all_occupants(mu_list, var_list)\n",
    "    num_datapoints = u_samples_mat.shape[1]\n",
    "    u1 = u_samples_mat[:,:num_datapoints/2]\n",
    "    u2 = u_samples_mat[:,num_datapoints/2:]\n",
    "    u_diff = u2 - u1\n",
    "    p = norm.cdf(u_diff)\n",
    "    return p"
   ]
  },
  {
   "cell_type": "code",
   "execution_count": 56,
   "metadata": {},
   "outputs": [],
   "source": [
    "p = pref_prob_all_occupants(mu_list, var_list)"
   ]
  },
  {
   "cell_type": "code",
   "execution_count": 58,
   "metadata": {},
   "outputs": [
    {
     "data": {
      "text/plain": [
       "(3, 400)"
      ]
     },
     "execution_count": 58,
     "metadata": {},
     "output_type": "execute_result"
    }
   ],
   "source": [
    "p.shape"
   ]
  },
  {
   "cell_type": "code",
   "execution_count": null,
   "metadata": {
    "collapsed": true
   },
   "outputs": [],
   "source": [
    "plt.figure(figsize=(12,10))\n",
    "mean_reshape = p_mean_grid.reshape((num_grid, num_grid), order='F')\n",
    "c = plt.contourf(grid_levels,grid_levels,mean_reshape.T,\n",
    "                 mean_levels, cmap=plt.cm.Blues)\n",
    "plt.colorbar(c)\n",
    "plt.scatter(X_previous,X_current, marker = '.', c = 'r', s = 200, alpha = 1)\n",
    "plt.xlabel('Previous')\n",
    "plt.ylabel('Current')\n",
    "plt.title('Mean Predicted Preference Probability Contour Plot')"
   ]
  },
  {
   "cell_type": "markdown",
   "metadata": {},
   "source": [
    "## Occupant 1"
   ]
  },
  {
   "cell_type": "code",
   "execution_count": 20,
   "metadata": {},
   "outputs": [
    {
     "data": {
      "text/plain": [
       "(800, 1)"
      ]
     },
     "execution_count": 20,
     "metadata": {},
     "output_type": "execute_result"
    }
   ],
   "source": [
    "var_list[0].shape"
   ]
  },
  {
   "cell_type": "code",
   "execution_count": null,
   "metadata": {
    "collapsed": true
   },
   "outputs": [],
   "source": []
  }
 ],
 "metadata": {
  "kernelspec": {
   "display_name": "Python [default]",
   "language": "python",
   "name": "python2"
  },
  "language_info": {
   "codemirror_mode": {
    "name": "ipython",
    "version": 2
   },
   "file_extension": ".py",
   "mimetype": "text/x-python",
   "name": "python",
   "nbconvert_exporter": "python",
   "pygments_lexer": "ipython2",
   "version": "2.7.14"
  }
 },
 "nbformat": 4,
 "nbformat_minor": 2
}
