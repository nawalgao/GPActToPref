{
 "cells": [
  {
   "cell_type": "code",
   "execution_count": 24,
   "metadata": {},
   "outputs": [],
   "source": [
    "import json\n",
    "import gpflow\n",
    "import numpy as np\n",
    "import matplotlib.pyplot as plt\n",
    "import math\n",
    "%matplotlib inline\n",
    "import seaborn as sns\n",
    "sns.set_style(\"white\")\n",
    "sns.set_context(\"paper\")\n",
    "import sys\n",
    "sys.path.append('../')\n",
    "from Misc import syn_data_gen, save_load_files"
   ]
  },
  {
   "cell_type": "markdown",
   "metadata": {},
   "source": [
    "# Load Actions Data of specific occupants"
   ]
  },
  {
   "cell_type": "code",
   "execution_count": 25,
   "metadata": {
    "collapsed": true
   },
   "outputs": [],
   "source": [
    "num_data = 20"
   ]
  },
  {
   "cell_type": "code",
   "execution_count": null,
   "metadata": {
    "collapsed": true
   },
   "outputs": [],
   "source": []
  },
  {
   "cell_type": "code",
   "execution_count": 26,
   "metadata": {},
   "outputs": [
    {
     "name": "stdout",
     "output_type": "stream",
     "text": [
      "Occupant number:\n",
      "6\n",
      "Occupant number:\n",
      "7\n",
      "Occupant number:\n",
      "8\n"
     ]
    }
   ],
   "source": [
    "# Specific occupants 6, 7, 8 actions\n",
    "specific_occ_actions_data_list = []\n",
    "for i in xrange(5,8):\n",
    "    occ_num = i + 1\n",
    "    print \"Occupant number:\"\n",
    "    print occ_num\n",
    "    config_file = '../data/config_files/syn/diff_utilities_config/syn_occupants.json'\n",
    "    with open(config_file, 'r') as fd:\n",
    "        config = json.loads(fd.read())\n",
    "\n",
    "    a = config['O' + str(occ_num)]['a']\n",
    "    b = config['O' + str(occ_num)]['b']\n",
    "    \n",
    "    # Load actions data\n",
    "    actions_data = np.loadtxt('../data/syn_data/syn_occ/actions_data/train/' +\n",
    "                         'O_a' + str(a) + '_b' + str(b) + '_' + str(num_data) + '_.csv', delimiter = ',')\n",
    "    \n",
    "    specific_occ_actions_data_list.append(actions_data)"
   ]
  },
  {
   "cell_type": "code",
   "execution_count": 27,
   "metadata": {
    "collapsed": true
   },
   "outputs": [],
   "source": [
    "all_x_grid = np.linspace(0,1,50)\n",
    "all_x_grid_norm = (all_x_grid - 0.5)/0.5"
   ]
  },
  {
   "cell_type": "code",
   "execution_count": 28,
   "metadata": {},
   "outputs": [],
   "source": [
    "def gen_req_action_data(action_data_matrix, X_grid):\n",
    "    \"\"\"\n",
    "    Inputs:\n",
    "    actions_data_matrix : action data matrix (X_prev, X_current)\n",
    "    Outputs:\n",
    "    Concatenation of [X_cur, X_prev]\n",
    "    Index of action data in X_grid\n",
    "    \"\"\"\n",
    "    prev = action_data_matrix[:,0][:,None]\n",
    "    cur = action_data_matrix[:,1][:,None]\n",
    "    concat = np.vstack([cur, prev])\n",
    "    \n",
    "    grid_sorted = np.argsort(X_grid)\n",
    "    ypos = np.searchsorted(X_grid[grid_sorted], concat)\n",
    "    indices = grid_sorted[ypos]\n",
    "    return concat, indices"
   ]
  },
  {
   "cell_type": "code",
   "execution_count": 29,
   "metadata": {
    "collapsed": true
   },
   "outputs": [],
   "source": [
    "concat_actions, indices = gen_req_action_data(specific_occ_actions_data_list[0], all_x_grid)"
   ]
  },
  {
   "cell_type": "code",
   "execution_count": 11,
   "metadata": {
    "collapsed": true
   },
   "outputs": [],
   "source": [
    "def gen_rel_list_action_data(all_occ_action_data_list, X_grid):\n",
    "    \"\"\"\n",
    "    Generate relevant data from all occupant action data list\n",
    "    \"\"\"\n",
    "    \n",
    "    concat_list = []\n",
    "    indices_list = []\n",
    "    for action_data in all_occ_action_data_list:\n",
    "        concat_actions, indices = gen_req_action_data(action_data, X_grid)\n",
    "        concat_list.append(concat_actions)\n",
    "        indices_list.append(indices)\n",
    "        \n",
    "    return concat_list, indices_list"
   ]
  },
  {
   "cell_type": "code",
   "execution_count": 18,
   "metadata": {
    "collapsed": true
   },
   "outputs": [],
   "source": [
    "def gen_rel_matrix_action_data(all_occ_action_data_list, X_grid):\n",
    "    \"\"\"\n",
    "    Generate relevant data from all occupant action data list\n",
    "    \"\"\"\n",
    "    \n",
    "    same_const_shape = 2*all_occ_action_data_list[0].shape[0]\n",
    "    concat_mat = np.zeros(shape = [len(all_occ_action_data_list), same_const_shape])\n",
    "    indices_mat = np.zeros(shape = [len(all_occ_action_data_list), same_const_shape])\n",
    "    for i, action_data in enumerate(all_occ_action_data_list):\n",
    "        concat_actions, indices = gen_req_action_data(action_data, X_grid)\n",
    "        concat_mat[i,:] = concat_actions[:,0]\n",
    "        indices_mat[i,:] = indices[:,0]\n",
    "        \n",
    "    return concat_mat, indices_mat"
   ]
  },
  {
   "cell_type": "code",
   "execution_count": 19,
   "metadata": {
    "collapsed": true
   },
   "outputs": [],
   "source": [
    "concat_list, indices_list = gen_rel_list_action_data(specific_occ_actions_data_list, all_x_grid)"
   ]
  },
  {
   "cell_type": "code",
   "execution_count": 20,
   "metadata": {},
   "outputs": [],
   "source": [
    "concat_mat, indices_mat = gen_rel_matrix_action_data(specific_occ_actions_data_list, all_x_grid)"
   ]
  },
  {
   "cell_type": "code",
   "execution_count": 22,
   "metadata": {},
   "outputs": [
    {
     "data": {
      "text/plain": [
       "(3, 40)"
      ]
     },
     "execution_count": 22,
     "metadata": {},
     "output_type": "execute_result"
    }
   ],
   "source": [
    "concat_mat.shape"
   ]
  },
  {
   "cell_type": "code",
   "execution_count": 23,
   "metadata": {},
   "outputs": [
    {
     "data": {
      "text/plain": [
       "(3, 40)"
      ]
     },
     "execution_count": 23,
     "metadata": {},
     "output_type": "execute_result"
    }
   ],
   "source": [
    "indices_mat.shape"
   ]
  },
  {
   "cell_type": "code",
   "execution_count": null,
   "metadata": {
    "collapsed": true
   },
   "outputs": [],
   "source": []
  }
 ],
 "metadata": {
  "kernelspec": {
   "display_name": "Python [default]",
   "language": "python",
   "name": "python2"
  },
  "language_info": {
   "codemirror_mode": {
    "name": "ipython",
    "version": 2
   },
   "file_extension": ".py",
   "mimetype": "text/x-python",
   "name": "python",
   "nbconvert_exporter": "python",
   "pygments_lexer": "ipython2",
   "version": "2.7.14"
  }
 },
 "nbformat": 4,
 "nbformat_minor": 2
}
