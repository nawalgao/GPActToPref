{
 "cells": [
  {
   "cell_type": "code",
   "execution_count": 1,
   "metadata": {},
   "outputs": [
    {
     "ename": "RuntimeError",
     "evalue": "module compiled against API version 0xb but this version of numpy is 0xa",
     "output_type": "error",
     "traceback": [
      "\u001b[0;31m---------------------------------------------------------------------------\u001b[0m",
      "\u001b[0;31mRuntimeError\u001b[0m                              Traceback (most recent call last)",
      "\u001b[0;31mRuntimeError\u001b[0m: module compiled against API version 0xb but this version of numpy is 0xa"
     ]
    },
    {
     "ename": "RuntimeError",
     "evalue": "module compiled against API version 0xb but this version of numpy is 0xa",
     "output_type": "error",
     "traceback": [
      "\u001b[0;31m---------------------------------------------------------------------------\u001b[0m",
      "\u001b[0;31mRuntimeError\u001b[0m                              Traceback (most recent call last)",
      "\u001b[0;31mRuntimeError\u001b[0m: module compiled against API version 0xb but this version of numpy is 0xa"
     ]
    }
   ],
   "source": [
    "import json\n",
    "import gpflow\n",
    "import numpy as np\n",
    "import matplotlib.pyplot as plt\n",
    "import math\n",
    "%matplotlib inline\n",
    "import seaborn as sns\n",
    "sns.set_style(\"white\")\n",
    "sns.set_context(\"talk\", font_scale=1.4)\n",
    "import sys\n",
    "sys.path.append('../')\n",
    "from Misc import syn_data_gen, save_load_files\n",
    "from GPCollabPrefAct import collab_gpmc"
   ]
  },
  {
   "cell_type": "code",
   "execution_count": 2,
   "metadata": {
    "collapsed": true
   },
   "outputs": [],
   "source": [
    "num_latent_gps = 5"
   ]
  },
  {
   "cell_type": "code",
   "execution_count": 3,
   "metadata": {},
   "outputs": [
    {
     "name": "stdout",
     "output_type": "stream",
     "text": [
      "Occupant number:\n",
      "1\n",
      "Occupant number:\n",
      "2\n",
      "Occupant number:\n",
      "3\n",
      "Occupant number:\n",
      "4\n",
      "Occupant number:\n",
      "5\n",
      "Occupant number:\n",
      "6\n",
      "Occupant number:\n",
      "7\n",
      "Occupant number:\n",
      "8\n",
      "Occupant number:\n",
      "9\n",
      "Occupant number:\n",
      "10\n",
      "Occupant number:\n",
      "11\n",
      "Occupant number:\n",
      "12\n",
      "Occupant number:\n",
      "13\n",
      "Occupant number:\n",
      "14\n",
      "Occupant number:\n",
      "15\n",
      "Occupant number:\n",
      "16\n",
      "Occupant number:\n",
      "17\n",
      "Occupant number:\n",
      "18\n",
      "Occupant number:\n",
      "19\n",
      "Occupant number:\n",
      "20\n",
      "Occupant number:\n",
      "21\n"
     ]
    }
   ],
   "source": [
    "num_data = 5\n",
    "# Specific occupants 6, 7, 8 actions\n",
    "specific_occ_actions_data_list = []\n",
    "specific_occ_actions_data_norm_list = []\n",
    "for i in xrange(21):\n",
    "    occ_num = i + 1\n",
    "    print \"Occupant number:\"\n",
    "    print occ_num\n",
    "    config_file = '../data/config_files/syn/diff_utilities_config/syn_occupants.json'\n",
    "    with open(config_file, 'r') as fd:\n",
    "        config = json.loads(fd.read())\n",
    "\n",
    "    a = config['O' + str(occ_num)]['a']\n",
    "    b = config['O' + str(occ_num)]['b']\n",
    "    \n",
    "    # Load actions data\n",
    "    actions_data = np.loadtxt('../data/syn_data/syn_occ/actions_data/train/' +\n",
    "                         'O_a' + str(a) + '_b' + str(b) + '_' + str(num_data) + '_.csv', delimiter = ',')\n",
    "    \n",
    "    actions_data_norm = (actions_data - 0.5)/0.5\n",
    "    \n",
    "    specific_occ_actions_data_list.append(actions_data)\n",
    "    specific_occ_actions_data_norm_list.append(actions_data_norm) \n",
    "\n",
    "all_x_grid = np.linspace(0,1,50)"
   ]
  },
  {
   "cell_type": "code",
   "execution_count": 4,
   "metadata": {
    "collapsed": true
   },
   "outputs": [],
   "source": [
    "all_x_grid = np.linspace(0,1,50)\n",
    "all_x_grid_norm = (all_x_grid - 0.5)/0.5"
   ]
  },
  {
   "cell_type": "markdown",
   "metadata": {},
   "source": [
    "# Collaborative Preference Learning Model Setup"
   ]
  },
  {
   "cell_type": "code",
   "execution_count": 5,
   "metadata": {
    "collapsed": true
   },
   "outputs": [],
   "source": [
    "latent_gps_kerns_list = [gpflow.kernels.RBF(1)]*num_latent_gps"
   ]
  },
  {
   "cell_type": "code",
   "execution_count": 6,
   "metadata": {
    "collapsed": true
   },
   "outputs": [],
   "source": [
    "#def __init__(self, actions_list, kerns_list, X_grid)\n",
    "m = collab_gpmc.GPCollabPrefLearnGPMC(specific_occ_actions_data_norm_list, latent_gps_kerns_list, all_x_grid_norm)"
   ]
  },
  {
   "cell_type": "code",
   "execution_count": 7,
   "metadata": {
    "collapsed": true
   },
   "outputs": [],
   "source": [
    "for i in xrange(len(latent_gps_kerns_list)):\n",
    "    m.kerns_list[i].lengthscales.prior = gpflow.priors.Gamma(1., 1.)\n",
    "    m.kerns_list[i].variance.prior = gpflow.priors.Gamma(1., 1.)"
   ]
  },
  {
   "cell_type": "code",
   "execution_count": 8,
   "metadata": {
    "collapsed": true
   },
   "outputs": [],
   "source": [
    "m.W.prior = gpflow.priors.Gaussian(0,1)"
   ]
  },
  {
   "cell_type": "code",
   "execution_count": 9,
   "metadata": {},
   "outputs": [
    {
     "data": {
      "text/plain": [
       "      fun: array([ 378.21594433])\n",
       " hess_inv: <365x365 LbfgsInvHessProduct with dtype=float64>\n",
       "      jac: array([  6.57075250e-05,  -1.23710720e-05,  -1.28284655e-04,\n",
       "        -5.28361104e-05,  -2.27716424e-05,   5.63342167e-06,\n",
       "         1.97260094e-05,   2.65265764e-05,   3.94829939e-05,\n",
       "         4.63095302e-05,   6.14081910e-05,   7.63490424e-05,\n",
       "         7.23285096e-05,   5.72718045e-05,   2.67177019e-05,\n",
       "         7.11444959e-07,   3.08749088e-07,   2.34185222e-05,\n",
       "         4.56716068e-05,   4.47413840e-05,   3.47066921e-05,\n",
       "         2.21297164e-05,  -1.23823046e-06,   1.01858264e-05,\n",
       "        -2.31119213e-05,  -5.08198806e-05,  -7.57775546e-05,\n",
       "        -8.46386586e-05,  -7.80295725e-05,  -6.30256549e-05,\n",
       "        -4.59898696e-05,  -2.90894021e-05,  -8.21506334e-06,\n",
       "         8.70515622e-06,  -1.61816526e-06,  -1.36714213e-05,\n",
       "        -3.10200465e-05,  -4.17745120e-05,  -6.50292029e-05,\n",
       "        -7.07285849e-05,  -9.84342449e-05,  -8.39671937e-05,\n",
       "        -7.63435792e-05,  -6.54551440e-05,  -5.33640031e-05,\n",
       "        -3.21149828e-05,  -2.61584051e-05,  -1.67215039e-05,\n",
       "        -1.10139027e-05,  -1.47697559e-06,  -3.00888190e-04,\n",
       "        -2.33370896e-04,  -2.55995802e-05,  -1.38476529e-05,\n",
       "         2.63366616e-05,   3.99900639e-05,   8.87363349e-05,\n",
       "         1.51946366e-04,   1.35841486e-04,   7.83058495e-05,\n",
       "         5.34281190e-05,   5.44296714e-05,   3.88546310e-05,\n",
       "         2.53654058e-05,  -1.42457201e-05,  -5.21702453e-05,\n",
       "        -4.41842308e-05,  -1.93675379e-05,   1.00519800e-05,\n",
       "         3.98280883e-05,   5.67214272e-05,   6.31121806e-05,\n",
       "         5.08410927e-05,   4.09338714e-05,   1.29986330e-05,\n",
       "        -2.14290928e-05,  -5.31443030e-05,  -7.92639624e-05,\n",
       "        -8.72063967e-05,  -6.93030109e-05,  -4.43158473e-05,\n",
       "        -1.13863939e-05,   2.90421227e-05,   7.02317036e-05,\n",
       "         1.02424560e-04,   1.22299014e-04,   1.32908907e-04,\n",
       "         1.29130737e-04,   1.15292747e-04,   1.00365666e-04,\n",
       "         8.08199226e-05,   6.43811014e-05,   4.83408958e-05,\n",
       "         3.03715568e-05,   1.93542366e-05,   9.28000430e-06,\n",
       "         2.45545101e-06,  -2.09870225e-06,  -9.63945063e-06,\n",
       "        -3.23119656e-06,   1.42305244e-04,   1.56889504e-04,\n",
       "         1.04979474e-04,   9.05399902e-05,   7.63194627e-05,\n",
       "         8.51201871e-05,   7.01394590e-05,   5.73399204e-05,\n",
       "         7.73960529e-05,   8.22537791e-05,   8.09587980e-05,\n",
       "         6.39434262e-05,   2.97108112e-05,   1.42424703e-05,\n",
       "         1.44754647e-05,   9.00672721e-06,  -3.45817768e-05,\n",
       "        -7.30107867e-05,  -1.01727876e-04,  -1.24474664e-04,\n",
       "        -1.31234644e-04,  -1.38905866e-04,  -1.50310957e-04,\n",
       "        -1.59603645e-04,  -1.56988712e-04,  -1.37204069e-04,\n",
       "        -1.15439116e-04,  -1.00743771e-04,  -9.03074851e-05,\n",
       "        -7.89586100e-05,  -5.99814027e-05,  -4.41910223e-05,\n",
       "        -3.31782933e-05,  -3.46584732e-05,  -1.71235609e-05,\n",
       "        -1.07198982e-05,  -3.66461303e-06,   5.12241417e-06,\n",
       "         5.79720980e-06,   1.57764734e-05,   5.07179372e-06,\n",
       "         1.22219451e-05,   1.81508466e-05,   1.83834363e-05,\n",
       "         8.85316380e-06,   2.16484455e-05,   1.72455275e-05,\n",
       "         1.31793606e-05,   6.66031821e-06,   4.35098758e-06,\n",
       "         2.32899931e-04,  -4.53025687e-04,  -3.78996733e-04,\n",
       "        -2.32463307e-04,  -1.64774905e-04,  -2.07656431e-04,\n",
       "        -2.14623316e-04,  -1.59416771e-04,  -4.18069542e-05,\n",
       "         4.63946839e-05,   4.28616702e-05,  -2.83709724e-05,\n",
       "        -8.55919702e-05,  -7.08398284e-05,  -3.14434703e-05,\n",
       "        -3.27111720e-05,  -5.42323717e-05,  -7.71977941e-05,\n",
       "        -9.77801258e-05,  -9.21003956e-05,  -5.17846571e-05,\n",
       "        -3.32880294e-06,   2.95108680e-05,   3.68729182e-05,\n",
       "         7.59421647e-05,   1.21609185e-04,   1.60232718e-04,\n",
       "         1.93962902e-04,   2.11437029e-04,   2.25750661e-04,\n",
       "         2.10224967e-04,   1.97197725e-04,   1.72914986e-04,\n",
       "         1.30419554e-04,   9.31417193e-05,   5.53272399e-05,\n",
       "         2.81657334e-05,  -1.39779505e-06,  -1.37974782e-05,\n",
       "        -1.34533725e-05,  -9.04344646e-06,   6.19964928e-06,\n",
       "         1.57621237e-05,   3.22205625e-05,   2.50328386e-05,\n",
       "         4.01332359e-05,   2.73663474e-05,   1.56792841e-05,\n",
       "         9.14887752e-06,   4.49344430e-06,   1.79784619e-04,\n",
       "         1.09155595e-04,  -1.05486966e-05,  -5.53130499e-05,\n",
       "        -9.71756742e-05,  -1.31731012e-04,  -1.77775254e-04,\n",
       "        -2.46218635e-04,  -2.54625376e-04,  -1.97729086e-04,\n",
       "        -1.64960941e-04,  -1.47880735e-04,  -9.93311155e-05,\n",
       "        -5.82157004e-05,   6.30028196e-06,   6.72868610e-05,\n",
       "         9.52441650e-05,   9.28176254e-05,   7.56175442e-05,\n",
       "         6.36617246e-05,   4.79631597e-05,   4.62712953e-05,\n",
       "         6.85702905e-05,   7.80569454e-05,   1.09748086e-04,\n",
       "         1.36053191e-04,   1.59604411e-04,   1.75138108e-04,\n",
       "         1.71589511e-04,   1.37389585e-04,   9.40953100e-05,\n",
       "         4.28063368e-05,  -1.11765111e-05,  -5.24338315e-05,\n",
       "        -8.94007367e-05,  -1.06032042e-04,  -1.09259175e-04,\n",
       "        -9.70734880e-05,  -7.25276905e-05,  -5.94495507e-05,\n",
       "        -2.44420359e-05,  -1.88364719e-05,  -1.11701738e-05,\n",
       "        -6.68215454e-06,   8.35889430e-06,  -6.58266093e-06,\n",
       "        -2.60993295e-06,   1.66238686e-06,   5.36929199e-06,\n",
       "         5.38553813e-07,  -1.57327783e-04,   7.70073194e-06,\n",
       "        -3.13043176e-04,  -3.67517868e-04,   2.72765115e-04,\n",
       "        -3.89178205e-04,  -1.48389706e-04,  -1.51606476e-04,\n",
       "         3.94772659e-04,   4.18683831e-04,   1.66423261e-04,\n",
       "         1.51485312e-04,  -4.99155082e-04,   3.07588602e-04,\n",
       "         2.08107535e-04,   3.33001507e-04,  -3.67133793e-04,\n",
       "         5.50946541e-04,  -4.47892146e-05,  -1.14479752e-04,\n",
       "        -1.70471383e-04,  -1.06714919e-04,   9.14766724e-05,\n",
       "         6.61840680e-05,   1.01098740e-04,  -2.71822968e-04,\n",
       "        -2.30850116e-04,   5.60444564e-04,  -1.19448543e-04,\n",
       "        -1.76490992e-04,  -1.30965397e-04,   7.39658337e-05,\n",
       "        -8.16543889e-05,   4.63043528e-04,   4.22707753e-05,\n",
       "         6.96447444e-05,  -1.15144761e-04,   2.18487096e-04,\n",
       "         8.23674409e-05,  -5.49696815e-05,   1.27168064e-04,\n",
       "        -5.43052743e-04,   3.42737673e-04,   4.08570504e-04,\n",
       "         2.82242238e-04,  -5.10873606e-04,  -1.30591812e-05,\n",
       "         2.04343286e-04,  -1.70745903e-04,   8.86035624e-05,\n",
       "         8.27987592e-04,  -2.71751265e-04,  -3.27789046e-05,\n",
       "        -8.38366709e-05,   4.71899633e-05,   8.70436477e-05,\n",
       "         8.86990939e-05,  -1.39315359e-04,   2.06496976e-04,\n",
       "         1.40974438e-05,   6.31524718e-04,  -1.93790162e-05,\n",
       "        -2.44684325e-04,  -2.36062985e-04,   1.16692002e-05,\n",
       "        -2.32925667e-04,   3.43186634e-05,  -6.68210941e-05,\n",
       "         1.85093883e-04,   6.48969428e-05,   6.67648124e-05,\n",
       "         3.18032525e-04,  -2.56343626e-04,  -1.62673188e-05,\n",
       "        -1.63137175e-04,  -4.91980880e-04,   4.84497999e-04,\n",
       "         1.70305750e-04,   2.44538054e-04,  -5.10106725e-04,\n",
       "        -7.91134977e-04,   1.75490754e-04,   6.71916585e-05,\n",
       "         2.70623166e-05,  -2.37776513e-05,   1.52681219e-04,\n",
       "        -1.97608260e-04,  -1.41107906e-04,  -3.12774709e-04,\n",
       "         2.56632757e-04,   2.11667452e-04,   7.87842213e-05,\n",
       "         2.54132504e-04,  -2.73135320e-04,  -2.93381731e-04,\n",
       "        -1.28139064e-05,  -1.54532266e-04,   4.74308674e-04,\n",
       "        -4.73257166e-05,  -1.57727956e-04,  -6.89092933e-05,\n",
       "         7.26761895e-05,  -1.25358947e-04,   3.36248583e-07,\n",
       "         9.76823300e-05,   0.00000000e+00,   0.00000000e+00,\n",
       "         0.00000000e+00,   0.00000000e+00,   0.00000000e+00,\n",
       "         0.00000000e+00,   0.00000000e+00,   0.00000000e+00,\n",
       "         2.33483520e-03,   9.87447789e-05])\n",
       "  message: 'CONVERGENCE: REL_REDUCTION_OF_F_<=_FACTR*EPSMCH'\n",
       "     nfev: 101\n",
       "      nit: 87\n",
       "   status: 0\n",
       "  success: True\n",
       "        x: array([  1.16839654e+00,   5.89695667e-01,   3.87892411e-01,\n",
       "         2.13962714e-01,   1.51294317e-01,   1.14365432e-01,\n",
       "         7.42387901e-02,   4.44553253e-02,   3.31355094e-02,\n",
       "         2.47190502e-02,   2.16075319e-02,   1.02739907e-02,\n",
       "         7.60038892e-03,   6.36683567e-03,   9.81402356e-03,\n",
       "         1.87059741e-02,   9.77860153e-03,  -9.13003056e-03,\n",
       "        -3.53392023e-02,  -7.60012750e-02,  -1.28015155e-01,\n",
       "        -1.88200724e-01,  -2.47565966e-01,  -3.00306295e-01,\n",
       "        -3.52029715e-01,  -3.79134019e-01,  -3.92547201e-01,\n",
       "        -3.91545602e-01,  -3.78770668e-01,  -3.60535703e-01,\n",
       "        -3.30295879e-01,  -3.18958226e-01,  -3.06294350e-01,\n",
       "        -2.98577621e-01,  -3.02150343e-01,  -3.02579053e-01,\n",
       "        -2.93292615e-01,  -2.82047941e-01,  -2.62825256e-01,\n",
       "        -2.29148903e-01,  -1.85675729e-01,  -1.37624925e-01,\n",
       "        -9.02219217e-02,  -5.01802076e-02,  -2.24529991e-02,\n",
       "        -1.89305564e-03,   3.17425935e-03,   7.28066709e-03,\n",
       "         6.68027608e-03,   1.06087745e-04,   2.59781191e-01,\n",
       "        -1.43637789e-01,  -4.53120157e-01,  -4.05164321e-01,\n",
       "        -5.12975016e-01,  -5.65972685e-01,  -5.13003235e-01,\n",
       "        -4.78916422e-01,  -4.40896169e-01,  -3.60452880e-01,\n",
       "        -2.66824566e-01,  -1.73248400e-01,  -8.97454154e-02,\n",
       "        -1.85485229e-02,   3.76202552e-02,   6.95004706e-02,\n",
       "         8.57225638e-02,   8.52178507e-02,   6.68311088e-02,\n",
       "         4.78462264e-02,   2.24265489e-02,   8.61085652e-03,\n",
       "        -3.54568262e-03,  -1.65986400e-03,   1.48831316e-02,\n",
       "         3.41149564e-02,   5.52046703e-02,   8.33545627e-02,\n",
       "         1.08611470e-01,   1.32683030e-01,   1.62036324e-01,\n",
       "         1.92447625e-01,   2.22484251e-01,   2.50572596e-01,\n",
       "         2.77565265e-01,   2.96767941e-01,   3.03459098e-01,\n",
       "         2.93077367e-01,   2.69953021e-01,   2.36120140e-01,\n",
       "         1.90281077e-01,   1.42589837e-01,   9.90034385e-02,\n",
       "         5.85239618e-02,   3.46202187e-02,   7.72776517e-03,\n",
       "         2.76337935e-03,  -2.42033574e-03,  -1.73985307e-03,\n",
       "         1.89118200e-03,  -2.73899993e-01,   4.54655429e-01,\n",
       "         3.09889510e-01,   2.32073326e-01,   2.78833753e-01,\n",
       "         2.87508282e-01,   2.42771479e-01,   1.95172718e-01,\n",
       "         1.34446954e-01,   5.40282073e-02,  -2.70881531e-02,\n",
       "        -1.06178753e-01,  -1.66537359e-01,  -2.11824348e-01,\n",
       "        -2.25933117e-01,  -2.23873300e-01,  -2.02149026e-01,\n",
       "        -1.57424157e-01,  -9.50130927e-02,  -2.31229800e-02,\n",
       "         5.59821285e-02,   1.31403643e-01,   2.11183696e-01,\n",
       "         2.73752977e-01,   3.26650593e-01,   3.61626554e-01,\n",
       "         3.84730636e-01,   3.79047458e-01,   3.55802980e-01,\n",
       "         3.13436607e-01,   2.42215702e-01,   1.60477827e-01,\n",
       "         6.45123291e-02,  -3.13285525e-02,  -1.32964401e-01,\n",
       "        -2.18277220e-01,  -2.88259217e-01,  -3.29922390e-01,\n",
       "        -3.47758638e-01,  -3.43183042e-01,  -3.17456637e-01,\n",
       "        -2.75668031e-01,  -2.28038892e-01,  -1.74009861e-01,\n",
       "        -1.29981880e-01,  -8.13309807e-02,  -5.12106908e-02,\n",
       "        -2.81355650e-02,  -1.03946236e-02,  -5.37534555e-03,\n",
       "        -8.76686839e-01,  -3.90178126e-01,  -1.48378194e-01,\n",
       "        -5.33465940e-02,   4.63717048e-03,   3.89087463e-02,\n",
       "         5.55705245e-02,   7.64447589e-02,   1.05330374e-01,\n",
       "         1.33692240e-01,   1.75668751e-01,   2.25619362e-01,\n",
       "         2.95197045e-01,   3.47667019e-01,   3.97164135e-01,\n",
       "         4.65775942e-01,   5.11259668e-01,   5.40402744e-01,\n",
       "         5.61224746e-01,   5.77319989e-01,   5.86680845e-01,\n",
       "         5.80863535e-01,   5.65525886e-01,   5.20516564e-01,\n",
       "         4.66722555e-01,   3.88989437e-01,   2.95701774e-01,\n",
       "         1.80706973e-01,   6.30950741e-02,  -4.90784696e-02,\n",
       "        -1.68449733e-01,  -2.57113403e-01,  -3.27841903e-01,\n",
       "        -3.79380580e-01,  -3.96767375e-01,  -3.94635751e-01,\n",
       "        -3.73643700e-01,  -3.43222141e-01,  -2.94894012e-01,\n",
       "        -2.55052029e-01,  -2.01256641e-01,  -1.64289898e-01,\n",
       "        -1.38739738e-01,  -1.07676449e-01,  -7.45676194e-02,\n",
       "        -5.67980840e-02,  -3.91256278e-02,  -2.78269328e-02,\n",
       "        -1.64413646e-02,  -1.74195965e-03,  -4.54800404e-01,\n",
       "        -3.80907481e-01,   1.16131542e-01,   1.81094253e-01,\n",
       "         2.79937578e-01,   3.41111899e-01,   3.32070644e-01,\n",
       "         3.41406496e-01,   3.50089762e-01,   3.27980965e-01,\n",
       "         2.90719594e-01,   2.54718298e-01,   2.12354200e-01,\n",
       "         1.71380202e-01,   1.21529122e-01,   8.31726712e-02,\n",
       "         5.27995534e-02,   2.63852650e-02,   8.10833736e-03,\n",
       "        -1.16766840e-02,  -2.62236870e-02,  -4.73437272e-02,\n",
       "        -7.36401931e-02,  -1.03906107e-01,  -1.42640269e-01,\n",
       "        -1.79007166e-01,  -2.13007878e-01,  -2.37772200e-01,\n",
       "        -2.50437642e-01,  -2.49581074e-01,  -2.36869276e-01,\n",
       "        -2.11368005e-01,  -1.75517438e-01,  -1.36195614e-01,\n",
       "        -8.79072597e-02,  -4.47392315e-02,  -3.21212894e-03,\n",
       "         3.45094170e-02,   6.51217975e-02,   8.55757870e-02,\n",
       "         9.95485463e-02,   1.02162744e-01,   9.64559675e-02,\n",
       "         8.51782144e-02,   6.80731815e-02,   5.31814965e-02,\n",
       "         3.42477269e-02,   2.11329832e-02,   7.39676852e-03,\n",
       "         1.97617764e-03,   3.68742965e-01,   6.56036658e-02,\n",
       "         6.70996750e-01,  -3.84753000e-01,  -6.86155536e-01,\n",
       "         9.06541240e-01,  -6.32886482e-02,  -2.70555948e-01,\n",
       "        -2.61717990e-02,  -3.73576091e-02,   6.64288438e-01,\n",
       "        -5.90285885e-01,   2.22538496e-01,  -1.23046412e-03,\n",
       "         2.30609843e-01,   3.39408012e-01,  -4.82315631e-01,\n",
       "         2.12493703e-02,  -2.41888857e-01,   3.77078727e-01,\n",
       "        -4.50784761e-01,   5.00101098e-01,  -5.17452093e-01,\n",
       "        -2.19409777e-01,   1.22203462e-02,  -4.43704152e-01,\n",
       "         4.09240781e-01,  -1.61786353e-01,   4.54566305e-01,\n",
       "        -1.63427783e-01,   1.65431126e-02,  -6.04297368e-01,\n",
       "         6.96265367e-02,   1.79499754e-01,   5.74169144e-01,\n",
       "         1.93146164e-01,  -8.96837156e-02,   2.06532191e-01,\n",
       "         6.62122335e-01,  -1.28554610e-01,  -4.79726622e-01,\n",
       "         1.90548222e-01,   4.10367890e-01,  -1.33990312e-01,\n",
       "        -3.41154561e-01,  -2.29683052e-01,  -1.31242756e-01,\n",
       "         7.24619365e-01,   4.41804249e-01,  -3.24953698e-01,\n",
       "         1.19383435e-01,  -2.67678370e-01,   2.43301416e-01,\n",
       "         9.72490029e-01,   5.29962463e-02,  -6.88231583e-02,\n",
       "        -4.11296582e-01,   1.45350061e-01,   5.49643991e-01,\n",
       "         3.42096423e-01,  -1.02166012e+00,   7.10027918e-02,\n",
       "         3.46051619e-01,   4.80435027e-02,   1.20687003e-02,\n",
       "        -1.91744974e-01,   1.87192705e-01,   1.22775892e-01,\n",
       "         7.51981020e-01,  -2.28017425e-01,  -3.10553648e-01,\n",
       "        -1.41635661e-01,   3.29789113e-01,   6.99428026e-01,\n",
       "         3.27006406e-03,  -8.58029024e-02,  -1.50828414e-01,\n",
       "        -1.71406060e-01,   9.81085462e-01,   3.06196202e-01,\n",
       "        -8.37336602e-02,  -2.76817001e-01,  -9.15665709e-02,\n",
       "         6.45602137e-01,   3.80724666e-01,  -6.75267381e-01,\n",
       "         1.36304341e-01,   4.15453986e-02,   7.09219465e-01,\n",
       "         4.77974008e-02,   6.43815789e-02,  -6.87204000e-01,\n",
       "         4.87614361e-01,   2.35984756e-03,   3.36987657e-01,\n",
       "         6.41752157e-02,  -5.95896525e-01,   6.63838145e-01,\n",
       "         1.54046690e-01,   1.09829566e-01,  -1.81108858e-01,\n",
       "        -2.73229160e-01,   2.94539472e-01,   6.64356301e-01,\n",
       "         1.24022428e-01,   5.41323273e-01,   5.41323273e-01,\n",
       "         5.41323273e-01,   5.41323273e-01,   5.41323273e-01,\n",
       "         5.41323273e-01,   5.41323273e-01,   5.41323273e-01,\n",
       "        -1.17392034e+00,   1.87169090e+00])"
      ]
     },
     "execution_count": 9,
     "metadata": {},
     "output_type": "execute_result"
    }
   ],
   "source": [
    "m.optimize(maxiter=5000) # start near MAP"
   ]
  },
  {
   "cell_type": "code",
   "execution_count": 10,
   "metadata": {},
   "outputs": [
    {
     "data": {
      "text/html": [
       "<table id='params' width=100%><tr><td>Name</td><td>values</td><td>prior</td><td>constraint</td></tr><tr><td>collaborative_pref_gps.V_h</td><td>[[  1.16839654e+00   5.89695667e-01   3.87892411e-01   2.13962714e-01</br>    1.51294317e-01   1.14365432e-01   7.42387901e-02   4.44553253e-02</br>    3.31355094e-02   2.47190502e-02   2.16075319e-02   1.02739907e-02</br>    7.60038892e-03   6.36683567e-03   9.81402356e-03   1.87059741e-02</br>    9.77860153e-03  -9.13003056e-03  -3.53392023e-02  -7.60012750e-02</br>   -1.28015155e-01  -1.88200724e-01  -2.47565966e-01  -3.00306295e-01</br>   -3.52029715e-01  -3.79134019e-01  -3.92547201e-01  -3.91545602e-01</br>   -3.78770668e-01  -3.60535703e-01  -3.30295879e-01  -3.18958226e-01</br>   -3.06294350e-01  -2.98577621e-01  -3.02150343e-01  -3.02579053e-01</br>   -2.93292615e-01  -2.82047941e-01  -2.62825256e-01  -2.29148903e-01</br>   -1.85675729e-01  -1.37624925e-01  -9.02219217e-02  -5.01802076e-02</br>   -2.24529991e-02  -1.89305564e-03   3.17425935e-03   7.28066709e-03</br>    6.68027608e-03   1.06087745e-04]</br> [  2.59781191e-01  -1.43637789e-01  -4.53120157e-01  -4.05164321e-01</br>   -5.12975016e-01  -5.65972685e-01  -5.13003235e-01  -4.78916422e-01</br>   -4.40896169e-01  -3.60452880e-01  -2.66824566e-01  -1.73248400e-01</br>   -8.97454154e-02  -1.85485229e-02   3.76202552e-02   6.95004706e-02</br>    8.57225638e-02   8.52178507e-02   6.68311088e-02   4.78462264e-02</br>    2.24265489e-02   8.61085652e-03  -3.54568262e-03  -1.65986400e-03</br>    1.48831316e-02   3.41149564e-02   5.52046703e-02   8.33545627e-02</br>    1.08611470e-01   1.32683030e-01   1.62036324e-01   1.92447625e-01</br>    2.22484251e-01   2.50572596e-01   2.77565265e-01   2.96767941e-01</br>    3.03459098e-01   2.93077367e-01   2.69953021e-01   2.36120140e-01</br>    1.90281077e-01   1.42589837e-01   9.90034385e-02   5.85239618e-02</br>    3.46202187e-02   7.72776517e-03   2.76337935e-03  -2.42033574e-03</br>   -1.73985307e-03   1.89118200e-03]</br> [ -2.73899993e-01   4.54655429e-01   3.09889510e-01   2.32073326e-01</br>    2.78833753e-01   2.87508282e-01   2.42771479e-01   1.95172718e-01</br>    1.34446954e-01   5.40282073e-02  -2.70881531e-02  -1.06178753e-01</br>   -1.66537359e-01  -2.11824348e-01  -2.25933117e-01  -2.23873300e-01</br>   -2.02149026e-01  -1.57424157e-01  -9.50130927e-02  -2.31229800e-02</br>    5.59821285e-02   1.31403643e-01   2.11183696e-01   2.73752977e-01</br>    3.26650593e-01   3.61626554e-01   3.84730636e-01   3.79047458e-01</br>    3.55802980e-01   3.13436607e-01   2.42215702e-01   1.60477827e-01</br>    6.45123291e-02  -3.13285525e-02  -1.32964401e-01  -2.18277220e-01</br>   -2.88259217e-01  -3.29922390e-01  -3.47758638e-01  -3.43183042e-01</br>   -3.17456637e-01  -2.75668031e-01  -2.28038892e-01  -1.74009861e-01</br>   -1.29981880e-01  -8.13309807e-02  -5.12106908e-02  -2.81355650e-02</br>   -1.03946236e-02  -5.37534555e-03]</br> [ -8.76686839e-01  -3.90178126e-01  -1.48378194e-01  -5.33465940e-02</br>    4.63717048e-03   3.89087463e-02   5.55705245e-02   7.64447589e-02</br>    1.05330374e-01   1.33692240e-01   1.75668751e-01   2.25619362e-01</br>    2.95197045e-01   3.47667019e-01   3.97164135e-01   4.65775942e-01</br>    5.11259668e-01   5.40402744e-01   5.61224746e-01   5.77319989e-01</br>    5.86680845e-01   5.80863535e-01   5.65525886e-01   5.20516564e-01</br>    4.66722555e-01   3.88989437e-01   2.95701774e-01   1.80706973e-01</br>    6.30950741e-02  -4.90784696e-02  -1.68449733e-01  -2.57113403e-01</br>   -3.27841903e-01  -3.79380580e-01  -3.96767375e-01  -3.94635751e-01</br>   -3.73643700e-01  -3.43222141e-01  -2.94894012e-01  -2.55052029e-01</br>   -2.01256641e-01  -1.64289898e-01  -1.38739738e-01  -1.07676449e-01</br>   -7.45676194e-02  -5.67980840e-02  -3.91256278e-02  -2.78269328e-02</br>   -1.64413646e-02  -1.74195965e-03]</br> [ -4.54800404e-01  -3.80907481e-01   1.16131542e-01   1.81094253e-01</br>    2.79937578e-01   3.41111899e-01   3.32070644e-01   3.41406496e-01</br>    3.50089762e-01   3.27980965e-01   2.90719594e-01   2.54718298e-01</br>    2.12354200e-01   1.71380202e-01   1.21529122e-01   8.31726712e-02</br>    5.27995534e-02   2.63852650e-02   8.10833736e-03  -1.16766840e-02</br>   -2.62236870e-02  -4.73437272e-02  -7.36401931e-02  -1.03906107e-01</br>   -1.42640269e-01  -1.79007166e-01  -2.13007878e-01  -2.37772200e-01</br>   -2.50437642e-01  -2.49581074e-01  -2.36869276e-01  -2.11368005e-01</br>   -1.75517438e-01  -1.36195614e-01  -8.79072597e-02  -4.47392315e-02</br>   -3.21212894e-03   3.45094170e-02   6.51217975e-02   8.55757870e-02</br>    9.95485463e-02   1.02162744e-01   9.64559675e-02   8.51782144e-02</br>    6.80731815e-02   5.31814965e-02   3.42477269e-02   2.11329832e-02</br>    7.39676852e-03   1.97617764e-03]]</td><td>N([ 0.],[ 1.])</td><td>(none)</td></tr><tr><td>collaborative_pref_gps.W</td><td>[[ 0.36874297  0.06560367  0.67099675 -0.384753   -0.68615554]</br> [ 0.90654124 -0.06328865 -0.27055595 -0.0261718  -0.03735761]</br> [ 0.66428844 -0.59028589  0.2225385  -0.00123046  0.23060984]</br> [ 0.33940801 -0.48231563  0.02124937 -0.24188886  0.37707873]</br> [-0.45078476  0.5001011  -0.51745209 -0.21940978  0.01222035]</br> [-0.44370415  0.40924078 -0.16178635  0.45456631 -0.16342778]</br> [ 0.01654311 -0.60429737  0.06962654  0.17949975  0.57416914]</br> [ 0.19314616 -0.08968372  0.20653219  0.66212234 -0.12855461]</br> [-0.47972662  0.19054822  0.41036789 -0.13399031 -0.34115456]</br> [-0.22968305 -0.13124276  0.72461937  0.44180425 -0.3249537 ]</br> [ 0.11938344 -0.26767837  0.24330142  0.97249003  0.05299625]</br> [-0.06882316 -0.41129658  0.14535006  0.54964399  0.34209642]</br> [-1.02166012  0.07100279  0.34605162  0.0480435   0.0120687 ]</br> [-0.19174497  0.1871927   0.12277589  0.75198102 -0.22801742]</br> [-0.31055365 -0.14163566  0.32978911  0.69942803  0.00327006]</br> [-0.0858029  -0.15082841 -0.17140606  0.98108546  0.3061962 ]</br> [-0.08373366 -0.276817   -0.09156657  0.64560214  0.38072467]</br> [-0.67526738  0.13630434  0.0415454   0.70921946  0.0477974 ]</br> [ 0.06438158 -0.687204    0.48761436  0.00235985  0.33698766]</br> [ 0.06417522 -0.59589652  0.66383815  0.15404669  0.10982957]</br> [-0.18110886 -0.27322916  0.29453947  0.6643563   0.12402243]]</td><td>N([ 0.],[ 1.])</td><td>(none)</td></tr><tr><td>collaborative_pref_gps.kerns_list.item0.lengthscales</td><td>[ 0.26938104]</td><td>Ga([ 1.],[ 1.])</td><td>+ve</td></tr><tr><td>collaborative_pref_gps.kerns_list.item0.variance</td><td>[ 2.01480758]</td><td>Ga([ 1.],[ 1.])</td><td>+ve</td></tr><tr><td>collaborative_pref_gps.kerns_list.item0.lengthscales</td><td>[ 0.26938104]</td><td>Ga([ 1.],[ 1.])</td><td>+ve</td></tr><tr><td>collaborative_pref_gps.kerns_list.item0.variance</td><td>[ 2.01480758]</td><td>Ga([ 1.],[ 1.])</td><td>+ve</td></tr><tr><td>collaborative_pref_gps.kerns_list.item0.lengthscales</td><td>[ 0.26938104]</td><td>Ga([ 1.],[ 1.])</td><td>+ve</td></tr><tr><td>collaborative_pref_gps.kerns_list.item0.variance</td><td>[ 2.01480758]</td><td>Ga([ 1.],[ 1.])</td><td>+ve</td></tr><tr><td>collaborative_pref_gps.kerns_list.item0.lengthscales</td><td>[ 0.26938104]</td><td>Ga([ 1.],[ 1.])</td><td>+ve</td></tr><tr><td>collaborative_pref_gps.kerns_list.item0.variance</td><td>[ 2.01480758]</td><td>Ga([ 1.],[ 1.])</td><td>+ve</td></tr><tr><td>collaborative_pref_gps.kerns_list.item0.lengthscales</td><td>[ 0.26938104]</td><td>Ga([ 1.],[ 1.])</td><td>+ve</td></tr><tr><td>collaborative_pref_gps.kerns_list.item0.variance</td><td>[ 2.01480758]</td><td>Ga([ 1.],[ 1.])</td><td>+ve</td></tr></table>"
      ],
      "text/plain": [
       "<GPCollabPrefAct.collab_gpmc.GPCollabPrefLearnGPMC at 0x1a1d9859d0>"
      ]
     },
     "execution_count": 10,
     "metadata": {},
     "output_type": "execute_result"
    }
   ],
   "source": [
    "m"
   ]
  },
  {
   "cell_type": "code",
   "execution_count": 11,
   "metadata": {},
   "outputs": [
    {
     "name": "stdout",
     "output_type": "stream",
     "text": [
      "burn-in sampling started\n",
      "Iteration:  100 \t Acc Rate:  97.0 %\n",
      "Iteration:  200 \t Acc Rate:  99.0 %\n",
      "Iteration:  300 \t Acc Rate:  99.0 %\n",
      "Iteration:  400 \t Acc Rate:  99.0 %\n",
      "Iteration:  500 \t Acc Rate:  100.0 %\n",
      "burn-in sampling ended\n",
      "Iteration:  100 \t Acc Rate:  97.0 %\n",
      "Iteration:  200 \t Acc Rate:  100.0 %\n",
      "Iteration:  300 \t Acc Rate:  100.0 %\n",
      "Iteration:  400 \t Acc Rate:  99.0 %\n",
      "Iteration:  500 \t Acc Rate:  99.0 %\n",
      "Iteration:  600 \t Acc Rate:  98.0 %\n",
      "Iteration:  700 \t Acc Rate:  99.0 %\n",
      "Iteration:  800 \t Acc Rate:  100.0 %\n",
      "Iteration:  900 \t Acc Rate:  99.0 %\n",
      "Iteration:  1000 \t Acc Rate:  100.0 %\n",
      "Iteration:  1100 \t Acc Rate:  100.0 %\n",
      "Iteration:  1200 \t Acc Rate:  100.0 %\n",
      "Iteration:  1300 \t Acc Rate:  99.0 %\n",
      "Iteration:  1400 \t Acc Rate:  100.0 %\n",
      "Iteration:  1500 \t Acc Rate:  100.0 %\n",
      "Iteration:  1600 \t Acc Rate:  97.0 %\n",
      "Iteration:  1700 \t Acc Rate:  100.0 %\n",
      "Iteration:  1800 \t Acc Rate:  99.0 %\n",
      "Iteration:  1900 \t Acc Rate:  100.0 %\n",
      "Iteration:  2000 \t Acc Rate:  98.0 %\n"
     ]
    }
   ],
   "source": [
    "samples = m.sample(1000, verbose=True, epsilon=0.02, thin = 2, burn = 500, Lmax = 40)"
   ]
  },
  {
   "cell_type": "markdown",
   "metadata": {},
   "source": [
    "# Predict latent GPs Hs and Ws - Fully Bayesian"
   ]
  },
  {
   "cell_type": "code",
   "execution_count": 12,
   "metadata": {
    "collapsed": true
   },
   "outputs": [],
   "source": [
    "min_grid = 0.\n",
    "max_grid = 1.\n",
    "num_grid = 20\n",
    "\n",
    "Xt = np.linspace(min_grid, max_grid, 2*num_grid)\n",
    "Xt_norm = (Xt - 0.5)/0.5\n",
    "Xt1 = np.linspace(min_grid, max_grid, num_grid)\n",
    "Xt2 = np.linspace(min_grid, max_grid, num_grid)\n",
    "\n",
    "Xtt1, Xtt2 = np.meshgrid(Xt1, Xt2)\n",
    "X_grid = np.zeros(shape =(np.ravel(Xtt1).shape[0],2))\n",
    "X_grid[:,0] = np.ravel(Xtt1) \n",
    "X_grid[:,1] = np.ravel(Xtt2)\n",
    "\n",
    "X_grid_norm = (X_grid - 0.5)/0.5\n",
    "num_feat = X_grid_norm.shape[1]/2"
   ]
  },
  {
   "cell_type": "code",
   "execution_count": 13,
   "metadata": {
    "collapsed": true
   },
   "outputs": [],
   "source": [
    "# Finding the posterior preference probabilities at the grid points\n",
    "X_grid_norm_concat = np.vstack([X_grid_norm[:,:num_feat], X_grid_norm[:,num_feat:]])"
   ]
  },
  {
   "cell_type": "code",
   "execution_count": 14,
   "metadata": {
    "collapsed": true
   },
   "outputs": [],
   "source": [
    "def multi_normal_samples(mu, std, num_samples):\n",
    "    \"\"\"\n",
    "    Sampling from a normal distribution with multiple mean and std\n",
    "    \"\"\"\n",
    "    samples = np.array([])\n",
    "    for i in xrange(mu.shape[0]):\n",
    "        sample = np.random.normal(mu[i], std[i], num_samples)\n",
    "        samples = np.append(samples, sample)\n",
    "    return samples\n",
    "\n",
    "def h_all_samples(mu_list, var_list):\n",
    "    \"\"\"\n",
    "    Utility samples for all concerned occupants\n",
    "    Inputs:\n",
    "    mu_list : list of mean utility values for all occupants len(mu_list) = num of occupants\n",
    "    var_list : list of variance associated with utility values for all occupants\n",
    "    \"\"\"\n",
    "    h_samples_mat = np.zeros((len(mu_list), mu_list[0].shape[0]))\n",
    "    for i in xrange(len(mu_list)):\n",
    "        mu = mu_list[i]\n",
    "        #print mu.shape\n",
    "        var = var_list[i]\n",
    "        #print var.shape\n",
    "        std = np.sqrt(var)\n",
    "        h_sample = multi_normal_samples(mu, std, 1)\n",
    "        #print u_sample\n",
    "        h_samples_mat[i] = h_sample\n",
    "    return h_samples_mat"
   ]
  },
  {
   "cell_type": "code",
   "execution_count": 15,
   "metadata": {
    "collapsed": true
   },
   "outputs": [],
   "source": [
    "def utility_samples_all_occupants(mu_list, var_list):\n",
    "    \"\"\"\n",
    "    Utility samples for all concerned occupants\n",
    "    Inputs:\n",
    "    mu_list : list of mean utility values for all occupants len(mu_list) = num of occupants\n",
    "    var_list : list of variance associated with utility values for all occupants\n",
    "    \"\"\"\n",
    "    u_samples_mat = np.zeros((len(mu_list), mu_list[0].shape[0]))\n",
    "    for i in xrange(len(mu_list)):\n",
    "        mu = mu_list[i]\n",
    "        #print mu.shape\n",
    "        var = var_list[i]\n",
    "        #print var.shape\n",
    "        std = np.sqrt(var)\n",
    "        u_sample = multi_normal_samples(mu, std, 1)\n",
    "        #print u_sample\n",
    "        u_samples_mat[i] = u_sample\n",
    "    return u_samples_mat"
   ]
  },
  {
   "cell_type": "code",
   "execution_count": 16,
   "metadata": {},
   "outputs": [],
   "source": [
    "from scipy.stats import norm\n",
    "\n",
    "u_list = []\n",
    "h_list = []\n",
    "w_list = []\n",
    "p_list = []\n",
    "for s in samples:\n",
    "    m.set_state(s)\n",
    "    mu_list, var_list = m.predict_h(X_grid_norm_concat)\n",
    "    h_all_occ = utility_samples_all_occupants(mu_list, var_list)\n",
    "    W = m.W.value \n",
    "    u = np.dot(W, h_all_occ)\n",
    "    num_datapoints = u.shape[1]\n",
    "    u1 = u[:,:num_datapoints/2]\n",
    "    u2 = u[:,num_datapoints/2:]\n",
    "    u_diff = u2 - u1\n",
    "    p = norm.cdf(u_diff)\n",
    "    \n",
    "    h_list.append(h_all_occ)\n",
    "    w_list.append(W)\n",
    "    u_list.append(u)\n",
    "    p_list.append(p)"
   ]
  },
  {
   "cell_type": "code",
   "execution_count": 17,
   "metadata": {},
   "outputs": [],
   "source": [
    "h_all_mat = np.asarray(h_list)\n",
    "w_all_mat = np.asarray(w_list)\n",
    "u_all_mat = np.asarray(u_list)\n",
    "p_all_mat = np.asarray(p_list)"
   ]
  },
  {
   "cell_type": "code",
   "execution_count": 18,
   "metadata": {
    "collapsed": true
   },
   "outputs": [],
   "source": [
    "p_all_mean_mat = np.mean(p_all_mat, axis = 0)\n",
    "p_all_std_mat = np.std(p_all_mat, axis = 0)"
   ]
  },
  {
   "cell_type": "code",
   "execution_count": null,
   "metadata": {
    "collapsed": true
   },
   "outputs": [],
   "source": []
  },
  {
   "cell_type": "code",
   "execution_count": null,
   "metadata": {
    "collapsed": true
   },
   "outputs": [],
   "source": []
  },
  {
   "cell_type": "markdown",
   "metadata": {},
   "source": [
    "# Plot and save pref probabilities for all occupants"
   ]
  },
  {
   "cell_type": "code",
   "execution_count": 19,
   "metadata": {
    "scrolled": false
   },
   "outputs": [],
   "source": [
    "mean_levels = np.linspace(0,1.)\n",
    "std_levels = np.linspace(0,.4)\n",
    "\n",
    "for i in xrange(21):\n",
    "    occ_num = i + 1\n",
    "    a = config['O' + str(occ_num)]['a']\n",
    "    b = config['O' + str(occ_num)]['b']\n",
    "    # Load actions data\n",
    "    actions_data = np.loadtxt('../data/syn_data/syn_occ/actions_data/train/' +\n",
    "                         'O_a' + str(a) + '_b' + str(b) + '_' + str(num_data) + '_.csv', delimiter = ',')\n",
    "    X_current = actions_data[:,1]\n",
    "    X_previous = actions_data[:,0]\n",
    "    \n",
    "    plt.figure(figsize=(12,10))\n",
    "    mean_reshape = p_all_mean_mat[i,:].reshape((num_grid, num_grid), order='F')\n",
    "    c = plt.contourf(Xt1,Xt1,mean_reshape.T,\n",
    "                     mean_levels, cmap=plt.cm.Blues)\n",
    "    plt.scatter(X_previous,X_current, marker = '.', c = 'r', s = 200, alpha = 1)\n",
    "    plt.colorbar(c)\n",
    "    plt.xlabel('Before Action')\n",
    "    plt.ylabel('After Action')\n",
    "    plt.title('Mean Predicted Preference Probability ; Occupant:' + str(i))\n",
    "    # + 'O_a' + str(a) + '_b' + str(b) + '_' + str(num_data)\n",
    "    plt.savefig(('../data/syn_data/results/collab/CM'\n",
    "                 + 'O_a' + str(a) + '_b' + str(b) +\n",
    "                 '_n_' + str(num_data) + '_h_' + str(num_latent_gps) + '_.png'), dpi = 300)\n",
    "    plt.close()\n",
    "    plt.figure(figsize=(12,10))\n",
    "    std_reshape = p_all_std_mat[i,:].reshape((num_grid, num_grid), order='F')\n",
    "    \n",
    "    c_v = plt.contourf(Xt1,Xt1,std_reshape.T,\n",
    "                 std_levels, cmap=plt.cm.Blues)\n",
    "    \n",
    "    plt.scatter(X_previous,X_current, marker = '.', c = 'r', s = 200, alpha = 1)\n",
    "    plt.colorbar(c_v)\n",
    "    plt.xlabel('Before Action')\n",
    "    plt.ylabel('After Action')\n",
    "    plt.title('Std Predicted Preference Probability ; Occupant:' + str(i))\n",
    "    plt.savefig(('../data/syn_data/results/collab/CV'\n",
    "                 + 'O_a' + str(a) + '_b' + str(b) +\n",
    "                 '_n_' + str(num_data) + '_h_' + str(num_latent_gps) + '_.png'), dpi = 300)\n",
    "    plt.close()\n",
    "    "
   ]
  },
  {
   "cell_type": "markdown",
   "metadata": {},
   "source": [
    "# Evaluating Performance Metrics on Occupant 10"
   ]
  },
  {
   "cell_type": "code",
   "execution_count": 58,
   "metadata": {},
   "outputs": [],
   "source": [
    "num_test_duels = 200\n",
    "a_7 = 10\n",
    "b_7 = 5\n",
    "\n",
    "dest_name = 'O_a'+ str(a_7) + '_b' + str(b_7)\n",
    "\n",
    "test_data = np.load('../data/syn_data/syn_occ/occupant_duels/test/' + dest_name + '_' + str(num_test_duels) + '_.npz')"
   ]
  },
  {
   "cell_type": "code",
   "execution_count": 59,
   "metadata": {
    "collapsed": true
   },
   "outputs": [],
   "source": [
    "x1 = test_data['x1']\n",
    "x2 = test_data['x2']\n",
    "y = test_data['y']"
   ]
  },
  {
   "cell_type": "markdown",
   "metadata": {},
   "source": [
    "# Predictions"
   ]
  },
  {
   "cell_type": "code",
   "execution_count": 60,
   "metadata": {
    "collapsed": true
   },
   "outputs": [],
   "source": [
    "X_test_concat = np.hstack([x1,x2])"
   ]
  },
  {
   "cell_type": "code",
   "execution_count": 61,
   "metadata": {
    "collapsed": true
   },
   "outputs": [],
   "source": [
    "X_test_concat_norm = (X_test_concat - 0.5)/0.5"
   ]
  },
  {
   "cell_type": "code",
   "execution_count": 62,
   "metadata": {},
   "outputs": [],
   "source": [
    "from scipy.stats import norm\n",
    "\n",
    "u_list = []\n",
    "h_list = []\n",
    "w_list = []\n",
    "p_list = []\n",
    "for s in samples:\n",
    "    m.set_state(s)\n",
    "    mu_list, var_list = m.predict_h(X_test_concat_norm[:,None])\n",
    "    h_all_occ = utility_samples_all_occupants(mu_list, var_list)\n",
    "    W = m.W.value \n",
    "    u = np.dot(W, h_all_occ)\n",
    "    num_datapoints = u.shape[1]\n",
    "    u1 = u[:,:num_datapoints/2]\n",
    "    u2 = u[:,num_datapoints/2:]\n",
    "    u_diff = u2 - u1\n",
    "    p = norm.cdf(u_diff)\n",
    "    \n",
    "    h_list.append(h_all_occ)\n",
    "    w_list.append(W)\n",
    "    u_list.append(u)\n",
    "    p_list.append(p)"
   ]
  },
  {
   "cell_type": "code",
   "execution_count": 63,
   "metadata": {},
   "outputs": [],
   "source": [
    "h_all_mat = np.asarray(h_list)\n",
    "w_all_mat = np.asarray(w_list)\n",
    "u_all_mat = np.asarray(u_list)\n",
    "p_all_mat = np.asarray(p_list)\n",
    "p_all_mean_mat = np.mean(p_all_mat, axis = 0)\n",
    "p_all_std_mat = np.std(p_all_mat, axis = 0)"
   ]
  },
  {
   "cell_type": "code",
   "execution_count": 64,
   "metadata": {},
   "outputs": [
    {
     "data": {
      "text/plain": [
       "(21, 200)"
      ]
     },
     "execution_count": 64,
     "metadata": {},
     "output_type": "execute_result"
    }
   ],
   "source": [
    "p_all_mean_mat.shape"
   ]
  },
  {
   "cell_type": "code",
   "execution_count": 66,
   "metadata": {},
   "outputs": [],
   "source": [
    "p_7 = p_all_mat[:,18,:]\n",
    "p_7_mean = p_all_mean_mat[18,:]\n",
    "p_7_std = p_all_std_mat[18,:]"
   ]
  },
  {
   "cell_type": "code",
   "execution_count": 71,
   "metadata": {},
   "outputs": [
    {
     "name": "stdout",
     "output_type": "stream",
     "text": [
      "boxplot\n"
     ]
    },
    {
     "data": {
      "image/png": "[encoded data removed]",
      "text/plain": [
       "<matplotlib.figure.Figure at 0x1a306d7f90>"
      ]
     },
     "metadata": {},
     "output_type": "display_data"
    }
   ],
   "source": [
    "from Misc import performance_metrics, visualize\n",
    "i = 30\n",
    "num_visualize = 20\n",
    "visualize.prob_pred_boxplot(p_7[:,i:i+10], y[i:i+10])"
   ]
  },
  {
   "cell_type": "code",
   "execution_count": 72,
   "metadata": {
    "collapsed": true
   },
   "outputs": [],
   "source": [
    "hit_rate = performance_metrics.hit_rate(p_7_mean, y)"
   ]
  },
  {
   "cell_type": "code",
   "execution_count": null,
   "metadata": {
    "collapsed": true
   },
   "outputs": [],
   "source": [
    "print 'hit rate:'\n",
    "print hit_rate"
   ]
  },
  {
   "cell_type": "code",
   "execution_count": 70,
   "metadata": {},
   "outputs": [
    {
     "name": "stdout",
     "output_type": "stream",
     "text": [
      "out of sample dev:\n",
      "234.453360578\n"
     ]
    }
   ],
   "source": [
    "out_of_sample_dev = performance_metrics.out_of_sample_deviance(p_7, y)\n",
    "print 'out of sample dev:'\n",
    "print out_of_sample_dev"
   ]
  },
  {
   "cell_type": "markdown",
   "metadata": {},
   "source": [
    "# Occupant "
   ]
  },
  {
   "cell_type": "code",
   "execution_count": null,
   "metadata": {
    "collapsed": true
   },
   "outputs": [],
   "source": []
  },
  {
   "cell_type": "code",
   "execution_count": null,
   "metadata": {},
   "outputs": [],
   "source": [
    "ii = 3\n",
    "\n",
    "mean_levels = np.linspace(0,1.)\n",
    "\n",
    "plt.figure(figsize=(12,10))\n",
    "mean_reshape = p_all_mean_mat[ii,:].reshape((num_grid, num_grid), order='F')\n",
    "c = plt.contourf(Xt1,Xt1,mean_reshape.T,\n",
    "                 mean_levels, cmap=plt.cm.Blues)\n",
    "plt.colorbar(c)\n",
    "plt.xlabel('Previous')\n",
    "plt.ylabel('Current')\n",
    "plt.title('Mean Predicted Preference Probability Contour Plot')\n",
    "\n",
    "levels = np.linspace(0,.4)\n",
    "plt.figure(figsize=(12,10))\n",
    "mean_reshape = p_all_std_mat[ii,:].reshape((num_grid, num_grid), order='F')\n",
    "c = plt.contourf(Xt1,Xt1,mean_reshape.T,\n",
    "                 levels, cmap=plt.cm.Blues)\n",
    "plt.colorbar(c)\n",
    "plt.xlabel('Previous')\n",
    "plt.ylabel('Current')\n",
    "plt.title('Std Predicted Preference Probability Contour Plot')"
   ]
  },
  {
   "cell_type": "code",
   "execution_count": null,
   "metadata": {},
   "outputs": [],
   "source": []
  },
  {
   "cell_type": "markdown",
   "metadata": {},
   "source": [
    "# Occupant 2"
   ]
  },
  {
   "cell_type": "code",
   "execution_count": null,
   "metadata": {},
   "outputs": [],
   "source": [
    "mean_levels = np.linspace(0,1.)\n",
    "plt.figure(figsize=(12,10))\n",
    "mean_reshape = p_all_mean_mat[1,:].reshape((num_grid, num_grid), order='F')\n",
    "c = plt.contourf(Xt1,Xt1,mean_reshape.T,\n",
    "                 mean_levels, cmap=plt.cm.Blues)\n",
    "plt.colorbar(c)\n",
    "plt.xlabel('Previous')\n",
    "plt.ylabel('Current')\n",
    "plt.title('Mean Predicted Preference Probability Contour Plot')"
   ]
  },
  {
   "cell_type": "code",
   "execution_count": null,
   "metadata": {},
   "outputs": [],
   "source": [
    "levels = np.linspace(0,.4)\n",
    "plt.figure(figsize=(12,10))\n",
    "mean_reshape = p_all_std_mat[1,:].reshape((num_grid, num_grid), order='F')\n",
    "c = plt.contourf(Xt1,Xt1,mean_reshape.T,\n",
    "                 levels, cmap=plt.cm.Blues)\n",
    "plt.colorbar(c)\n",
    "plt.xlabel('Previous')\n",
    "plt.ylabel('Current')\n",
    "plt.title('Std Predicted Preference Probability Contour Plot')"
   ]
  },
  {
   "cell_type": "markdown",
   "metadata": {},
   "source": [
    "# Occupant 3"
   ]
  },
  {
   "cell_type": "code",
   "execution_count": null,
   "metadata": {},
   "outputs": [],
   "source": [
    "mean_levels = np.linspace(0,1.)\n",
    "plt.figure(figsize=(12,10))\n",
    "mean_reshape = p_all_mean_mat[2,:].reshape((num_grid, num_grid), order='F')\n",
    "c = plt.contourf(Xt1,Xt1,mean_reshape.T,\n",
    "                 mean_levels, cmap=plt.cm.Blues)\n",
    "plt.colorbar(c)\n",
    "plt.xlabel('Previous')\n",
    "plt.ylabel('Current')\n",
    "plt.title('Mean Predicted Preference Probability Contour Plot')"
   ]
  },
  {
   "cell_type": "code",
   "execution_count": null,
   "metadata": {},
   "outputs": [],
   "source": [
    "levels = np.linspace(0,.4)\n",
    "plt.figure(figsize=(12,10))\n",
    "mean_reshape = p_all_std_mat[2,:].reshape((num_grid, num_grid), order='F')\n",
    "c = plt.contourf(Xt1,Xt1,mean_reshape.T,\n",
    "                 levels, cmap=plt.cm.Blues)\n",
    "plt.colorbar(c)\n",
    "plt.xlabel('Previous')\n",
    "plt.ylabel('Current')\n",
    "plt.title('Std Predicted Preference Probability Contour Plot')"
   ]
  },
  {
   "cell_type": "code",
   "execution_count": null,
   "metadata": {
    "collapsed": true
   },
   "outputs": [],
   "source": []
  }
 ],
 "metadata": {
  "kernelspec": {
   "display_name": "Python [default]",
   "language": "python",
   "name": "python2"
  },
  "language_info": {
   "codemirror_mode": {
    "name": "ipython",
    "version": 2
   },
   "file_extension": ".py",
   "mimetype": "text/x-python",
   "name": "python",
   "nbconvert_exporter": "python",
   "pygments_lexer": "ipython2",
   "version": "2.7.14"
  }
 },
 "nbformat": 4,
 "nbformat_minor": 2
}
