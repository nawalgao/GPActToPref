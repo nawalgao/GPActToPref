{
 "cells": [
  {
   "cell_type": "code",
   "execution_count": 1,
   "metadata": {},
   "outputs": [
    {
     "ename": "RuntimeError",
     "evalue": "module compiled against API version 0xb but this version of numpy is 0xa",
     "output_type": "error",
     "traceback": [
      "\u001b[0;31m---------------------------------------------------------------------------\u001b[0m",
      "\u001b[0;31mRuntimeError\u001b[0m                              Traceback (most recent call last)",
      "\u001b[0;31mRuntimeError\u001b[0m: module compiled against API version 0xb but this version of numpy is 0xa"
     ]
    },
    {
     "ename": "RuntimeError",
     "evalue": "module compiled against API version 0xb but this version of numpy is 0xa",
     "output_type": "error",
     "traceback": [
      "\u001b[0;31m---------------------------------------------------------------------------\u001b[0m",
      "\u001b[0;31mRuntimeError\u001b[0m                              Traceback (most recent call last)",
      "\u001b[0;31mRuntimeError\u001b[0m: module compiled against API version 0xb but this version of numpy is 0xa"
     ]
    }
   ],
   "source": [
    "import json\n",
    "import gpflow\n",
    "import numpy as np\n",
    "import matplotlib.pyplot as plt\n",
    "import math\n",
    "%matplotlib inline\n",
    "import seaborn as sns\n",
    "sns.set_style(\"white\")\n",
    "sns.set_context(\"paper\")\n",
    "import sys\n",
    "sys.path.append('../')\n",
    "from Misc import syn_data_gen, save_load_files\n",
    "from GPCollabPrefAct import collab_gpmc"
   ]
  },
  {
   "cell_type": "code",
   "execution_count": 2,
   "metadata": {},
   "outputs": [
    {
     "name": "stdout",
     "output_type": "stream",
     "text": [
      "Occupant number:\n",
      "6\n",
      "Occupant number:\n",
      "7\n",
      "Occupant number:\n",
      "8\n"
     ]
    }
   ],
   "source": [
    "num_data = 20\n",
    "# Specific occupants 6, 7, 8 actions\n",
    "specific_occ_actions_data_list = []\n",
    "specific_occ_actions_data_norm_list = []\n",
    "for i in xrange(5,8):\n",
    "    occ_num = i + 1\n",
    "    print \"Occupant number:\"\n",
    "    print occ_num\n",
    "    config_file = '../data/config_files/syn/diff_utilities_config/syn_occupants.json'\n",
    "    with open(config_file, 'r') as fd:\n",
    "        config = json.loads(fd.read())\n",
    "\n",
    "    a = config['O' + str(occ_num)]['a']\n",
    "    b = config['O' + str(occ_num)]['b']\n",
    "    \n",
    "    # Load actions data\n",
    "    actions_data = np.loadtxt('../data/syn_data/syn_occ/actions_data/train/' +\n",
    "                         'O_a' + str(a) + '_b' + str(b) + '_' + str(num_data) + '_.csv', delimiter = ',')\n",
    "    \n",
    "    actions_data_norm = (actions_data - 0.5)/0.5\n",
    "    \n",
    "    specific_occ_actions_data_list.append(actions_data)\n",
    "    specific_occ_actions_data_norm_list.append(actions_data_norm) \n",
    "\n",
    "all_x_grid = np.linspace(0,1,50)"
   ]
  },
  {
   "cell_type": "code",
   "execution_count": 3,
   "metadata": {
    "collapsed": true
   },
   "outputs": [],
   "source": [
    "all_x_grid = np.linspace(0,1,50)\n",
    "all_x_grid_norm = (all_x_grid - 0.5)/0.5"
   ]
  },
  {
   "cell_type": "markdown",
   "metadata": {},
   "source": [
    "# Collaborative Preference Learning Model Setup"
   ]
  },
  {
   "cell_type": "code",
   "execution_count": 4,
   "metadata": {
    "collapsed": true
   },
   "outputs": [],
   "source": [
    "latent_gps_kerns_list = [gpflow.kernels.RBF(1), gpflow.kernels.RBF(1), gpflow.kernels.RBF(1)]"
   ]
  },
  {
   "cell_type": "code",
   "execution_count": 5,
   "metadata": {},
   "outputs": [],
   "source": [
    "#def __init__(self, actions_list, kerns_list, X_grid)\n",
    "m = collab_gpmc.GPCollabPrefLearnGPMC(specific_occ_actions_data_norm_list, latent_gps_kerns_list, all_x_grid_norm)"
   ]
  },
  {
   "cell_type": "code",
   "execution_count": 6,
   "metadata": {},
   "outputs": [
    {
     "data": {
      "text/html": [
       "<table id='params' width=100%><tr><td>Name</td><td>values</td><td>prior</td><td>constraint</td></tr><tr><td>collaborative_pref_gps.V_h</td><td>[[ 0.  0.  0.  0.  0.  0.  0.  0.  0.  0.  0.  0.  0.  0.  0.  0.  0.  0.</br>   0.  0.  0.  0.  0.  0.  0.  0.  0.  0.  0.  0.  0.  0.  0.  0.  0.  0.</br>   0.  0.  0.  0.  0.  0.  0.  0.  0.  0.  0.  0.  0.  0.]</br> [ 0.  0.  0.  0.  0.  0.  0.  0.  0.  0.  0.  0.  0.  0.  0.  0.  0.  0.</br>   0.  0.  0.  0.  0.  0.  0.  0.  0.  0.  0.  0.  0.  0.  0.  0.  0.  0.</br>   0.  0.  0.  0.  0.  0.  0.  0.  0.  0.  0.  0.  0.  0.]</br> [ 0.  0.  0.  0.  0.  0.  0.  0.  0.  0.  0.  0.  0.  0.  0.  0.  0.  0.</br>   0.  0.  0.  0.  0.  0.  0.  0.  0.  0.  0.  0.  0.  0.  0.  0.  0.  0.</br>   0.  0.  0.  0.  0.  0.  0.  0.  0.  0.  0.  0.  0.  0.]]</td><td>N([ 0.],[ 1.])</td><td>(none)</td></tr><tr><td>collaborative_pref_gps.W</td><td>[[-1.93284719 -0.28830479 -0.13441514]</br> [ 1.36357104 -0.9353756   0.94567841]</br> [-0.64147435 -0.05912135 -0.11627653]]</td><td>None</td><td>(none)</td></tr><tr><td>collaborative_pref_gps.kerns_list.item0.lengthscales</td><td>[ 1.]</td><td>None</td><td>+ve</td></tr><tr><td>collaborative_pref_gps.kerns_list.item0.variance</td><td>[ 1.]</td><td>None</td><td>+ve</td></tr><tr><td>collaborative_pref_gps.kerns_list.item1.lengthscales</td><td>[ 1.]</td><td>None</td><td>+ve</td></tr><tr><td>collaborative_pref_gps.kerns_list.item1.variance</td><td>[ 1.]</td><td>None</td><td>+ve</td></tr><tr><td>collaborative_pref_gps.kerns_list.item2.lengthscales</td><td>[ 1.]</td><td>None</td><td>+ve</td></tr><tr><td>collaborative_pref_gps.kerns_list.item2.variance</td><td>[ 1.]</td><td>None</td><td>+ve</td></tr></table>"
      ],
      "text/plain": [
       "<GPCollabPrefAct.collab_gpmc.GPCollabPrefLearnGPMC at 0x1a18dd8ad0>"
      ]
     },
     "execution_count": 6,
     "metadata": {},
     "output_type": "execute_result"
    }
   ],
   "source": [
    "m"
   ]
  },
  {
   "cell_type": "code",
   "execution_count": 7,
   "metadata": {
    "collapsed": true
   },
   "outputs": [],
   "source": [
    "for i in xrange(len(latent_gps_kerns_list)):\n",
    "    m.kerns_list[i].lengthscales.prior = gpflow.priors.Gamma(1., 1.)\n",
    "    m.kerns_list[i].variance.prior = gpflow.priors.Gamma(1., 1.)"
   ]
  },
  {
   "cell_type": "code",
   "execution_count": 8,
   "metadata": {},
   "outputs": [
    {
     "data": {
      "text/html": [
       "<table id='params' width=100%><tr><td>Name</td><td>values</td><td>prior</td><td>constraint</td></tr><tr><td>collaborative_pref_gps.V_h</td><td>[[ 0.  0.  0.  0.  0.  0.  0.  0.  0.  0.  0.  0.  0.  0.  0.  0.  0.  0.</br>   0.  0.  0.  0.  0.  0.  0.  0.  0.  0.  0.  0.  0.  0.  0.  0.  0.  0.</br>   0.  0.  0.  0.  0.  0.  0.  0.  0.  0.  0.  0.  0.  0.]</br> [ 0.  0.  0.  0.  0.  0.  0.  0.  0.  0.  0.  0.  0.  0.  0.  0.  0.  0.</br>   0.  0.  0.  0.  0.  0.  0.  0.  0.  0.  0.  0.  0.  0.  0.  0.  0.  0.</br>   0.  0.  0.  0.  0.  0.  0.  0.  0.  0.  0.  0.  0.  0.]</br> [ 0.  0.  0.  0.  0.  0.  0.  0.  0.  0.  0.  0.  0.  0.  0.  0.  0.  0.</br>   0.  0.  0.  0.  0.  0.  0.  0.  0.  0.  0.  0.  0.  0.  0.  0.  0.  0.</br>   0.  0.  0.  0.  0.  0.  0.  0.  0.  0.  0.  0.  0.  0.]]</td><td>N([ 0.],[ 1.])</td><td>(none)</td></tr><tr><td>collaborative_pref_gps.W</td><td>[[-1.93284719 -0.28830479 -0.13441514]</br> [ 1.36357104 -0.9353756   0.94567841]</br> [-0.64147435 -0.05912135 -0.11627653]]</td><td>None</td><td>(none)</td></tr><tr><td>collaborative_pref_gps.kerns_list.item0.lengthscales</td><td>[ 1.]</td><td>Ga([ 1.],[ 1.])</td><td>+ve</td></tr><tr><td>collaborative_pref_gps.kerns_list.item0.variance</td><td>[ 1.]</td><td>Ga([ 1.],[ 1.])</td><td>+ve</td></tr><tr><td>collaborative_pref_gps.kerns_list.item1.lengthscales</td><td>[ 1.]</td><td>Ga([ 1.],[ 1.])</td><td>+ve</td></tr><tr><td>collaborative_pref_gps.kerns_list.item1.variance</td><td>[ 1.]</td><td>Ga([ 1.],[ 1.])</td><td>+ve</td></tr><tr><td>collaborative_pref_gps.kerns_list.item2.lengthscales</td><td>[ 1.]</td><td>Ga([ 1.],[ 1.])</td><td>+ve</td></tr><tr><td>collaborative_pref_gps.kerns_list.item2.variance</td><td>[ 1.]</td><td>Ga([ 1.],[ 1.])</td><td>+ve</td></tr></table>"
      ],
      "text/plain": [
       "<GPCollabPrefAct.collab_gpmc.GPCollabPrefLearnGPMC at 0x1a18dd8ad0>"
      ]
     },
     "execution_count": 8,
     "metadata": {},
     "output_type": "execute_result"
    }
   ],
   "source": [
    "m"
   ]
  },
  {
   "cell_type": "code",
   "execution_count": 9,
   "metadata": {
    "collapsed": true
   },
   "outputs": [],
   "source": [
    "m.W.prior = gpflow.priors.Gaussian(0,1)"
   ]
  },
  {
   "cell_type": "code",
   "execution_count": 10,
   "metadata": {},
   "outputs": [
    {
     "data": {
      "text/html": [
       "<table id='params' width=100%><tr><td>Name</td><td>values</td><td>prior</td><td>constraint</td></tr><tr><td>collaborative_pref_gps.V_h</td><td>[[ 0.  0.  0.  0.  0.  0.  0.  0.  0.  0.  0.  0.  0.  0.  0.  0.  0.  0.</br>   0.  0.  0.  0.  0.  0.  0.  0.  0.  0.  0.  0.  0.  0.  0.  0.  0.  0.</br>   0.  0.  0.  0.  0.  0.  0.  0.  0.  0.  0.  0.  0.  0.]</br> [ 0.  0.  0.  0.  0.  0.  0.  0.  0.  0.  0.  0.  0.  0.  0.  0.  0.  0.</br>   0.  0.  0.  0.  0.  0.  0.  0.  0.  0.  0.  0.  0.  0.  0.  0.  0.  0.</br>   0.  0.  0.  0.  0.  0.  0.  0.  0.  0.  0.  0.  0.  0.]</br> [ 0.  0.  0.  0.  0.  0.  0.  0.  0.  0.  0.  0.  0.  0.  0.  0.  0.  0.</br>   0.  0.  0.  0.  0.  0.  0.  0.  0.  0.  0.  0.  0.  0.  0.  0.  0.  0.</br>   0.  0.  0.  0.  0.  0.  0.  0.  0.  0.  0.  0.  0.  0.]]</td><td>N([ 0.],[ 1.])</td><td>(none)</td></tr><tr><td>collaborative_pref_gps.W</td><td>[[-1.93284719 -0.28830479 -0.13441514]</br> [ 1.36357104 -0.9353756   0.94567841]</br> [-0.64147435 -0.05912135 -0.11627653]]</td><td>N([ 0.],[ 1.])</td><td>(none)</td></tr><tr><td>collaborative_pref_gps.kerns_list.item0.lengthscales</td><td>[ 1.]</td><td>Ga([ 1.],[ 1.])</td><td>+ve</td></tr><tr><td>collaborative_pref_gps.kerns_list.item0.variance</td><td>[ 1.]</td><td>Ga([ 1.],[ 1.])</td><td>+ve</td></tr><tr><td>collaborative_pref_gps.kerns_list.item1.lengthscales</td><td>[ 1.]</td><td>Ga([ 1.],[ 1.])</td><td>+ve</td></tr><tr><td>collaborative_pref_gps.kerns_list.item1.variance</td><td>[ 1.]</td><td>Ga([ 1.],[ 1.])</td><td>+ve</td></tr><tr><td>collaborative_pref_gps.kerns_list.item2.lengthscales</td><td>[ 1.]</td><td>Ga([ 1.],[ 1.])</td><td>+ve</td></tr><tr><td>collaborative_pref_gps.kerns_list.item2.variance</td><td>[ 1.]</td><td>Ga([ 1.],[ 1.])</td><td>+ve</td></tr></table>"
      ],
      "text/plain": [
       "<GPCollabPrefAct.collab_gpmc.GPCollabPrefLearnGPMC at 0x1a18dd8ad0>"
      ]
     },
     "execution_count": 10,
     "metadata": {},
     "output_type": "execute_result"
    }
   ],
   "source": [
    "m"
   ]
  },
  {
   "cell_type": "code",
   "execution_count": 12,
   "metadata": {},
   "outputs": [
    {
     "data": {
      "text/plain": [
       "(165,)"
      ]
     },
     "execution_count": 12,
     "metadata": {},
     "output_type": "execute_result"
    }
   ],
   "source": [
    "m.get_free_state().shape"
   ]
  },
  {
   "cell_type": "code",
   "execution_count": 13,
   "metadata": {
    "scrolled": false
   },
   "outputs": [
    {
     "name": "stdout",
     "output_type": "stream",
     "text": [
      "U shape:\n",
      "Tensor(\"collaborative_pref_gps.build_likelihood/MatMul_3:0\", shape=(3, ?), dtype=float64)\n",
      "concerned_mat shape:\n",
      "Tensor(\"collaborative_pref_gps.build_likelihood/transpose_4:0\", shape=(3, 40), dtype=float64)\n",
      "U_diff\n",
      "Tensor(\"collaborative_pref_gps.build_likelihood/Sub:0\", shape=(3, 20), dtype=float64)\n",
      "flatten_U_diff\n",
      "Tensor(\"collaborative_pref_gps.build_likelihood/Reshape_80:0\", shape=(60, 1), dtype=float64)\n",
      "y\n",
      "Tensor(\"Y:0\", shape=(?, ?), dtype=float64)\n"
     ]
    },
    {
     "data": {
      "text/plain": [
       "      fun: array([ 170.16047206])\n",
       " hess_inv: <165x165 LbfgsInvHessProduct with dtype=float64>\n",
       "      jac: array([ -7.58917997e-05,   9.39091473e-04,   6.95699276e-04,\n",
       "         6.90361963e-04,   7.04888624e-04,   8.05502969e-04,\n",
       "         8.58225587e-04,   1.04475308e-03,   1.21972742e-03,\n",
       "         1.04238025e-03,   6.88328145e-04,   5.42928114e-04,\n",
       "         5.58105912e-04,   4.11955929e-04,   4.56316594e-05,\n",
       "        -1.88080396e-04,  -2.19987286e-04,  -2.58275417e-04,\n",
       "        -4.50707046e-04,  -6.59039637e-04,  -6.91622763e-04,\n",
       "        -6.46898753e-04,  -6.12438577e-04,  -5.79362118e-04,\n",
       "        -5.08904792e-04,  -4.16752272e-04,  -2.99493830e-04,\n",
       "        -2.00464143e-04,  -1.16736870e-04,  -8.52563017e-05,\n",
       "        -8.41863220e-05,  -9.54876037e-05,  -1.01159943e-04,\n",
       "        -1.26804308e-04,  -1.53692323e-04,  -1.66564151e-04,\n",
       "        -1.51044966e-04,  -1.23841369e-04,  -9.79344722e-05,\n",
       "        -6.67989511e-05,  -4.36369112e-05,  -1.72346816e-05,\n",
       "        -8.78807555e-06,  -6.06568026e-06,  -1.22185600e-05,\n",
       "        -6.55064221e-06,  -2.39059833e-06,   5.94407622e-06,\n",
       "         1.78624493e-06,   3.23007672e-06,   2.62733635e-05,\n",
       "        -3.02679731e-04,  -5.15090018e-04,  -2.57635125e-04,\n",
       "        -4.57211177e-04,  -7.91934842e-04,  -9.08982842e-04,\n",
       "        -8.97691369e-04,  -9.18043899e-04,  -8.91605665e-04,\n",
       "        -7.95610869e-04,  -7.14297566e-04,  -6.37219486e-04,\n",
       "        -5.01233313e-04,  -3.08264534e-04,  -9.86334940e-05,\n",
       "         7.29857412e-05,   2.04167721e-04,   3.68559214e-04,\n",
       "         4.73516519e-04,   5.71355277e-04,   6.26365297e-04,\n",
       "         6.61123341e-04,   6.79585825e-04,   6.73337559e-04,\n",
       "         6.43489689e-04,   6.10602945e-04,   5.58924978e-04,\n",
       "         4.97486888e-04,   4.44576503e-04,   4.06038586e-04,\n",
       "         3.78419498e-04,   3.37714143e-04,   3.10731562e-04,\n",
       "         2.72590074e-04,   2.28542185e-04,   1.99299255e-04,\n",
       "         1.60091535e-04,   1.24623339e-04,   9.07524298e-05,\n",
       "         6.92566132e-05,   4.81787735e-05,   3.61479887e-05,\n",
       "         2.52258093e-05,   2.77938490e-05,   2.26913723e-05,\n",
       "         2.63491493e-05,   2.66868904e-06,   1.41428587e-06,\n",
       "         3.72742740e-07,   1.97050488e-04,   1.69077857e-04,\n",
       "        -4.83510779e-05,  -2.26819952e-04,  -1.66448843e-04,\n",
       "        -5.83857333e-05,  -1.48453369e-05,  -2.58346504e-05,\n",
       "        -5.74255393e-05,  -7.66255077e-05,  -1.09808729e-04,\n",
       "        -1.32896093e-04,  -1.48977295e-04,  -1.44344060e-04,\n",
       "        -1.41253155e-04,  -1.34083047e-04,  -1.23969808e-04,\n",
       "        -1.49973412e-04,  -1.58991823e-04,  -1.69489163e-04,\n",
       "        -1.46237846e-04,  -1.36173377e-04,  -1.10744101e-04,\n",
       "        -7.75667914e-05,  -5.96998678e-05,  -2.68259910e-05,\n",
       "         3.55098686e-06,   2.01390821e-05,   6.44871642e-05,\n",
       "         8.51085863e-05,   9.91896271e-05,   1.09907502e-04,\n",
       "         1.19122440e-04,   1.19783356e-04,   1.17920943e-04,\n",
       "         1.11924228e-04,   1.03535856e-04,   9.93266566e-05,\n",
       "         7.51106459e-05,   5.42450864e-05,   5.09249618e-05,\n",
       "         4.07424686e-05,   4.14524044e-05,   1.56858750e-05,\n",
       "         3.57202804e-06,  -1.19628269e-05,  -1.34147788e-06,\n",
       "         1.63628350e-06,   9.04854479e-07,   1.40741907e-06,\n",
       "         3.93127048e-03,   1.36005066e-03,  -3.51623582e-04,\n",
       "         3.72094535e-04,   1.73264287e-04,  -3.38825181e-04,\n",
       "         7.63517032e-04,   7.71672061e-04,   1.03353075e-04,\n",
       "         1.23184152e-03,  -8.39836482e-04,   7.07838758e-03,\n",
       "         4.13896051e-04,  -9.96972890e-05,   2.40989500e-04])\n",
       "  message: 'CONVERGENCE: REL_REDUCTION_OF_F_<=_FACTR*EPSMCH'\n",
       "     nfev: 94\n",
       "      nit: 84\n",
       "   status: 0\n",
       "  success: True\n",
       "        x: array([  3.22634782e-01,  -5.08082131e-01,  -6.71541240e-01,\n",
       "        -5.30431511e-01,  -5.10515137e-01,  -5.45239334e-01,\n",
       "        -4.85201176e-01,  -3.91431442e-01,  -3.27739585e-01,\n",
       "        -2.88628623e-01,  -2.29350901e-01,  -1.83276003e-01,\n",
       "        -1.65820121e-01,  -1.66328057e-01,  -1.67342018e-01,\n",
       "        -1.69267095e-01,  -1.96924086e-01,  -1.72602236e-01,\n",
       "        -1.72059058e-01,  -1.47208299e-01,  -1.27516570e-01,\n",
       "        -7.41942814e-02,  -2.63723860e-02,   1.39608581e-02,\n",
       "         7.45736913e-02,   1.22856615e-01,   1.71618081e-01,\n",
       "         2.18849818e-01,   2.56458046e-01,   3.00339993e-01,\n",
       "         3.33475268e-01,   3.66781638e-01,   3.86896070e-01,\n",
       "         3.96043335e-01,   3.99808101e-01,   3.94875444e-01,\n",
       "         3.85214370e-01,   3.52060672e-01,   3.32264222e-01,\n",
       "         2.90598927e-01,   2.29866406e-01,   1.86797756e-01,\n",
       "         1.34904700e-01,   1.07365605e-01,   6.25178399e-02,\n",
       "         2.47024279e-02,   2.64596834e-03,   1.44870595e-03,\n",
       "         8.20995402e-04,   4.68403139e-04,  -9.38725767e-01,\n",
       "        -2.75967040e-01,  -1.63475658e-01,  -1.16273389e-01,\n",
       "        -1.17742151e-01,  -1.32137591e-01,  -1.02518666e-01,\n",
       "        -7.08720583e-02,  -4.73480999e-02,  -6.14222677e-03,\n",
       "         3.67858487e-02,   8.59490624e-02,   1.58893160e-01,\n",
       "         2.28253222e-01,   3.10485479e-01,   3.47868402e-01,\n",
       "         3.94288745e-01,   4.27447282e-01,   4.34036704e-01,\n",
       "         4.05352733e-01,   3.62090476e-01,   2.99560232e-01,\n",
       "         2.28204848e-01,   1.65834119e-01,   9.63839336e-02,\n",
       "         2.63179602e-02,  -1.32213731e-02,  -3.68876510e-02,\n",
       "        -5.52140615e-02,  -5.38019945e-02,  -4.41142417e-02,\n",
       "        -1.93014815e-02,  -2.37295138e-04,   3.50769057e-02,\n",
       "         6.82405993e-02,   9.99758040e-02,   1.22106763e-01,\n",
       "         1.36839716e-01,   1.44040209e-01,   1.40609683e-01,\n",
       "         1.26238504e-01,   1.09399112e-01,   8.48552711e-02,\n",
       "         6.87455726e-02,   4.27163413e-02,   1.98912821e-02,\n",
       "         9.91861064e-03,   5.80911527e-04,   3.41134775e-04,\n",
       "         1.87514834e-04,   5.71019231e-04,   6.63629433e-05,\n",
       "        -1.10311616e-04,  -3.19857098e-04,  -2.86622261e-04,\n",
       "        -1.77923645e-04,  -1.24295934e-04,  -1.24556438e-04,\n",
       "        -1.45247482e-04,  -1.68678017e-04,  -2.02974848e-04,\n",
       "        -2.21669610e-04,  -2.35069948e-04,  -2.21601901e-04,\n",
       "        -2.25725083e-04,  -2.05438006e-04,  -1.86139817e-04,\n",
       "        -2.02837120e-04,  -2.12697727e-04,  -2.18475616e-04,\n",
       "        -1.97790033e-04,  -1.82140830e-04,  -1.50151739e-04,\n",
       "        -1.20201209e-04,  -9.93246651e-05,  -5.72926023e-05,\n",
       "        -2.36255996e-05,  -5.79751428e-06,   3.99561039e-05,\n",
       "         6.16982557e-05,   7.93246139e-05,   8.62079244e-05,\n",
       "         1.01252144e-04,   1.03308598e-04,   1.03513314e-04,\n",
       "         9.79337690e-05,   9.05796697e-05,   8.83104177e-05,\n",
       "         6.64919695e-05,   4.66661589e-05,   4.42626960e-05,\n",
       "         3.50652362e-05,   3.85452634e-05,   1.03537826e-05,\n",
       "        -2.45404151e-06,  -1.17029768e-05,  -4.58175442e-06,\n",
       "         1.52460844e-06,   8.19307125e-07,   1.29963872e-06,\n",
       "        -6.99807677e-01,   1.48656542e+00,  -7.65887938e-04,\n",
       "        -1.43691399e+00,  -1.52076126e-01,  -3.38526136e-04,\n",
       "        -1.31496583e+00,  -5.10639000e-01,   5.12938898e-04,\n",
       "        -9.91827316e-01,   2.28642040e+00,  -1.09793552e+00,\n",
       "         1.42527537e+00,  -1.99836026e-04,   4.82364146e-04])"
      ]
     },
     "execution_count": 13,
     "metadata": {},
     "output_type": "execute_result"
    }
   ],
   "source": [
    "m.optimize(maxiter=5000) # start near MAP"
   ]
  },
  {
   "cell_type": "code",
   "execution_count": 14,
   "metadata": {},
   "outputs": [
    {
     "data": {
      "text/html": [
       "<table id='params' width=100%><tr><td>Name</td><td>values</td><td>prior</td><td>constraint</td></tr><tr><td>collaborative_pref_gps.V_h</td><td>[[  3.22634782e-01  -5.08082131e-01  -6.71541240e-01  -5.30431511e-01</br>   -5.10515137e-01  -5.45239334e-01  -4.85201176e-01  -3.91431442e-01</br>   -3.27739585e-01  -2.88628623e-01  -2.29350901e-01  -1.83276003e-01</br>   -1.65820121e-01  -1.66328057e-01  -1.67342018e-01  -1.69267095e-01</br>   -1.96924086e-01  -1.72602236e-01  -1.72059058e-01  -1.47208299e-01</br>   -1.27516570e-01  -7.41942814e-02  -2.63723860e-02   1.39608581e-02</br>    7.45736913e-02   1.22856615e-01   1.71618081e-01   2.18849818e-01</br>    2.56458046e-01   3.00339993e-01   3.33475268e-01   3.66781638e-01</br>    3.86896070e-01   3.96043335e-01   3.99808101e-01   3.94875444e-01</br>    3.85214370e-01   3.52060672e-01   3.32264222e-01   2.90598927e-01</br>    2.29866406e-01   1.86797756e-01   1.34904700e-01   1.07365605e-01</br>    6.25178399e-02   2.47024279e-02   2.64596834e-03   1.44870595e-03</br>    8.20995402e-04   4.68403139e-04]</br> [ -9.38725767e-01  -2.75967040e-01  -1.63475658e-01  -1.16273389e-01</br>   -1.17742151e-01  -1.32137591e-01  -1.02518666e-01  -7.08720583e-02</br>   -4.73480999e-02  -6.14222677e-03   3.67858487e-02   8.59490624e-02</br>    1.58893160e-01   2.28253222e-01   3.10485479e-01   3.47868402e-01</br>    3.94288745e-01   4.27447282e-01   4.34036704e-01   4.05352733e-01</br>    3.62090476e-01   2.99560232e-01   2.28204848e-01   1.65834119e-01</br>    9.63839336e-02   2.63179602e-02  -1.32213731e-02  -3.68876510e-02</br>   -5.52140615e-02  -5.38019945e-02  -4.41142417e-02  -1.93014815e-02</br>   -2.37295138e-04   3.50769057e-02   6.82405993e-02   9.99758040e-02</br>    1.22106763e-01   1.36839716e-01   1.44040209e-01   1.40609683e-01</br>    1.26238504e-01   1.09399112e-01   8.48552711e-02   6.87455726e-02</br>    4.27163413e-02   1.98912821e-02   9.91861064e-03   5.80911527e-04</br>    3.41134775e-04   1.87514834e-04]</br> [  5.71019231e-04   6.63629433e-05  -1.10311616e-04  -3.19857098e-04</br>   -2.86622261e-04  -1.77923645e-04  -1.24295934e-04  -1.24556438e-04</br>   -1.45247482e-04  -1.68678017e-04  -2.02974848e-04  -2.21669610e-04</br>   -2.35069948e-04  -2.21601901e-04  -2.25725083e-04  -2.05438006e-04</br>   -1.86139817e-04  -2.02837120e-04  -2.12697727e-04  -2.18475616e-04</br>   -1.97790033e-04  -1.82140830e-04  -1.50151739e-04  -1.20201209e-04</br>   -9.93246651e-05  -5.72926023e-05  -2.36255996e-05  -5.79751428e-06</br>    3.99561039e-05   6.16982557e-05   7.93246139e-05   8.62079244e-05</br>    1.01252144e-04   1.03308598e-04   1.03513314e-04   9.79337690e-05</br>    9.05796697e-05   8.83104177e-05   6.64919695e-05   4.66661589e-05</br>    4.42626960e-05   3.50652362e-05   3.85452634e-05   1.03537826e-05</br>   -2.45404151e-06  -1.17029768e-05  -4.58175442e-06   1.52460844e-06</br>    8.19307125e-07   1.29963872e-06]]</td><td>N([ 0.],[ 1.])</td><td>(none)</td></tr><tr><td>collaborative_pref_gps.W</td><td>[[ -6.99807677e-01   1.48656542e+00  -7.65887938e-04]</br> [ -1.43691399e+00  -1.52076126e-01  -3.38526136e-04]</br> [ -1.31496583e+00  -5.10639000e-01   5.12938898e-04]]</td><td>N([ 0.],[ 1.])</td><td>(none)</td></tr><tr><td>collaborative_pref_gps.kerns_list.item0.lengthscales</td><td>[ 0.31546724]</td><td>Ga([ 1.],[ 1.])</td><td>+ve</td></tr><tr><td>collaborative_pref_gps.kerns_list.item0.variance</td><td>[ 2.38321194]</td><td>Ga([ 1.],[ 1.])</td><td>+ve</td></tr><tr><td>collaborative_pref_gps.kerns_list.item1.lengthscales</td><td>[ 0.28785231]</td><td>Ga([ 1.],[ 1.])</td><td>+ve</td></tr><tr><td>collaborative_pref_gps.kerns_list.item1.variance</td><td>[ 1.64074434]</td><td>Ga([ 1.],[ 1.])</td><td>+ve</td></tr><tr><td>collaborative_pref_gps.kerns_list.item2.lengthscales</td><td>[ 0.69304827]</td><td>Ga([ 1.],[ 1.])</td><td>+ve</td></tr><tr><td>collaborative_pref_gps.kerns_list.item2.variance</td><td>[ 0.69338939]</td><td>Ga([ 1.],[ 1.])</td><td>+ve</td></tr></table>"
      ],
      "text/plain": [
       "<GPCollabPrefAct.collab_gpmc.GPCollabPrefLearnGPMC at 0x1a18dd8ad0>"
      ]
     },
     "execution_count": 14,
     "metadata": {},
     "output_type": "execute_result"
    }
   ],
   "source": [
    "m"
   ]
  },
  {
   "cell_type": "code",
   "execution_count": 17,
   "metadata": {},
   "outputs": [
    {
     "name": "stdout",
     "output_type": "stream",
     "text": [
      "burn-in sampling started\n",
      "Iteration:  100 \t Acc Rate:  94.0 %\n",
      "Iteration:  200 \t Acc Rate:  98.0 %\n",
      "Iteration:  300 \t Acc Rate:  97.0 %\n",
      "Iteration:  400 \t Acc Rate:  98.0 %\n",
      "Iteration:  500 \t Acc Rate:  98.0 %\n",
      "burn-in sampling ended\n",
      "Iteration:  100 \t Acc Rate:  98.0 %\n",
      "Iteration:  200 \t Acc Rate:  98.0 %\n",
      "Iteration:  300 \t Acc Rate:  97.0 %\n",
      "Iteration:  400 \t Acc Rate:  98.0 %\n",
      "Iteration:  500 \t Acc Rate:  99.0 %\n",
      "Iteration:  600 \t Acc Rate:  99.0 %\n",
      "Iteration:  700 \t Acc Rate:  97.0 %\n",
      "Iteration:  800 \t Acc Rate:  97.0 %\n",
      "Iteration:  900 \t Acc Rate:  100.0 %\n",
      "Iteration:  1000 \t Acc Rate:  97.0 %\n"
     ]
    }
   ],
   "source": [
    "samples = m.sample(500, verbose=True, epsilon=0.05, thin = 2, burn = 500, Lmax = 20)"
   ]
  },
  {
   "cell_type": "code",
   "execution_count": 18,
   "metadata": {},
   "outputs": [
    {
     "data": {
      "text/html": [
       "<table id='params' width=100%><tr><td>Name</td><td>values</td><td>prior</td><td>constraint</td></tr><tr><td>collaborative_pref_gps.V_h</td><td>[[  3.22634782e-01  -5.08082131e-01  -6.71541240e-01  -5.30431511e-01</br>   -5.10515137e-01  -5.45239334e-01  -4.85201176e-01  -3.91431442e-01</br>   -3.27739585e-01  -2.88628623e-01  -2.29350901e-01  -1.83276003e-01</br>   -1.65820121e-01  -1.66328057e-01  -1.67342018e-01  -1.69267095e-01</br>   -1.96924086e-01  -1.72602236e-01  -1.72059058e-01  -1.47208299e-01</br>   -1.27516570e-01  -7.41942814e-02  -2.63723860e-02   1.39608581e-02</br>    7.45736913e-02   1.22856615e-01   1.71618081e-01   2.18849818e-01</br>    2.56458046e-01   3.00339993e-01   3.33475268e-01   3.66781638e-01</br>    3.86896070e-01   3.96043335e-01   3.99808101e-01   3.94875444e-01</br>    3.85214370e-01   3.52060672e-01   3.32264222e-01   2.90598927e-01</br>    2.29866406e-01   1.86797756e-01   1.34904700e-01   1.07365605e-01</br>    6.25178399e-02   2.47024279e-02   2.64596834e-03   1.44870595e-03</br>    8.20995402e-04   4.68403139e-04]</br> [ -9.38725767e-01  -2.75967040e-01  -1.63475658e-01  -1.16273389e-01</br>   -1.17742151e-01  -1.32137591e-01  -1.02518666e-01  -7.08720583e-02</br>   -4.73480999e-02  -6.14222677e-03   3.67858487e-02   8.59490624e-02</br>    1.58893160e-01   2.28253222e-01   3.10485479e-01   3.47868402e-01</br>    3.94288745e-01   4.27447282e-01   4.34036704e-01   4.05352733e-01</br>    3.62090476e-01   2.99560232e-01   2.28204848e-01   1.65834119e-01</br>    9.63839336e-02   2.63179602e-02  -1.32213731e-02  -3.68876510e-02</br>   -5.52140615e-02  -5.38019945e-02  -4.41142417e-02  -1.93014815e-02</br>   -2.37295138e-04   3.50769057e-02   6.82405993e-02   9.99758040e-02</br>    1.22106763e-01   1.36839716e-01   1.44040209e-01   1.40609683e-01</br>    1.26238504e-01   1.09399112e-01   8.48552711e-02   6.87455726e-02</br>    4.27163413e-02   1.98912821e-02   9.91861064e-03   5.80911527e-04</br>    3.41134775e-04   1.87514834e-04]</br> [  5.71019231e-04   6.63629433e-05  -1.10311616e-04  -3.19857098e-04</br>   -2.86622261e-04  -1.77923645e-04  -1.24295934e-04  -1.24556438e-04</br>   -1.45247482e-04  -1.68678017e-04  -2.02974848e-04  -2.21669610e-04</br>   -2.35069948e-04  -2.21601901e-04  -2.25725083e-04  -2.05438006e-04</br>   -1.86139817e-04  -2.02837120e-04  -2.12697727e-04  -2.18475616e-04</br>   -1.97790033e-04  -1.82140830e-04  -1.50151739e-04  -1.20201209e-04</br>   -9.93246651e-05  -5.72926023e-05  -2.36255996e-05  -5.79751428e-06</br>    3.99561039e-05   6.16982557e-05   7.93246139e-05   8.62079244e-05</br>    1.01252144e-04   1.03308598e-04   1.03513314e-04   9.79337690e-05</br>    9.05796697e-05   8.83104177e-05   6.64919695e-05   4.66661589e-05</br>    4.42626960e-05   3.50652362e-05   3.85452634e-05   1.03537826e-05</br>   -2.45404151e-06  -1.17029768e-05  -4.58175442e-06   1.52460844e-06</br>    8.19307125e-07   1.29963872e-06]]</td><td>N([ 0.],[ 1.])</td><td>(none)</td></tr><tr><td>collaborative_pref_gps.W</td><td>[[ -6.99807677e-01   1.48656542e+00  -7.65887938e-04]</br> [ -1.43691399e+00  -1.52076126e-01  -3.38526136e-04]</br> [ -1.31496583e+00  -5.10639000e-01   5.12938898e-04]]</td><td>N([ 0.],[ 1.])</td><td>(none)</td></tr><tr><td>collaborative_pref_gps.kerns_list.item0.lengthscales</td><td>[ 0.31546724]</td><td>Ga([ 1.],[ 1.])</td><td>+ve</td></tr><tr><td>collaborative_pref_gps.kerns_list.item0.variance</td><td>[ 2.38321194]</td><td>Ga([ 1.],[ 1.])</td><td>+ve</td></tr><tr><td>collaborative_pref_gps.kerns_list.item1.lengthscales</td><td>[ 0.28785231]</td><td>Ga([ 1.],[ 1.])</td><td>+ve</td></tr><tr><td>collaborative_pref_gps.kerns_list.item1.variance</td><td>[ 1.64074434]</td><td>Ga([ 1.],[ 1.])</td><td>+ve</td></tr><tr><td>collaborative_pref_gps.kerns_list.item2.lengthscales</td><td>[ 0.69304827]</td><td>Ga([ 1.],[ 1.])</td><td>+ve</td></tr><tr><td>collaborative_pref_gps.kerns_list.item2.variance</td><td>[ 0.69338939]</td><td>Ga([ 1.],[ 1.])</td><td>+ve</td></tr></table>"
      ],
      "text/plain": [
       "<GPCollabPrefAct.collab_gpmc.GPCollabPrefLearnGPMC at 0x1a18dd8ad0>"
      ]
     },
     "execution_count": 18,
     "metadata": {},
     "output_type": "execute_result"
    }
   ],
   "source": [
    "m"
   ]
  },
  {
   "cell_type": "markdown",
   "metadata": {},
   "source": [
    "# Predict latent GPs H"
   ]
  },
  {
   "cell_type": "code",
   "execution_count": 19,
   "metadata": {
    "collapsed": true
   },
   "outputs": [],
   "source": [
    "min_grid = 0.\n",
    "max_grid = 1.\n",
    "num_grid = 20\n",
    "\n",
    "Xt = np.linspace(min_grid, max_grid, 2*num_grid)\n",
    "Xt_norm = (Xt - 0.5)/0.5\n",
    "Xt1 = np.linspace(min_grid, max_grid, num_grid)\n",
    "Xt2 = np.linspace(min_grid, max_grid, num_grid)\n",
    "\n",
    "Xtt1, Xtt2 = np.meshgrid(Xt1, Xt2)\n",
    "X_grid = np.zeros(shape =(np.ravel(Xtt1).shape[0],2))\n",
    "X_grid[:,0] = np.ravel(Xtt1) \n",
    "X_grid[:,1] = np.ravel(Xtt2)\n",
    "\n",
    "X_grid_norm = (X_grid - 0.5)/0.5\n",
    "num_feat = X_grid_norm.shape[1]/2"
   ]
  },
  {
   "cell_type": "code",
   "execution_count": 20,
   "metadata": {
    "collapsed": true
   },
   "outputs": [],
   "source": [
    "# Finding the posterior preference probabilities at the grid points\n",
    "X_grid_norm_concat = np.vstack([X_grid_norm[:,:num_feat], X_grid_norm[:,num_feat:]])"
   ]
  },
  {
   "cell_type": "code",
   "execution_count": 21,
   "metadata": {
    "scrolled": true
   },
   "outputs": [],
   "source": [
    "mu_list, var_list = m.predict_h(X_grid_norm_concat)"
   ]
  },
  {
   "cell_type": "code",
   "execution_count": 22,
   "metadata": {
    "collapsed": true
   },
   "outputs": [],
   "source": [
    "def multi_normal_samples(mu, std, num_samples):\n",
    "    \"\"\"\n",
    "    Sampling from a normal distribution with multiple mean and std\n",
    "    \"\"\"\n",
    "    samples = np.array([])\n",
    "    for i in xrange(mu.shape[0]):\n",
    "        sample = np.random.normal(mu[i], std[i], num_samples)\n",
    "        samples = np.append(samples, sample)\n",
    "    return samples"
   ]
  },
  {
   "cell_type": "code",
   "execution_count": 23,
   "metadata": {},
   "outputs": [],
   "source": [
    "def utility_samples_all_occupants(mu_list, var_list):\n",
    "    \"\"\"\n",
    "    Utility samples for all concerned occupants\n",
    "    Inputs:\n",
    "    mu_list : list of mean utility values for all occupants len(mu_list) = num of occupants\n",
    "    var_list : list of variance associated with utility values for all occupants\n",
    "    \"\"\"\n",
    "    u_samples_mat = np.zeros((len(mu_list), mu_list[0].shape[0]))\n",
    "    for i in xrange(len(mu_list)):\n",
    "        mu = mu_list[i]\n",
    "        #print mu.shape\n",
    "        var = var_list[i]\n",
    "        #print var.shape\n",
    "        std = np.sqrt(var)\n",
    "        u_sample = multi_normal_samples(mu, std, 1)\n",
    "        #print u_sample\n",
    "        u_samples_mat[i] = u_sample\n",
    "    return u_samples_mat"
   ]
  },
  {
   "cell_type": "code",
   "execution_count": 24,
   "metadata": {},
   "outputs": [],
   "source": [
    "from scipy.stats import norm\n",
    "def pref_prob_all_occupants(mu_list, var_list):\n",
    "    \"\"\"\n",
    "    preference probability for all occupants\n",
    "    \"\"\"\n",
    "    u_samples_mat = utility_samples_all_occupants(mu_list, var_list)\n",
    "    num_datapoints = u_samples_mat.shape[1]\n",
    "    u1 = u_samples_mat[:,:num_datapoints/2]\n",
    "    u2 = u_samples_mat[:,num_datapoints/2:]\n",
    "    u_diff = u2 - u1\n",
    "    p = norm.cdf(u_diff)\n",
    "    return p"
   ]
  },
  {
   "cell_type": "code",
   "execution_count": 25,
   "metadata": {},
   "outputs": [],
   "source": [
    "p = pref_prob_all_occupants(mu_list, var_list)"
   ]
  },
  {
   "cell_type": "code",
   "execution_count": 26,
   "metadata": {},
   "outputs": [
    {
     "data": {
      "text/plain": [
       "(3, 400)"
      ]
     },
     "execution_count": 26,
     "metadata": {},
     "output_type": "execute_result"
    }
   ],
   "source": [
    "p.shape"
   ]
  },
  {
   "cell_type": "code",
   "execution_count": 30,
   "metadata": {},
   "outputs": [
    {
     "data": {
      "text/plain": [
       "Text(0.5,1,u'Mean Predicted Preference Probability Contour Plot')"
      ]
     },
     "execution_count": 30,
     "metadata": {},
     "output_type": "execute_result"
    },
    {
     "data": {
      "image/png": "[encoded data removed]",
      "text/plain": [
       "<matplotlib.figure.Figure at 0x1a23123dd0>"
      ]
     },
     "metadata": {},
     "output_type": "display_data"
    }
   ],
   "source": [
    "mean_levels = np.linspace(0,1.)\n",
    "plt.figure(figsize=(12,10))\n",
    "mean_reshape = p[0,:].reshape((num_grid, num_grid), order='F')\n",
    "c = plt.contourf(Xt1,Xt1,mean_reshape.T,\n",
    "                 mean_levels, cmap=plt.cm.Blues)\n",
    "plt.colorbar(c)\n",
    "plt.xlabel('Previous')\n",
    "plt.ylabel('Current')\n",
    "plt.title('Mean Predicted Preference Probability Contour Plot')"
   ]
  },
  {
   "cell_type": "code",
   "execution_count": 32,
   "metadata": {},
   "outputs": [
    {
     "data": {
      "text/plain": [
       "array([[ -6.99807677e-01,   1.48656542e+00,  -7.65887938e-04],\n",
       "       [ -1.43691399e+00,  -1.52076126e-01,  -3.38526136e-04],\n",
       "       [ -1.31496583e+00,  -5.10639000e-01,   5.12938898e-04]])"
      ]
     },
     "execution_count": 32,
     "metadata": {},
     "output_type": "execute_result"
    }
   ],
   "source": [
    "W_mat = m.W.value"
   ]
  },
  {
   "cell_type": "markdown",
   "metadata": {},
   "source": [
    "## Occupant 1"
   ]
  },
  {
   "cell_type": "code",
   "execution_count": null,
   "metadata": {},
   "outputs": [],
   "source": [
    "var_list[0].shape"
   ]
  },
  {
   "cell_type": "code",
   "execution_count": null,
   "metadata": {
    "collapsed": true
   },
   "outputs": [],
   "source": []
  }
 ],
 "metadata": {
  "kernelspec": {
   "display_name": "Python [default]",
   "language": "python",
   "name": "python2"
  },
  "language_info": {
   "codemirror_mode": {
    "name": "ipython",
    "version": 2
   },
   "file_extension": ".py",
   "mimetype": "text/x-python",
   "name": "python",
   "nbconvert_exporter": "python",
   "pygments_lexer": "ipython2",
   "version": "2.7.14"
  }
 },
 "nbformat": 4,
 "nbformat_minor": 2
}
