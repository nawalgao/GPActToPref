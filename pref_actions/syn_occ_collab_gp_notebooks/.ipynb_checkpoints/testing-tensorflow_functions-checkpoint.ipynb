{
 "cells": [
  {
   "cell_type": "code",
   "execution_count": 1,
   "metadata": {},
   "outputs": [
    {
     "ename": "RuntimeError",
     "evalue": "module compiled against API version 0xb but this version of numpy is 0xa",
     "output_type": "error",
     "traceback": [
      "\u001b[0;31m---------------------------------------------------------------------------\u001b[0m",
      "\u001b[0;31mRuntimeError\u001b[0m                              Traceback (most recent call last)",
      "\u001b[0;31mRuntimeError\u001b[0m: module compiled against API version 0xb but this version of numpy is 0xa"
     ]
    },
    {
     "ename": "RuntimeError",
     "evalue": "module compiled against API version 0xb but this version of numpy is 0xa",
     "output_type": "error",
     "traceback": [
      "\u001b[0;31m---------------------------------------------------------------------------\u001b[0m",
      "\u001b[0;31mRuntimeError\u001b[0m                              Traceback (most recent call last)",
      "\u001b[0;31mRuntimeError\u001b[0m: module compiled against API version 0xb but this version of numpy is 0xa"
     ]
    }
   ],
   "source": [
    "import numpy as np\n",
    "import tensorflow as tf"
   ]
  },
  {
   "cell_type": "code",
   "execution_count": null,
   "metadata": {
    "collapsed": true
   },
   "outputs": [],
   "source": [
    "# now let's say we have observed following actions (2 actions for each occupant)\n",
    "# for occ 1 : we see from ind 0 --> ind 2 and ind 2 to ind 3\n",
    "# for occ 2 : we see from ind 0 --> ind 3 and ind 2 to ind 1\n",
    "# for occ 3 : we see from ind 1 --> ind 0 and ind 3 to ind 2\n",
    "\n",
    "# concerned matrix indices should work as follows\n",
    "# for occ 1 [0,2,2,3]\n",
    "# for occ 2 [0,2,3,1]\n",
    "# for occ 3 [1,3,0,2]\n",
    "# concerned matrix is then given as follow;\n",
    "# [1, 3, 3, 4]\n",
    "# [5, 7, 6, 8]\n",
    "# [10, 9, 12, 11]"
   ]
  },
  {
   "cell_type": "code",
   "execution_count": 3,
   "metadata": {
    "collapsed": true
   },
   "outputs": [],
   "source": [
    "values = np.array([[1,2,3,4, 13, 14],[5,8,7,6, 15, 16], [12,10,11,9, 17, 18]])\n",
    "values = tf.constant(values)\n",
    "concerned_ind_numpy = np.array([[0,2,2,3],[0,2,3,1],[1,3,0,2]])\n",
    "concerned_ind = tf.constant(concerned_ind_numpy)"
   ]
  },
  {
   "cell_type": "code",
   "execution_count": 12,
   "metadata": {
    "collapsed": true
   },
   "outputs": [],
   "source": [
    "def gather_concerned_utilities(utility_matrix, concerned_ind_mat):\n",
    "    \"\"\"\n",
    "    Gather concerned utility function values for each occupant\n",
    "    \"\"\"\n",
    "    \n",
    "    splits = tf.split(concerned_ind_mat, num_or_size_splits=concerned_ind_mat.shape[1],axis = 1)\n",
    "    res_list = []\n",
    "    for i,s in enumerate(splits):\n",
    "        print i\n",
    "        idx = tf.stack([tf.reshape(tf.range(utility_matrix.shape[0]), (-1,1)), tf.to_int32(s)], axis=-1)\n",
    "        res = tf.gather_nd(utility_matrix, idx)\n",
    "        res_flatten = tf.reshape(res, [-1])\n",
    "        res_list.append(res_flatten)\n",
    "    concerned_mat = tf.transpose(tf.stack(res_list)) \n",
    "    return concerned_mat"
   ]
  },
  {
   "cell_type": "code",
   "execution_count": 13,
   "metadata": {},
   "outputs": [
    {
     "name": "stdout",
     "output_type": "stream",
     "text": [
      "0\n",
      "1\n",
      "2\n",
      "3\n"
     ]
    }
   ],
   "source": [
    "concerned_mat = gather_concerned_utilities(values, concerned_ind)"
   ]
  },
  {
   "cell_type": "code",
   "execution_count": 14,
   "metadata": {},
   "outputs": [
    {
     "name": "stdout",
     "output_type": "stream",
     "text": [
      "[[ 1  3  3  4]\n",
      " [ 5  7  6  8]\n",
      " [10  9 12 11]]\n"
     ]
    }
   ],
   "source": [
    "with tf.Session() as sess:\n",
    "    e = sess.run(concerned_mat) \n",
    "print e"
   ]
  },
  {
   "cell_type": "code",
   "execution_count": null,
   "metadata": {
    "collapsed": true
   },
   "outputs": [],
   "source": []
  }
 ],
 "metadata": {
  "kernelspec": {
   "display_name": "Python [default]",
   "language": "python",
   "name": "python2"
  },
  "language_info": {
   "codemirror_mode": {
    "name": "ipython",
    "version": 2
   },
   "file_extension": ".py",
   "mimetype": "text/x-python",
   "name": "python",
   "nbconvert_exporter": "python",
   "pygments_lexer": "ipython2",
   "version": "2.7.14"
  }
 },
 "nbformat": 4,
 "nbformat_minor": 2
}
