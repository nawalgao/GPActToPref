{
 "cells": [
  {
   "cell_type": "code",
   "execution_count": 13,
   "metadata": {
    "collapsed": true
   },
   "outputs": [],
   "source": [
    "import gpflow\n",
    "import json\n",
    "import numpy as np\n",
    "import sys\n",
    "sys.path.append('../')\n",
    "from Misc import save_load_files\n",
    "from GPUnimodalPrefAct import predict"
   ]
  },
  {
   "cell_type": "markdown",
   "metadata": {},
   "source": [
    "# Load Trained Model Data"
   ]
  },
  {
   "cell_type": "code",
   "execution_count": 52,
   "metadata": {
    "collapsed": true
   },
   "outputs": [],
   "source": [
    "occ_num = 15"
   ]
  },
  {
   "cell_type": "code",
   "execution_count": 53,
   "metadata": {
    "collapsed": true
   },
   "outputs": [],
   "source": [
    "syn_occ_data_config_file = '../data/config_files/syn/diff_utilities_config/syn_occupants.json'\n",
    "\n",
    "with open(syn_occ_data_config_file, 'r') as fd:\n",
    "    syn_occ_data_config = json.loads(fd.read())"
   ]
  },
  {
   "cell_type": "code",
   "execution_count": 54,
   "metadata": {
    "collapsed": true
   },
   "outputs": [],
   "source": [
    "a = syn_occ_data_config['O' + str(occ_num)]['a']\n",
    "b = syn_occ_data_config['O' + str(occ_num)]['b']"
   ]
  },
  {
   "cell_type": "code",
   "execution_count": 55,
   "metadata": {
    "collapsed": true
   },
   "outputs": [],
   "source": [
    "gpflow_model_object_file = '../data/syn_data/tmp_data/model_objects/Unimodal_' + 'O_a' + str(a) + '_b' + str(b) + '.pkl'\n",
    "gpflow_samples_file = '../data/syn_data/tmp_data/samples/Unimodal_' + 'O_a' + str(a) + '_b' + str(b) + '.txt'"
   ]
  },
  {
   "cell_type": "code",
   "execution_count": 56,
   "metadata": {
    "collapsed": true
   },
   "outputs": [],
   "source": [
    "m = save_load_files.read_pickle_object(gpflow_model_object_file)\n",
    "samples = np.loadtxt(gpflow_samples_file, delimiter=',' )"
   ]
  },
  {
   "cell_type": "markdown",
   "metadata": {},
   "source": [
    "# Predict and save results"
   ]
  },
  {
   "cell_type": "code",
   "execution_count": 57,
   "metadata": {
    "collapsed": true
   },
   "outputs": [],
   "source": [
    "min_grid = 0.\n",
    "max_grid = 1.\n",
    "num_grid = 20\n",
    "\n",
    "Xt = np.linspace(min_grid, max_grid, 2*num_grid)\n",
    "Xt_norm = (Xt - 0.5)/0.5\n",
    "Xt1 = np.linspace(min_grid, max_grid, num_grid)\n",
    "Xt2 = np.linspace(min_grid, max_grid, num_grid)\n",
    "\n",
    "Xtt1, Xtt2 = np.meshgrid(Xt1, Xt2)\n",
    "X_grid = np.zeros(shape =(np.ravel(Xtt1).shape[0],2))\n",
    "X_grid[:,0] = np.ravel(Xtt1) \n",
    "X_grid[:,1] = np.ravel(Xtt2)\n",
    "\n",
    "X_grid_norm = (X_grid - 0.5)/0.5\n",
    "num_feat = X_grid_norm.shape[1]/2"
   ]
  },
  {
   "cell_type": "code",
   "execution_count": 58,
   "metadata": {
    "collapsed": true
   },
   "outputs": [],
   "source": [
    "# Finding the posterior preference probabilities at the grid points\n",
    "X_grid_norm_concat = np.vstack([X_grid_norm[:,:num_feat], X_grid_norm[:,num_feat:]])"
   ]
  },
  {
   "cell_type": "code",
   "execution_count": 59,
   "metadata": {
    "collapsed": true
   },
   "outputs": [],
   "source": [
    "grid_pred_object = predict.Predict(X_grid_norm_concat, m, samples)\n",
    "p_grid, p_mean_grid, p_var_grid = grid_pred_object.predict_p()"
   ]
  },
  {
   "cell_type": "code",
   "execution_count": 60,
   "metadata": {
    "collapsed": true
   },
   "outputs": [],
   "source": [
    "u_grid, u_mean_grid, max_ind_grid =  predict.Predict(Xt_norm[:,None], m, samples).predict_u()"
   ]
  },
  {
   "cell_type": "code",
   "execution_count": 61,
   "metadata": {
    "collapsed": true
   },
   "outputs": [],
   "source": [
    "g = predict.Predict(Xt_norm[:,None], m, samples).predict_g()"
   ]
  },
  {
   "cell_type": "code",
   "execution_count": 62,
   "metadata": {
    "collapsed": true
   },
   "outputs": [],
   "source": [
    "np.savez('../data/syn_data/tmp_data/predicted_results/Unimodal_' + 'O_a' + str(a) + '_b' + str(b) + '.npz',\n",
    "        min_grid = min_grid, max_grid = max_grid, num_grid = num_grid,\n",
    "        Xt = Xt, Xt1 = Xt1, X_grid = X_grid, X_grid_norm = X_grid_norm,\n",
    "        p_grid = p_grid, p_mean_grid = p_mean_grid, p_var_grid = p_var_grid,\n",
    "        u_grid = u_grid, u_mean_grid = u_mean_grid, max_ind_grid = max_ind_grid, g = g)"
   ]
  },
  {
   "cell_type": "code",
   "execution_count": null,
   "metadata": {
    "collapsed": true
   },
   "outputs": [],
   "source": []
  },
  {
   "cell_type": "code",
   "execution_count": null,
   "metadata": {
    "collapsed": true
   },
   "outputs": [],
   "source": []
  },
  {
   "cell_type": "code",
   "execution_count": null,
   "metadata": {
    "collapsed": true
   },
   "outputs": [],
   "source": []
  },
  {
   "cell_type": "code",
   "execution_count": null,
   "metadata": {
    "collapsed": true
   },
   "outputs": [],
   "source": []
  },
  {
   "cell_type": "code",
   "execution_count": 18,
   "metadata": {},
   "outputs": [
    {
     "name": "stdout",
     "output_type": "stream",
     "text": [
      "----------------------------------------\n",
      "Occupant number:\n",
      "5\n",
      "----------------------------------------\n",
      "Occupant number:\n",
      "6\n",
      "----------------------------------------\n",
      "Occupant number:\n",
      "7\n",
      "----------------------------------------\n",
      "Occupant number:\n",
      "8\n",
      "----------------------------------------\n",
      "Occupant number:\n",
      "9\n",
      "----------------------------------------\n",
      "Occupant number:\n",
      "10\n",
      "----------------------------------------\n",
      "Occupant number:\n",
      "11\n",
      "----------------------------------------\n",
      "Occupant number:\n",
      "12\n",
      "----------------------------------------\n",
      "Occupant number:\n",
      "13\n",
      "----------------------------------------\n",
      "Occupant number:\n",
      "14\n",
      "----------------------------------------\n",
      "Occupant number:\n",
      "15\n",
      "----------------------------------------\n",
      "Occupant number:\n",
      "16\n",
      "----------------------------------------\n",
      "Occupant number:\n",
      "17\n",
      "----------------------------------------\n",
      "Occupant number:\n",
      "18\n",
      "----------------------------------------\n",
      "Occupant number:\n",
      "19\n",
      "----------------------------------------\n",
      "Occupant number:\n",
      "20\n",
      "----------------------------------------\n",
      "Occupant number:\n",
      "21\n"
     ]
    }
   ],
   "source": [
    "for i in xrange(4, 21):\n",
    "    occ_num = i + 1\n",
    "    print '-'*40\n",
    "    print \"Occupant number:\"\n",
    "    print occ_num\n",
    "    a = syn_occ_data_config['O' + str(occ_num)]['a']\n",
    "    b = syn_occ_data_config['O' + str(occ_num)]['b']\n",
    "    \n",
    "    gpflow_model_object_file = '../data/syn_data/tmp_data/model_objects/Unimodal_' + 'O_a' + str(a) + '_b' + str(b) + '.pkl'\n",
    "    gpflow_samples_file = '../data/syn_data/tmp_data/samples/Unimodal_' + 'O_a' + str(a) + '_b' + str(b) + '.txt'\n",
    "    \n",
    "    m = save_load_files.read_pickle_object(gpflow_model_object_file)\n",
    "    samples = np.loadtxt(gpflow_samples_file, delimiter=',' )\n",
    "    \n",
    "    grid_pred_object = predict.Predict(X_grid_norm_concat, m, samples)\n",
    "    p_grid, p_mean_grid, p_var_grid = grid_pred_object.predict_p()\n",
    "    \n",
    "    u_grid, u_mean_grid, max_ind_grid =  predict.Predict(Xt_norm[:,None], m, samples).predict_u()\n",
    "    \n",
    "    g = predict.Predict(Xt_norm[:,None], m, samples).predict_g()\n",
    "    \n",
    "    np.savez('../data/syn_data/tmp_data/predicted_results/Unimodal_' + 'O_a' + str(a) + '_b' + str(b) + '.npz',\n",
    "        min_grid = min_grid, max_grid = max_grid, num_grid = num_grid,\n",
    "        Xt = Xt, Xt1 = Xt1, X_grid = X_grid, X_grid_norm = X_grid_norm,\n",
    "        p_grid = p_grid, p_mean_grid = p_mean_grid, p_var_grid = p_var_grid,\n",
    "        u_grid = u_grid, u_mean_grid = u_mean_grid, max_ind_grid = max_ind_grid, g = g)"
   ]
  },
  {
   "cell_type": "code",
   "execution_count": null,
   "metadata": {
    "collapsed": true
   },
   "outputs": [],
   "source": []
  }
 ],
 "metadata": {
  "kernelspec": {
   "display_name": "Python [default]",
   "language": "python",
   "name": "python2"
  },
  "language_info": {
   "codemirror_mode": {
    "name": "ipython",
    "version": 2
   },
   "file_extension": ".py",
   "mimetype": "text/x-python",
   "name": "python",
   "nbconvert_exporter": "python",
   "pygments_lexer": "ipython2",
   "version": "2.7.14"
  }
 },
 "nbformat": 4,
 "nbformat_minor": 2
}
