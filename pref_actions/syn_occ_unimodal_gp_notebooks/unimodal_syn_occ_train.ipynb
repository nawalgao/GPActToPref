{
 "cells": [
  {
   "cell_type": "code",
   "execution_count": 11,
   "metadata": {},
   "outputs": [],
   "source": [
    "import json\n",
    "import gpflow\n",
    "import numpy as np\n",
    "import matplotlib.pyplot as plt\n",
    "import math\n",
    "%matplotlib inline\n",
    "import seaborn as sns\n",
    "sns.set_style(\"white\")\n",
    "sns.set_context(\"paper\")\n",
    "import sys\n",
    "sys.path.append('../')\n",
    "from Misc import syn_data_gen, save_load_files\n",
    "from GPUnimodalPrefAct import train"
   ]
  },
  {
   "cell_type": "markdown",
   "metadata": {},
   "source": [
    "# Load Actions Data"
   ]
  },
  {
   "cell_type": "code",
   "execution_count": 30,
   "metadata": {
    "collapsed": true
   },
   "outputs": [],
   "source": [
    "occ_num = 15\n",
    "config_file = '../data/config_files/syn/diff_utilities_config/syn_occupants.json'\n",
    "with open(config_file, 'r') as fd:\n",
    "    config = json.loads(fd.read())\n",
    "\n",
    "a = config['O' + str(occ_num)]['a']\n",
    "b = config['O' + str(occ_num)]['b']"
   ]
  },
  {
   "cell_type": "code",
   "execution_count": 31,
   "metadata": {
    "collapsed": true
   },
   "outputs": [],
   "source": [
    "# Load actions data\n",
    "actions_data = np.loadtxt('../data/syn_data/syn_occ/occupant_duels/train/' +\n",
    "                         'O_a' + str(a) + '_b' + str(b) + '.csv', delimiter = ',')\n",
    "\n",
    "Y = np.ones(actions_data.shape[0])"
   ]
  },
  {
   "cell_type": "code",
   "execution_count": 32,
   "metadata": {},
   "outputs": [
    {
     "data": {
      "text/plain": [
       "array([[ 0.02040816,  0.75510204],\n",
       "       [ 0.87755102,  0.24489796],\n",
       "       [ 0.14285714,  0.24489796],\n",
       "       [ 0.91836735,  0.16326531],\n",
       "       [ 0.12244898,  0.18367347],\n",
       "       [ 0.2244898 ,  0.51020408],\n",
       "       [ 0.10204082,  0.40816327],\n",
       "       [ 0.30612245,  0.75510204],\n",
       "       [ 0.        ,  0.36734694],\n",
       "       [ 0.40816327,  0.32653061]])"
      ]
     },
     "execution_count": 32,
     "metadata": {},
     "output_type": "execute_result"
    }
   ],
   "source": [
    "actions_data"
   ]
  },
  {
   "cell_type": "code",
   "execution_count": 33,
   "metadata": {
    "collapsed": true
   },
   "outputs": [],
   "source": [
    "actions_data_norm = (actions_data - 0.5)/0.5"
   ]
  },
  {
   "cell_type": "markdown",
   "metadata": {},
   "source": [
    "# Train the unimodal GP Preference model"
   ]
  },
  {
   "cell_type": "code",
   "execution_count": 34,
   "metadata": {
    "collapsed": true
   },
   "outputs": [],
   "source": [
    "syn_train_config_file = '../data/config_files/train_params/config_file.json'"
   ]
  },
  {
   "cell_type": "code",
   "execution_count": 35,
   "metadata": {
    "collapsed": true
   },
   "outputs": [],
   "source": [
    "X_prime = np.linspace(0, 1, 15)[:,None]"
   ]
  },
  {
   "cell_type": "code",
   "execution_count": 36,
   "metadata": {},
   "outputs": [
    {
     "name": "stdout",
     "output_type": "stream",
     "text": [
      "----------------------------------------\n",
      "Unimodal GP model\n",
      "----------------------------------------\n"
     ]
    }
   ],
   "source": [
    "train_obj = train.Train(actions_data_norm, Y, X_prime, syn_train_config_file)"
   ]
  },
  {
   "cell_type": "code",
   "execution_count": 37,
   "metadata": {},
   "outputs": [
    {
     "name": "stdout",
     "output_type": "stream",
     "text": [
      "burn-in sampling started\n",
      "Iteration:  100 \t Acc Rate:  29.0 %\n",
      "Iteration:  200 \t Acc Rate:  42.0 %\n",
      "Iteration:  300 \t Acc Rate:  26.0 %\n",
      "Iteration:  400 \t Acc Rate:  26.0 %\n",
      "Iteration:  500 \t Acc Rate:  18.0 %\n",
      "Iteration:  600 \t Acc Rate:  35.0 %\n",
      "Iteration:  700 \t Acc Rate:  38.0 %\n",
      "Iteration:  800 \t Acc Rate:  25.0 %\n",
      "Iteration:  900 \t Acc Rate:  42.0 %\n",
      "Iteration:  1000 \t Acc Rate:  26.0 %\n",
      "burn-in sampling ended\n",
      "Iteration:  100 \t Acc Rate:  19.0 %\n",
      "Iteration:  200 \t Acc Rate:  29.0 %\n",
      "Iteration:  300 \t Acc Rate:  44.0 %\n",
      "Iteration:  400 \t Acc Rate:  42.0 %\n",
      "Iteration:  500 \t Acc Rate:  40.0 %\n",
      "Iteration:  600 \t Acc Rate:  18.0 %\n",
      "Iteration:  700 \t Acc Rate:  38.0 %\n",
      "Iteration:  800 \t Acc Rate:  24.0 %\n",
      "Iteration:  900 \t Acc Rate:  36.0 %\n",
      "Iteration:  1000 \t Acc Rate:  37.0 %\n",
      "Iteration:  1100 \t Acc Rate:  26.0 %\n",
      "Iteration:  1200 \t Acc Rate:  39.0 %\n",
      "Iteration:  1300 \t Acc Rate:  24.0 %\n",
      "Iteration:  1400 \t Acc Rate:  25.0 %\n",
      "Iteration:  1500 \t Acc Rate:  15.0 %\n",
      "Iteration:  1600 \t Acc Rate:  28.0 %\n",
      "Iteration:  1700 \t Acc Rate:  33.0 %\n",
      "Iteration:  1800 \t Acc Rate:  44.0 %\n",
      "Iteration:  1900 \t Acc Rate:  33.0 %\n",
      "Iteration:  2000 \t Acc Rate:  46.0 %\n",
      "Iteration:  2100 \t Acc Rate:  27.0 %\n",
      "Iteration:  2200 \t Acc Rate:  33.0 %\n",
      "Iteration:  2300 \t Acc Rate:  20.0 %\n",
      "Iteration:  2400 \t Acc Rate:  27.0 %\n",
      "Iteration:  2500 \t Acc Rate:  30.0 %\n",
      "Iteration:  2600 \t Acc Rate:  41.0 %\n",
      "Iteration:  2700 \t Acc Rate:  28.0 %\n",
      "Iteration:  2800 \t Acc Rate:  30.0 %\n",
      "Iteration:  2900 \t Acc Rate:  48.0 %\n",
      "Iteration:  3000 \t Acc Rate:  33.0 %\n",
      "Iteration:  3100 \t Acc Rate:  23.0 %\n",
      "Iteration:  3200 \t Acc Rate:  23.0 %\n",
      "Iteration:  3300 \t Acc Rate:  40.0 %\n",
      "Iteration:  3400 \t Acc Rate:  41.0 %\n",
      "Iteration:  3500 \t Acc Rate:  28.0 %\n",
      "Iteration:  3600 \t Acc Rate:  33.0 %\n",
      "Iteration:  3700 \t Acc Rate:  42.0 %\n",
      "Iteration:  3800 \t Acc Rate:  33.0 %\n",
      "Iteration:  3900 \t Acc Rate:  31.0 %\n",
      "Iteration:  4000 \t Acc Rate:  36.0 %\n",
      "Iteration:  4100 \t Acc Rate:  43.0 %\n",
      "Iteration:  4200 \t Acc Rate:  30.0 %\n",
      "Iteration:  4300 \t Acc Rate:  31.0 %\n",
      "Iteration:  4400 \t Acc Rate:  21.0 %\n",
      "Iteration:  4500 \t Acc Rate:  34.0 %\n",
      "Iteration:  4600 \t Acc Rate:  21.0 %\n",
      "Iteration:  4700 \t Acc Rate:  24.0 %\n",
      "Iteration:  4800 \t Acc Rate:  32.0 %\n",
      "Iteration:  4900 \t Acc Rate:  37.0 %\n",
      "Iteration:  5000 \t Acc Rate:  29.0 %\n",
      "Iteration:  5100 \t Acc Rate:  40.0 %\n",
      "Iteration:  5200 \t Acc Rate:  32.0 %\n",
      "Iteration:  5300 \t Acc Rate:  13.0 %\n",
      "Iteration:  5400 \t Acc Rate:  24.0 %\n",
      "Iteration:  5500 \t Acc Rate:  33.0 %\n",
      "warning: numerical instability.                  Rejecting this proposal prematurely\n",
      "Iteration:  5600 \t Acc Rate:  23.0 %\n",
      "Iteration:  5700 \t Acc Rate:  24.0 %\n",
      "Iteration:  5800 \t Acc Rate:  30.0 %\n",
      "Iteration:  5900 \t Acc Rate:  31.0 %\n",
      "Iteration:  6000 \t Acc Rate:  26.0 %\n",
      "Iteration:  6100 \t Acc Rate:  19.0 %\n",
      "Iteration:  6200 \t Acc Rate:  41.0 %\n",
      "Iteration:  6300 \t Acc Rate:  29.0 %\n",
      "Iteration:  6400 \t Acc Rate:  17.0 %\n",
      "Iteration:  6500 \t Acc Rate:  26.0 %\n",
      "Iteration:  6600 \t Acc Rate:  43.0 %\n",
      "Iteration:  6700 \t Acc Rate:  22.0 %\n",
      "Iteration:  6800 \t Acc Rate:  24.0 %\n",
      "Iteration:  6900 \t Acc Rate:  30.0 %\n",
      "Iteration:  7000 \t Acc Rate:  27.0 %\n",
      "Iteration:  7100 \t Acc Rate:  42.0 %\n",
      "Iteration:  7200 \t Acc Rate:  33.0 %\n",
      "Iteration:  7300 \t Acc Rate:  35.0 %\n",
      "Iteration:  7400 \t Acc Rate:  40.0 %\n",
      "Iteration:  7500 \t Acc Rate:  39.0 %\n",
      "Iteration:  7600 \t Acc Rate:  36.0 %\n",
      "Iteration:  7700 \t Acc Rate:  39.0 %\n",
      "Iteration:  7800 \t Acc Rate:  30.0 %\n",
      "Iteration:  7900 \t Acc Rate:  26.0 %\n",
      "Iteration:  8000 \t Acc Rate:  35.0 %\n",
      "Iteration:  8100 \t Acc Rate:  33.0 %\n",
      "Iteration:  8200 \t Acc Rate:  38.0 %\n",
      "Iteration:  8300 \t Acc Rate:  24.0 %\n",
      "Iteration:  8400 \t Acc Rate:  34.0 %\n",
      "Iteration:  8500 \t Acc Rate:  19.0 %\n",
      "Iteration:  8600 \t Acc Rate:  48.0 %\n",
      "Iteration:  8700 \t Acc Rate:  35.0 %\n",
      "Iteration:  8800 \t Acc Rate:  44.0 %\n",
      "Iteration:  8900 \t Acc Rate:  31.0 %\n",
      "Iteration:  9000 \t Acc Rate:  46.0 %\n",
      "Iteration:  9100 \t Acc Rate:  35.0 %\n",
      "Iteration:  9200 \t Acc Rate:  22.0 %\n",
      "Iteration:  9300 \t Acc Rate:  28.0 %\n",
      "Iteration:  9400 \t Acc Rate:  29.0 %\n",
      "Iteration:  9500 \t Acc Rate:  32.0 %\n",
      "Iteration:  9600 \t Acc Rate:  29.0 %\n",
      "Iteration:  9700 \t Acc Rate:  10.0 %\n",
      "Iteration:  9800 \t Acc Rate:  26.0 %\n",
      "Iteration:  9900 \t Acc Rate:  38.0 %\n",
      "Iteration:  10000 \t Acc Rate:  35.0 %\n"
     ]
    }
   ],
   "source": [
    "m, samples = train_obj.mcmc()"
   ]
  },
  {
   "cell_type": "code",
   "execution_count": 38,
   "metadata": {
    "collapsed": true
   },
   "outputs": [],
   "source": [
    "# Save samples and model objects\n",
    "save_load_files.save_object(m, \n",
    "                           '../data/syn_data/tmp_data/model_objects/Unimodal_' +\n",
    "                         'O_a' + str(a) + '_b' + str(b) + '.pkl')\n",
    "np.savetxt('../data/syn_data/tmp_data/samples/Unimodal_' +\n",
    "           'O_a' + str(a) + '_b' + str(b) + '.txt', samples, delimiter = ',')"
   ]
  },
  {
   "cell_type": "code",
   "execution_count": null,
   "metadata": {
    "collapsed": true
   },
   "outputs": [],
   "source": [
    "X_prime = np.linspace(0, 1, 12)[:,None]"
   ]
  },
  {
   "cell_type": "code",
   "execution_count": null,
   "metadata": {
    "collapsed": true
   },
   "outputs": [],
   "source": []
  },
  {
   "cell_type": "code",
   "execution_count": null,
   "metadata": {
    "collapsed": true
   },
   "outputs": [],
   "source": []
  },
  {
   "cell_type": "code",
   "execution_count": null,
   "metadata": {
    "collapsed": true
   },
   "outputs": [],
   "source": []
  },
  {
   "cell_type": "code",
   "execution_count": null,
   "metadata": {
    "collapsed": true
   },
   "outputs": [],
   "source": []
  },
  {
   "cell_type": "code",
   "execution_count": null,
   "metadata": {
    "collapsed": true
   },
   "outputs": [],
   "source": [
    "for i in xrange(5,21):\n",
    "    occ_num = i + 1\n",
    "    print '-'*40\n",
    "    print \"Occupant number:\"\n",
    "    print occ_num\n",
    "   \n",
    "    config_file = '../data/config_files/syn/diff_utilities_config/syn_occupants.json'\n",
    "    with open(config_file, 'r') as fd:\n",
    "        config = json.loads(fd.read())\n",
    "\n",
    "    a = config['O' + str(occ_num)]['a']\n",
    "    b = config['O' + str(occ_num)]['b']\n",
    "    print 'a:'\n",
    "    print a\n",
    "    print 'b'\n",
    "    print b\n",
    "    print '-'*40\n",
    "    # Load actions data\n",
    "    actions_data = np.loadtxt('../data/syn_data/syn_occ/occupant_duels/train/' +\n",
    "                         'O_a' + str(a) + '_b' + str(b) + '.csv', delimiter = ',')\n",
    "\n",
    "    Y = np.ones(actions_data.shape[0])\n",
    "    \n",
    "    actions_data_norm = (actions_data - 0.5)/0.5\n",
    "    \n",
    "    train_obj = train.Train(actions_data_norm, Y, X_prime, syn_train_config_file)\n",
    "    m, samples = train_obj.mcmc()\n",
    "    \n",
    "    # Save samples and model objects\n",
    "    save_load_files.save_object(m, \n",
    "                           '../data/syn_data/tmp_data/model_objects/Unimodal_' +\n",
    "                         'O_a' + str(a) + '_b' + str(b) + '.pkl')\n",
    "    np.savetxt('../data/syn_data/tmp_data/samples/Unimodal_' +\n",
    "           'O_a' + str(a) + '_b' + str(b) + '.txt', samples, delimiter = ',')"
   ]
  },
  {
   "cell_type": "code",
   "execution_count": null,
   "metadata": {
    "collapsed": true
   },
   "outputs": [],
   "source": []
  }
 ],
 "metadata": {
  "kernelspec": {
   "display_name": "Python [default]",
   "language": "python",
   "name": "python2"
  },
  "language_info": {
   "codemirror_mode": {
    "name": "ipython",
    "version": 2
   },
   "file_extension": ".py",
   "mimetype": "text/x-python",
   "name": "python",
   "nbconvert_exporter": "python",
   "pygments_lexer": "ipython2",
   "version": "2.7.14"
  }
 },
 "nbformat": 4,
 "nbformat_minor": 2
}
