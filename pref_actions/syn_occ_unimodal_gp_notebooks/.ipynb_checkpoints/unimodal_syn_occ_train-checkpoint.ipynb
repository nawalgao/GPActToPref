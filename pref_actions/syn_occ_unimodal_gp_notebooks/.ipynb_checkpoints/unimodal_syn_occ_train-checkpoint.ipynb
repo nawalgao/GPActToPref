{
 "cells": [
  {
   "cell_type": "code",
   "execution_count": 1,
   "metadata": {},
   "outputs": [
    {
     "ename": "RuntimeError",
     "evalue": "module compiled against API version 0xb but this version of numpy is 0xa",
     "output_type": "error",
     "traceback": [
      "\u001b[0;31m---------------------------------------------------------------------------\u001b[0m",
      "\u001b[0;31mRuntimeError\u001b[0m                              Traceback (most recent call last)",
      "\u001b[0;31mRuntimeError\u001b[0m: module compiled against API version 0xb but this version of numpy is 0xa"
     ]
    },
    {
     "ename": "RuntimeError",
     "evalue": "module compiled against API version 0xb but this version of numpy is 0xa",
     "output_type": "error",
     "traceback": [
      "\u001b[0;31m---------------------------------------------------------------------------\u001b[0m",
      "\u001b[0;31mRuntimeError\u001b[0m                              Traceback (most recent call last)",
      "\u001b[0;31mRuntimeError\u001b[0m: module compiled against API version 0xb but this version of numpy is 0xa"
     ]
    }
   ],
   "source": [
    "import json\n",
    "import gpflow\n",
    "import numpy as np\n",
    "import matplotlib.pyplot as plt\n",
    "import math\n",
    "%matplotlib inline\n",
    "import seaborn as sns\n",
    "sns.set_style(\"white\")\n",
    "sns.set_context(\"paper\")\n",
    "import sys\n",
    "sys.path.append('../')\n",
    "from Misc import syn_data_gen, save_load_files\n",
    "from GPUnimodalPrefAct import train"
   ]
  },
  {
   "cell_type": "markdown",
   "metadata": {},
   "source": [
    "# Load Actions Data"
   ]
  },
  {
   "cell_type": "code",
   "execution_count": 2,
   "metadata": {
    "collapsed": true
   },
   "outputs": [],
   "source": [
    "occ_num = 5\n",
    "config_file = '../data/config_files/syn/diff_utilities_config/syn_occupants.json'\n",
    "with open(config_file, 'r') as fd:\n",
    "    config = json.loads(fd.read())\n",
    "\n",
    "a = config['O' + str(occ_num)]['a']\n",
    "b = config['O' + str(occ_num)]['b']"
   ]
  },
  {
   "cell_type": "code",
   "execution_count": 3,
   "metadata": {
    "collapsed": true
   },
   "outputs": [],
   "source": [
    "# Load actions data\n",
    "actions_data = np.loadtxt('../data/syn_data/syn_occ/occupant_duels/train/' +\n",
    "                         'O_a' + str(a) + '_b' + str(b) + '.csv', delimiter = ',')\n",
    "\n",
    "Y = np.ones(actions_data.shape[0])"
   ]
  },
  {
   "cell_type": "code",
   "execution_count": 4,
   "metadata": {},
   "outputs": [
    {
     "data": {
      "text/plain": [
       "array([[ 0.02040816,  0.75510204],\n",
       "       [ 0.24489796,  0.87755102],\n",
       "       [ 0.14285714,  0.24489796],\n",
       "       [ 0.16326531,  0.91836735],\n",
       "       [ 0.12244898,  0.18367347],\n",
       "       [ 0.2244898 ,  0.51020408],\n",
       "       [ 0.10204082,  0.40816327],\n",
       "       [ 0.30612245,  0.75510204],\n",
       "       [ 0.        ,  0.36734694],\n",
       "       [ 0.40816327,  0.32653061]])"
      ]
     },
     "execution_count": 4,
     "metadata": {},
     "output_type": "execute_result"
    }
   ],
   "source": [
    "actions_data"
   ]
  },
  {
   "cell_type": "code",
   "execution_count": 5,
   "metadata": {
    "collapsed": true
   },
   "outputs": [],
   "source": [
    "actions_data_norm = (actions_data - 0.5)/0.5"
   ]
  },
  {
   "cell_type": "markdown",
   "metadata": {},
   "source": [
    "# Train the unimodal GP Preference model"
   ]
  },
  {
   "cell_type": "code",
   "execution_count": 6,
   "metadata": {
    "collapsed": true
   },
   "outputs": [],
   "source": [
    "syn_train_config_file = '../data/config_files/train_params/config_file.json'"
   ]
  },
  {
   "cell_type": "code",
   "execution_count": 7,
   "metadata": {
    "collapsed": true
   },
   "outputs": [],
   "source": [
    "X_prime = np.linspace(0, 1, 15)[:,None]"
   ]
  },
  {
   "cell_type": "code",
   "execution_count": 8,
   "metadata": {},
   "outputs": [
    {
     "name": "stdout",
     "output_type": "stream",
     "text": [
      "----------------------------------------\n",
      "Unimodal GP model\n",
      "----------------------------------------\n"
     ]
    }
   ],
   "source": [
    "train_obj = train.Train(actions_data_norm, Y, X_prime, syn_train_config_file)"
   ]
  },
  {
   "cell_type": "code",
   "execution_count": null,
   "metadata": {},
   "outputs": [
    {
     "name": "stdout",
     "output_type": "stream",
     "text": [
      "burn-in sampling started\n",
      "Iteration:  100 \t Acc Rate:  58.0 %\n",
      "Iteration:  200 \t Acc Rate:  53.0 %\n",
      "Iteration:  300 \t Acc Rate:  37.0 %\n",
      "Iteration:  400 \t Acc Rate:  34.0 %\n",
      "Iteration:  500 \t Acc Rate:  47.0 %\n",
      "Iteration:  600 \t Acc Rate:  56.0 %\n",
      "Iteration:  700 \t Acc Rate:  59.0 %\n",
      "Iteration:  800 \t Acc Rate:  42.0 %\n",
      "Iteration:  900 \t Acc Rate:  31.0 %\n",
      "Iteration:  1000 \t Acc Rate:  45.0 %\n",
      "burn-in sampling ended\n",
      "Iteration:  100 \t Acc Rate:  35.0 %\n",
      "Iteration:  200 \t Acc Rate:  51.0 %\n",
      "Iteration:  300 \t Acc Rate:  53.0 %\n",
      "Iteration:  400 \t Acc Rate:  56.0 %\n",
      "Iteration:  500 \t Acc Rate:  58.0 %\n",
      "Iteration:  600 \t Acc Rate:  58.0 %\n",
      "Iteration:  700 \t Acc Rate:  56.0 %\n",
      "Iteration:  800 \t Acc Rate:  35.0 %\n",
      "Iteration:  900 \t Acc Rate:  46.0 %\n",
      "Iteration:  1000 \t Acc Rate:  39.0 %\n",
      "Iteration:  1100 \t Acc Rate:  38.0 %\n",
      "Iteration:  1200 \t Acc Rate:  31.0 %\n",
      "Iteration:  1300 \t Acc Rate:  45.0 %\n",
      "Iteration:  1400 \t Acc Rate:  46.0 %\n",
      "Iteration:  1500 \t Acc Rate:  56.0 %\n",
      "Iteration:  1600 \t Acc Rate:  58.0 %\n",
      "Iteration:  1700 \t Acc Rate:  55.0 %\n",
      "Iteration:  1800 \t Acc Rate:  53.0 %\n",
      "Iteration:  1900 \t Acc Rate:  66.0 %\n",
      "Iteration:  2000 \t Acc Rate:  53.0 %\n",
      "Iteration:  2100 \t Acc Rate:  53.0 %\n",
      "Iteration:  2200 \t Acc Rate:  38.0 %\n",
      "Iteration:  2300 \t Acc Rate:  44.0 %\n",
      "Iteration:  2400 \t Acc Rate:  48.0 %\n",
      "Iteration:  2500 \t Acc Rate:  38.0 %\n",
      "Iteration:  2600 \t Acc Rate:  30.0 %\n",
      "Iteration:  2700 \t Acc Rate:  14.0 %\n",
      "Iteration:  2800 \t Acc Rate:  22.0 %\n"
     ]
    }
   ],
   "source": [
    "m, samples = train_obj.mcmc()"
   ]
  },
  {
   "cell_type": "code",
   "execution_count": null,
   "metadata": {
    "collapsed": true
   },
   "outputs": [],
   "source": [
    "# Save samples and model objects\n",
    "save_load_files.save_object(m, \n",
    "                           '../data/syn_data/tmp_data/model_objects/Unimodal_' +\n",
    "                         'O_a' + str(a) + '_b' + str(b) + '.pkl')\n",
    "np.savetxt('../data/syn_data/tmp_data/samples/Unimodal_' +\n",
    "           'O_a' + str(a) + '_b' + str(b) + '.txt', samples, delimiter = ',')"
   ]
  },
  {
   "cell_type": "code",
   "execution_count": null,
   "metadata": {
    "collapsed": true
   },
   "outputs": [],
   "source": [
    "X_prime = np.linspace(0, 1, 12)[:,None]"
   ]
  },
  {
   "cell_type": "code",
   "execution_count": null,
   "metadata": {},
   "outputs": [],
   "source": [
    "for i in xrange(5,21):\n",
    "    occ_num = i + 1\n",
    "    print '-'*40\n",
    "    print \"Occupant number:\"\n",
    "    print occ_num\n",
    "   \n",
    "    config_file = '../data/config_files/syn/diff_utilities_config/syn_occupants.json'\n",
    "    with open(config_file, 'r') as fd:\n",
    "        config = json.loads(fd.read())\n",
    "\n",
    "    a = config['O' + str(occ_num)]['a']\n",
    "    b = config['O' + str(occ_num)]['b']\n",
    "    print 'a:'\n",
    "    print a\n",
    "    print 'b'\n",
    "    print b\n",
    "    print '-'*40\n",
    "    # Load actions data\n",
    "    actions_data = np.loadtxt('../data/syn_data/syn_occ/occupant_duels/train/' +\n",
    "                         'O_a' + str(a) + '_b' + str(b) + '.csv', delimiter = ',')\n",
    "\n",
    "    Y = np.ones(actions_data.shape[0])\n",
    "    \n",
    "    actions_data_norm = (actions_data - 0.5)/0.5\n",
    "    \n",
    "    train_obj = train.Train(actions_data_norm, Y, X_prime, syn_train_config_file)\n",
    "    m, samples = train_obj.mcmc()\n",
    "    \n",
    "    # Save samples and model objects\n",
    "    save_load_files.save_object(m, \n",
    "                           '../data/syn_data/tmp_data/model_objects/Unimodal_' +\n",
    "                         'O_a' + str(a) + '_b' + str(b) + '.pkl')\n",
    "    np.savetxt('../data/syn_data/tmp_data/samples/Unimodal_' +\n",
    "           'O_a' + str(a) + '_b' + str(b) + '.txt', samples, delimiter = ',')"
   ]
  },
  {
   "cell_type": "code",
   "execution_count": null,
   "metadata": {
    "collapsed": true
   },
   "outputs": [],
   "source": []
  }
 ],
 "metadata": {
  "kernelspec": {
   "display_name": "Python [default]",
   "language": "python",
   "name": "python2"
  },
  "language_info": {
   "codemirror_mode": {
    "name": "ipython",
    "version": 2
   },
   "file_extension": ".py",
   "mimetype": "text/x-python",
   "name": "python",
   "nbconvert_exporter": "python",
   "pygments_lexer": "ipython2",
   "version": "2.7.14"
  }
 },
 "nbformat": 4,
 "nbformat_minor": 2
}
